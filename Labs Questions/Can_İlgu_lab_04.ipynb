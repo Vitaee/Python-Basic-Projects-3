{
 "cells": [
  {
   "cell_type": "markdown",
   "metadata": {},
   "source": [
    "### __Please enter your name and student ID in the box below and save the notebook__"
   ]
  },
  {
   "cell_type": "raw",
   "metadata": {},
   "source": [
    "Can İlgu\n",
    "\n",
    "20190192"
   ]
  },
  {
   "cell_type": "markdown",
   "metadata": {},
   "source": [
    "---"
   ]
  },
  {
   "cell_type": "markdown",
   "metadata": {},
   "source": [
    "# __ECC102 &ndash; Lab 04 _(Week of October 22, 2019)__\n",
    "---\n",
    "In this lab, you will be working on the `str.format()` statement, which allows us to format strings according to our needs. In addition, you will be practicing writing Python functions."
   ]
  },
  {
   "cell_type": "markdown",
   "metadata": {},
   "source": [
    "## __Task 1__ _(60 mins)_\n",
    "\n",
    "In this task, you will be practicing the magical _modulus operator_, `%`. You must get the idea behind this operator in order for you to be able to employ the _modulus operator_ whenever needed. Remember that a problem need not mention explicitly, and, in all likelihood, it never will, that this operator is to be used. You must be capable of thinking of using this magical operator when it is necessary to do so.\n",
    "\n",
    "Remember, that, in class, we said that the modulus operator can be thought of as an _\"every `n`\"_ operator.\n",
    "\n",
    "Keep in mind that\n",
    "\n",
    "$$\n",
    "a\\ \\%\\ n = [1 .. (n - 1)]\n",
    "$$\n",
    "    \n",
    "always. Why so? We can demonstrate this idea easily with an example:"
   ]
  },
  {
   "cell_type": "code",
   "execution_count": 42,
   "metadata": {},
   "outputs": [
    {
     "name": "stdout",
     "output_type": "stream",
     "text": [
      "--------------------------------------------------------------------------------\n",
      " 0 %  5 =  0\n",
      " 1 %  5 =  1\n",
      " 2 %  5 =  2\n",
      " 3 %  5 =  3\n",
      " 4 %  5 =  4\n",
      "--------------------------------------------------------------------------------\n",
      " 5 %  5 =  0\n",
      " 6 %  5 =  1\n",
      " 7 %  5 =  2\n",
      " 8 %  5 =  3\n",
      " 9 %  5 =  4\n",
      "--------------------------------------------------------------------------------\n",
      "10 %  5 =  0\n",
      "11 %  5 =  1\n",
      "12 %  5 =  2\n",
      "13 %  5 =  3\n",
      "14 %  5 =  4\n",
      "--------------------------------------------------------------------------------\n",
      "15 %  5 =  0\n",
      "16 %  5 =  1\n",
      "17 %  5 =  2\n",
      "18 %  5 =  3\n",
      "19 %  5 =  4\n"
     ]
    }
   ],
   "source": [
    "n = 5\n",
    "for a in range( 20 ):\n",
    "    #\n",
    "    remainder = a % n\n",
    "    if remainder == 0:\n",
    "        # Perfect division by n\n",
    "        print( \"-\" * 80 )\n",
    "    print( \"{:2d} % {:2d} = {:2d}\".format( a, n, remainder ))"
   ]
  },
  {
   "cell_type": "markdown",
   "metadata": {},
   "source": [
    "At times, we need the result of the division operator, the quotient, in addition to the remainder value from that division. In such cases, we use the `divmod()` function, instead of using modulus operator and carrying out a separate division ourselves. \n",
    "\n",
    "Note that `divmod()` returns two values, first the quotient, then the remainder. We can capture both values by providing two variables on the left-hand-side of the assignment statement as done below:"
   ]
  },
  {
   "cell_type": "code",
   "execution_count": 43,
   "metadata": {},
   "outputs": [
    {
     "name": "stdout",
     "output_type": "stream",
     "text": [
      "q=5, r=2\n"
     ]
    }
   ],
   "source": [
    "q, r = divmod( 37, 7 )\n",
    "print( \"q={}, r={}\".format( q, r ) )"
   ]
  },
  {
   "cell_type": "markdown",
   "metadata": {},
   "source": [
    "Change the values passed to `divmod()` above and re-run the code to appreciate how this function works.\n",
    "\n",
    "Note that `divmod( a, n )` is equivalent to doing the following:\n",
    "\n",
    "        q = a // n\n",
    "        r = a % n\n",
    "        \n",
    "Now, run the following exercise. Play with the arguments passed to `divmod()` and re-run the code to study what is happening.        "
   ]
  },
  {
   "cell_type": "code",
   "execution_count": 44,
   "metadata": {},
   "outputs": [
    {
     "name": "stdout",
     "output_type": "stream",
     "text": [
      "--------------------------------------------------------------------------------\n",
      "divmod(  0,  5 ) --> q=0, r=0\n",
      "divmod(  1,  5 ) --> q=0, r=1\n",
      "divmod(  2,  5 ) --> q=0, r=2\n",
      "divmod(  3,  5 ) --> q=0, r=3\n",
      "divmod(  4,  5 ) --> q=0, r=4\n",
      "--------------------------------------------------------------------------------\n",
      "divmod(  5,  5 ) --> q=1, r=0\n",
      "divmod(  6,  5 ) --> q=1, r=1\n",
      "divmod(  7,  5 ) --> q=1, r=2\n",
      "divmod(  8,  5 ) --> q=1, r=3\n",
      "divmod(  9,  5 ) --> q=1, r=4\n",
      "--------------------------------------------------------------------------------\n",
      "divmod( 10,  5 ) --> q=2, r=0\n",
      "divmod( 11,  5 ) --> q=2, r=1\n",
      "divmod( 12,  5 ) --> q=2, r=2\n",
      "divmod( 13,  5 ) --> q=2, r=3\n",
      "divmod( 14,  5 ) --> q=2, r=4\n",
      "--------------------------------------------------------------------------------\n",
      "divmod( 15,  5 ) --> q=3, r=0\n",
      "divmod( 16,  5 ) --> q=3, r=1\n",
      "divmod( 17,  5 ) --> q=3, r=2\n",
      "divmod( 18,  5 ) --> q=3, r=3\n",
      "divmod( 19,  5 ) --> q=3, r=4\n"
     ]
    }
   ],
   "source": [
    "n = 5\n",
    "for a in range( 20 ):\n",
    "    #\n",
    "    quotient, remainder = divmod( a, n )\n",
    "    if remainder == 0:\n",
    "        # Perfect division by n\n",
    "        print( \"-\" * 80 )\n",
    "    print( \"divmod( {:2d}, {:2d} ) --> q={}, r={}\".format( a, n, quotient, remainder ))"
   ]
  },
  {
   "cell_type": "markdown",
   "metadata": {},
   "source": [
    "## __EXERCISES &ndash; Set A__ _(3 questions)_\n",
    "-----------------\n",
    "Now solve the following exercises on your own"
   ]
  },
  {
   "cell_type": "markdown",
   "metadata": {},
   "source": [
    "__L04.1:__ \n",
    "\n",
    "Write a function that that returns `True` when any given integer value, `a`, is divisible by another integer value, `n`, and `False` otherwise.\n",
    "\n",
    "The test cases below should work as specified."
   ]
  },
  {
   "cell_type": "code",
   "execution_count": 7,
   "metadata": {},
   "outputs": [
    {
     "name": "stdout",
     "output_type": "stream",
     "text": [
      "True\n",
      "False\n",
      "False\n",
      "True\n",
      "False\n"
     ]
    }
   ],
   "source": [
    "def divisible_by( a, n ):\n",
    "    return True if a % n == 0 else False\n",
    "    \n",
    "\n",
    "print( divisible_by( 10, 2 ) )   # Should print out: True\n",
    "print( divisible_by( 10, 3 ) )   # Should print out: False\n",
    "print( divisible_by( 22, 4 ) )   # Should print out: False\n",
    "print( divisible_by( 250, 50 ) ) # Should print out: True\n",
    "print( divisible_by( 101, 37 ) ) # Should print out: False"
   ]
  },
  {
   "cell_type": "markdown",
   "metadata": {},
   "source": [
    "----\n",
    "__L04.2:__\n",
    "\n",
    "Write a function\n",
    "\n",
    "        def is_even( int_value )\n",
    "        \n",
    "that returns `True` when the provided integer value is even."
   ]
  },
  {
   "cell_type": "code",
   "execution_count": 4,
   "metadata": {},
   "outputs": [
    {
     "name": "stdout",
     "output_type": "stream",
     "text": [
      "True\n",
      "True\n",
      "False\n",
      "False\n"
     ]
    }
   ],
   "source": [
    "def is_even( int_value ):\n",
    "    return int_value % 2 == 0\n",
    "\n",
    "print( is_even( 4 ) )  # should return True\n",
    "print( is_even( 28 ) ) # should return True\n",
    "print( is_even( 39 ) ) # should return False\n",
    "print( is_even( 1 ) )  # should return False"
   ]
  },
  {
   "cell_type": "markdown",
   "metadata": {},
   "source": [
    "----\n",
    "__L04.3:__\n",
    "\n",
    "Write a function\n",
    "\n",
    "        def is_odd( int_value )\n",
    "        \n",
    "that returns `True` when the provided integer value is odd."
   ]
  },
  {
   "cell_type": "code",
   "execution_count": 6,
   "metadata": {},
   "outputs": [
    {
     "name": "stdout",
     "output_type": "stream",
     "text": [
      "False\n",
      "False\n",
      "True\n",
      "True\n"
     ]
    }
   ],
   "source": [
    "def is_odd( int_value ):\n",
    "    return int_value % 2 == 1\n",
    "\n",
    "print( is_odd( 4 ) )  # should return False\n",
    "print( is_odd( 28 ) ) # should return False\n",
    "print( is_odd( 39 ) ) # should return True\n",
    "print( is_odd( 1 ) )  # should return True"
   ]
  },
  {
   "cell_type": "markdown",
   "metadata": {},
   "source": [
    "## __Task 2__ _(60 mins)_\n",
    "\n",
    "### Conditional Execution\n",
    "\n",
    "As we have demonstrated above, conditional execution is a central to writing computer programs.\n",
    "\n",
    "The general format of the Python if-statment is\n",
    "\n",
    "\n",
    "        if <condition_1>:\n",
    "            #\n",
    "            <Do something here for condition_1 being true>\n",
    "\n",
    "        elif <condition_2>:\n",
    "            #\n",
    "            <Do something here for condition_2 being true>\n",
    "\n",
    "        elif <condition_3>:\n",
    "            #\n",
    "            <Do something here for condition_3 being true>\n",
    "        .\n",
    "        .\n",
    "        .\n",
    "        elif <condition_N>:\n",
    "            #\n",
    "            <Do something here for condition_N being true>\n",
    "           \n",
    "        else:\n",
    "            <Since nothing else is true, do something default here>\n",
    "            \n",
    "Note the progression of `if`, followed by any number of `elif`s, and finally the default case implemented using `else.`\n",
    "\n",
    "Using logical and relational operators, we can write rich coniditional statements to solve real-world problems. Consider the following pseudo-code:\n",
    "\n",
    "        if valve == closed and pressure > 100 bars:\n",
    "            #\n",
    "            open_the_value( ... )\n",
    "\n",
    "In a modern case, you may have the following:\n",
    "\n",
    "        if speed_limit == 100 kmh and vehicle_speed > 100:\n",
    "            #\n",
    "            warn_driver( \"Going over posted speed limit of 100 kmh!\" )\n",
    "            \n",
    "Study the following conversions from English sentences to Python code:"
   ]
  },
  {
   "cell_type": "code",
   "execution_count": 48,
   "metadata": {},
   "outputs": [
    {
     "name": "stdout",
     "output_type": "stream",
     "text": [
      "You are an old, tall, but overweight person :(\n"
     ]
    }
   ],
   "source": [
    "# Let's define someone with some basic characteristics. \n",
    "# The question is: Is this is an old, tall, and overweight man or a woman?\n",
    "# How can we decide?\n",
    "#\n",
    "age = 68     \n",
    "height = 192 # in centimeters\n",
    "weight = 120 # in kilograms\n",
    "\n",
    "# Let's say that we decided that people above 65 should be considered \"old.\"\n",
    "# Let's also say that we decided that people with a height of 185cm and above are \"tall.\"\n",
    "# Since weight is related to height, can we simply say that anyone above 80 kilograms is \"heavy?\" No. \n",
    "# For example, a 2-meter tall person may easily weigh 100 kg! However, is such a person We would need \n",
    "# a much better formulation. However, for the sake of simplicity, let's also say that we decided \n",
    "# that people above 100 kg of weight are overweight.\n",
    "#\n",
    "# So, how can we write a condition that will decide whether to say yes or no to the question we asked right above?\n",
    "# Here's how we can do this:\n",
    "#\n",
    "if age > 65 and height > 185 and weight > 100:\n",
    "    #\n",
    "    print( \"You are an old, tall, but overweight person :(\" )"
   ]
  },
  {
   "cell_type": "markdown",
   "metadata": {},
   "source": [
    "In the above example, we joined three separate conditions with `and`s to create a compound condition, but, a problem may require any combination of logical and relational operators."
   ]
  },
  {
   "cell_type": "markdown",
   "metadata": {},
   "source": [
    "## __EXERCISES &ndash; Set B__ _(2 questions)_\n",
    "-----------------\n",
    "Now solve the following exercises on your own"
   ]
  },
  {
   "cell_type": "markdown",
   "metadata": {},
   "source": [
    "------\n",
    "__L04.4:__ \n",
    "\n",
    "Next, you will write a function that converts from seconds in a day to an appropriate time format, which will specify what particular hour, minute, second of the day it is with a designation of `AM` and `PM` depending on whether the time is before 12 noon or afterwards. The API of your function will be\n",
    "\n",
    "        def convert_time( time_in_seconds ) \n",
    "\n",
    "and, it should return a string with the format `HH:MM:SS[AM|PM|noon]`:\n",
    "\n",
    "- `HH`: hours\n",
    "- `MM`: minutes\n",
    "- `SS`: seconds\n",
    "- `AM`, `PM`, and `noon` indicate which part of the day it is. Of course, there is a single time when the `noon` designation will be used, and, that is when it is 12 hours after midnight sharp.\n",
    "\n",
    "For example, exactly 12 minutes after midnight will be returned as the string\n",
    "\n",
    "        00:12:00AM\n",
    "        \n",
    "Two hours, 37 minutes, and 5 seconds after 12:00 noon, the time should be returned as\n",
    "\n",
    "        02:37:05PM\n",
    "        \n",
    "The last PM-designated time in a day will be\n",
    "\n",
    "        11:59:59PM\n",
    "        \n",
    "The time in the second will be\n",
    "\n",
    "        00:00:00AM\n",
    "        \n",
    "__NOTE__: Have your seen any explicit requirement above that says that you will or must use the modulus opeator? No, of course! But, I will tell you that you will have to use it! This is how you solve real-world problems! Nobody tells you what to use! You decide! Therefore, you must understand the idea behind the modulus operator so well that you can employ it in your solutions."
   ]
  },
  {
   "cell_type": "code",
   "execution_count": 8,
   "metadata": {},
   "outputs": [
    {
     "name": "stdout",
     "output_type": "stream",
     "text": [
      "00:00:07AM\n",
      "02:00:07AM\n",
      "12:00:00noon\n",
      "15:27:09PM\n"
     ]
    }
   ],
   "source": [
    "def convert_time( time_in_seconds ):\n",
    "    \n",
    "    #\n",
    "    # <Add your code below. Note that the return value is currently arbitrary>\n",
    "    # <Note that number format in the format string below>\n",
    "    #\n",
    "   \n",
    "    minutes, seconds = divmod(time_in_seconds, 60)\n",
    "    hours, minutes = divmod (minutes, 60)\n",
    "    \n",
    "    if hours >= 0 and hours < 12 :\n",
    "        designation = \"AM\"\n",
    "    elif hours == 12 and minutes == 0 and seconds == 0:\n",
    "        designation = \"noon\"\n",
    "    elif hours >= 12 and hours < 24:\n",
    "        designation = \"PM\"\n",
    "    \n",
    "    return \"{:02d}:{:02d}:{:02d}{}\".format( hours, minutes, seconds, designation )\n",
    "\n",
    "# Tests\n",
    "#\n",
    "print( convert_time( 7 ) )                           # should return 00:00:07AM\n",
    "print( convert_time( 2 * 60 * 60 + 7 ) )             # should return 02:00:07AM\n",
    "print( convert_time( 12 * 60 * 60 ) )                # should return 12:00:00noon\n",
    "print( convert_time( 15 * 60 * 60 + 27 * 60 + 9 ) )  # should return 15:27:09PM"
   ]
  },
  {
   "cell_type": "markdown",
   "metadata": {},
   "source": [
    "--------------------\n",
    "__L04.5:__ \n",
    "\n",
    "Suppose that, for each given day, time is kept track of in _seconds_ for that day, starting at 0 right past the midnight of the previous day. Given the current time in seconds, you are asked to write a function `def timer( time_in_seconds)` that returns `True` every time the current time is 7 minutes past the hour. Therefore, 7 minutes after midnight, your function should return `True.` At 1:07AM, 2:07, 3:07, 4:07AM, ..., 10:07PM, and 11:07PM, your function should return `True` and `False` at all other times.\n",
    "\n",
    "To test your program, we will create a loop that counts seconds throughout a given day. See below.\n",
    "\n",
    "__NOTE__: As you see in this problem, there is no explicit mention that you should be using the modulus operator. However, I will tell you that you will have to use it. Make sure that, first, you think on paper. Solve some examples on your own on paper, and, then decide how you will design your function so that it works perfectly!\n",
    "\n",
    "Think about how many times in a single 24-hour time period your `timer()` function ought to return `True`.\n",
    "\n",
    "__REMEMBER__: Remember our basic principle about working on paper first! That is, __if you cannot solve a problem on paper first, you\n",
    "have no chance of solving it in the computer!__ So, make sure that __YOU UNDERSTAND THE PROBLEM VERY WELL__ first!"
   ]
  },
  {
   "cell_type": "code",
   "execution_count": 50,
   "metadata": {},
   "outputs": [
    {
     "name": "stdout",
     "output_type": "stream",
     "text": [
      "Time to do my task: 9\n",
      "Time to do my task: 1266\n",
      "Time to do my task: 2523\n",
      "Time to do my task: 3780\n",
      "Time to do my task: 5037\n",
      "Time to do my task: 6294\n",
      "Time to do my task: 7551\n",
      "Time to do my task: 8808\n",
      "Time to do my task: 10065\n",
      "Time to do my task: 11322\n",
      "Time to do my task: 12579\n",
      "Time to do my task: 13836\n",
      "Time to do my task: 15093\n",
      "Time to do my task: 16350\n",
      "Time to do my task: 17607\n",
      "Time to do my task: 18864\n",
      "Time to do my task: 20121\n",
      "Time to do my task: 21378\n",
      "Time to do my task: 22635\n",
      "Time to do my task: 23892\n",
      "Time to do my task: 25149\n",
      "Time to do my task: 26406\n",
      "Time to do my task: 27663\n",
      "Time to do my task: 28920\n",
      "Time to do my task: 30177\n",
      "Time to do my task: 31434\n",
      "Time to do my task: 32691\n",
      "Time to do my task: 33948\n",
      "Time to do my task: 35205\n",
      "Time to do my task: 36462\n",
      "Time to do my task: 37719\n",
      "Time to do my task: 38976\n",
      "Time to do my task: 40233\n",
      "Time to do my task: 41490\n",
      "Time to do my task: 42747\n",
      "Time to do my task: 44004\n",
      "Time to do my task: 45261\n",
      "Time to do my task: 46518\n",
      "Time to do my task: 47775\n",
      "Time to do my task: 49032\n",
      "Time to do my task: 50289\n",
      "Time to do my task: 51546\n",
      "Time to do my task: 52803\n",
      "Time to do my task: 54060\n",
      "Time to do my task: 55317\n",
      "Time to do my task: 56574\n",
      "Time to do my task: 57831\n",
      "Time to do my task: 59088\n",
      "Time to do my task: 60345\n",
      "Time to do my task: 61602\n",
      "Time to do my task: 62859\n",
      "Time to do my task: 64116\n",
      "Time to do my task: 65373\n",
      "Time to do my task: 66630\n",
      "Time to do my task: 67887\n",
      "Time to do my task: 69144\n",
      "Time to do my task: 70401\n",
      "Time to do my task: 71658\n",
      "Time to do my task: 72915\n",
      "Time to do my task: 74172\n",
      "Time to do my task: 75429\n",
      "Time to do my task: 76686\n",
      "Time to do my task: 77943\n",
      "Time to do my task: 79200\n",
      "Time to do my task: 80457\n",
      "Time to do my task: 81714\n",
      "Time to do my task: 82971\n",
      "Time to do my task: 84228\n",
      "Time to do my task: 85485\n"
     ]
    }
   ],
   "source": [
    "def timer( time_in_seconds ):\n",
    "    \n",
    "    #\n",
    "    # <Add your code below and replace the following arbitrary code>\n",
    "    #\n",
    "    return time_in_seconds % 1257 == 9\n",
    "\n",
    "for time_in_seconds in range( 24 * 60 * 60 ): # 24 hours x 60 minutes / hour x 60 seconds / minute\n",
    "    #\n",
    "    if timer( time_in_seconds ):\n",
    "        #\n",
    "        print( \"Time to do my task: {}\".format( time_in_seconds ) )"
   ]
  },
  {
   "cell_type": "markdown",
   "metadata": {},
   "source": []
  },
  {
   "cell_type": "markdown",
   "metadata": {},
   "source": [
    "---\n",
    "## __Submission__\n",
    "\n",
    "You __MUST__ submit this Python Notebook by the end of today's lab using the below upload website:\n",
    "\n",
    "Make sure you save your work before submitting your notebook.\n",
    "\n",
    "https://www.dropbox.com/request/8xp6kmMeeK1ego5Y1i01"
   ]
  },
  {
   "cell_type": "markdown",
   "metadata": {},
   "source": [
    "-----\n",
    "___>>> Congratulations! You are done for this lab. Have a nice day and keep working hard! :)___\n",
    "\n",
    "-----"
   ]
  }
 ],
 "metadata": {
  "kernelspec": {
   "display_name": "Python 2",
   "language": "python",
   "name": "python2"
  },
  "language_info": {
   "codemirror_mode": {
    "name": "ipython",
    "version": 3
   },
   "file_extension": ".py",
   "mimetype": "text/x-python",
   "name": "python",
   "nbconvert_exporter": "python",
   "pygments_lexer": "ipython3",
   "version": "3.7.3"
  }
 },
 "nbformat": 4,
 "nbformat_minor": 2
}
