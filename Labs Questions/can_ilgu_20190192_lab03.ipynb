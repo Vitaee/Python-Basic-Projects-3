{
 "cells": [
  {
   "cell_type": "markdown",
   "metadata": {},
   "source": [
    "### __Please enter your name and student ID in the box below and save the notebook__"
   ]
  },
  {
   "cell_type": "raw",
   "metadata": {},
   "source": [
    "<Enter your name here>\n",
    "\n",
    "<Enter your student ID here>"
   ]
  },
  {
   "cell_type": "markdown",
   "metadata": {},
   "source": [
    "---"
   ]
  },
  {
   "cell_type": "markdown",
   "metadata": {},
   "source": [
    "# ECC102 &ndash; Lab 03 _(Week of October 16, 2019)_\n",
    "---\n",
    "In this lab, you will be working on the `str.format()` statement, which allows us to format strings according to our needs. In addition, you will be practicing writing Python functions."
   ]
  },
  {
   "cell_type": "markdown",
   "metadata": {},
   "source": [
    "## __Task 1__ _(60 mins)_\n",
    "\n",
    "First, read the information in the following pages about `str.format()` function:\n",
    "\n",
    "- https://www.digitalocean.com/community/tutorials/how-to-use-string-formatters-in-python-3\n",
    "\n",
    "- https://www.programiz.com/python-programming/methods/string/format\n",
    "\n",
    "\n",
    "Then quickly browser through the formal definition of `str.format()` here:\n",
    "\n",
    "- https://docs.python.org/3/library/string.html#formatstrings"
   ]
  },
  {
   "cell_type": "markdown",
   "metadata": {},
   "source": [
    "### Basic usage of _str.format()_\n",
    "\n",
    "Let's start learning how how `str.format()` works.\n",
    "\n",
    "A set of  braces `{}` is used as placeholders for values.\n",
    "\n",
    "Consider the following:"
   ]
  },
  {
   "cell_type": "code",
   "execution_count": 3,
   "metadata": {},
   "outputs": [
    {
     "data": {
      "text/plain": [
       "'Hello Mary'"
      ]
     },
     "execution_count": 3,
     "metadata": {},
     "output_type": "execute_result"
    }
   ],
   "source": [
    "\"Hello {}\".format( \"Mary\" )"
   ]
  },
  {
   "cell_type": "code",
   "execution_count": 5,
   "metadata": {},
   "outputs": [
    {
     "data": {
      "text/plain": [
       "'Peter is 16 years old.'"
      ]
     },
     "execution_count": 5,
     "metadata": {},
     "output_type": "execute_result"
    }
   ],
   "source": [
    "\"{} is {} years old.\".format( \"Peter\", 16 )"
   ]
  },
  {
   "cell_type": "code",
   "execution_count": 5,
   "metadata": {},
   "outputs": [
    {
     "name": "stdout",
     "output_type": "stream",
     "text": [
      "4 x 4 = 16\n"
     ]
    }
   ],
   "source": [
    "s = \"{} {} {} = {}\".format( 4, \"x\", 4, 4 * 4 )\n",
    "print( s )"
   ]
  },
  {
   "cell_type": "markdown",
   "metadata": {},
   "source": [
    "We can also use indices inside `{}` to indicate the order of the arguments passed to `str.format()`. For example, let see what the following format string would return:\n",
    "\n",
    "    \"Second argument: {1}, Third argument: {2}, First argument: {0}\".format( \"A\", \"B\", \"C\" )"
   ]
  },
  {
   "cell_type": "code",
   "execution_count": 10,
   "metadata": {},
   "outputs": [
    {
     "data": {
      "text/plain": [
       "'Second argument: B, Third argument: C, First argument: A'"
      ]
     },
     "execution_count": 10,
     "metadata": {},
     "output_type": "execute_result"
    }
   ],
   "source": [
    "\"Second argument: {1}, Third argument: {2}, First argument: {0}\".format( \"A\", \"B\", \"C\" )"
   ]
  },
  {
   "cell_type": "markdown",
   "metadata": {},
   "source": [
    "We just need to make sure that we do not use indices that are out of range. For example, the following usage would cause an error since the format string requires three values but only two are provided."
   ]
  },
  {
   "cell_type": "code",
   "execution_count": 13,
   "metadata": {},
   "outputs": [
    {
     "ename": "IndexError",
     "evalue": "tuple index out of range",
     "output_type": "error",
     "traceback": [
      "\u001b[0;31m---------------------------------------------------------------------------\u001b[0m",
      "\u001b[0;31mIndexError\u001b[0m                                Traceback (most recent call last)",
      "\u001b[0;32m<ipython-input-13-65ae205be09c>\u001b[0m in \u001b[0;36m<module>\u001b[0;34m()\u001b[0m\n\u001b[0;32m----> 1\u001b[0;31m \u001b[0;34m\"{2} {1} {0}\"\u001b[0m\u001b[0;34m.\u001b[0m\u001b[0mformat\u001b[0m\u001b[0;34m(\u001b[0m \u001b[0;34m\"A\"\u001b[0m\u001b[0;34m,\u001b[0m \u001b[0;34m\"B\"\u001b[0m \u001b[0;34m)\u001b[0m\u001b[0;34m\u001b[0m\u001b[0m\n\u001b[0m",
      "\u001b[0;31mIndexError\u001b[0m: tuple index out of range"
     ]
    }
   ],
   "source": [
    "\"{2} {1} {0}\".format( \"A\", \"B\" )"
   ]
  },
  {
   "cell_type": "markdown",
   "metadata": {},
   "source": [
    "But if we provide more values than required, those extra values will simply get ignored."
   ]
  },
  {
   "cell_type": "code",
   "execution_count": 15,
   "metadata": {},
   "outputs": [
    {
     "data": {
      "text/plain": [
       "'C B A'"
      ]
     },
     "execution_count": 15,
     "metadata": {},
     "output_type": "execute_result"
    }
   ],
   "source": [
    "\"{2} {1} {0}\".format( \"A\", \"B\", \"C\", \"D\" )"
   ]
  },
  {
   "cell_type": "markdown",
   "metadata": {},
   "source": [
    "Indices can also be repeated within the format string. For example:"
   ]
  },
  {
   "cell_type": "code",
   "execution_count": 16,
   "metadata": {},
   "outputs": [
    {
     "data": {
      "text/plain": [
       "'C B C A B'"
      ]
     },
     "execution_count": 16,
     "metadata": {},
     "output_type": "execute_result"
    }
   ],
   "source": [
    "\"{2} {1} {2} {0} {1}\".format( \"A\", \"B\", \"C\" )"
   ]
  },
  {
   "cell_type": "markdown",
   "metadata": {},
   "source": [
    "We can also specify formatting options for different data types. For example, we can specify\n",
    "\n",
    "- how numeric values should be formatted\n",
    "\n",
    "- how non-numeric values (e.g., strings) should be formatted\n",
    "\n",
    "besides others."
   ]
  },
  {
   "cell_type": "markdown",
   "metadata": {},
   "source": [
    "## Field Widths\n",
    "\n",
    "Each given value in a format placeholder can be printed with a specified width so that values can be aligned in visual columns.\n",
    "\n",
    "Field width in a format placeholder is specified with an integer value after a colon character:\n",
    "\n",
    "    \"{:10}\".format( 45 )\n",
    "    \n",
    "`{:10}` here will _right-align_ numeric values but _left-align_ string values within a width of 10 chracters.\n",
    "\n",
    "Let's see how this works, but __REMEMBER__ that `str.format()` always returns a `str` (string) object:"
   ]
  },
  {
   "cell_type": "code",
   "execution_count": 18,
   "metadata": {},
   "outputs": [
    {
     "data": {
      "text/plain": [
       "'        45'"
      ]
     },
     "execution_count": 18,
     "metadata": {},
     "output_type": "execute_result"
    }
   ],
   "source": [
    "\"{:10}\".format( 45 ) # Numeric value"
   ]
  },
  {
   "cell_type": "code",
   "execution_count": 21,
   "metadata": {},
   "outputs": [
    {
     "data": {
      "text/plain": [
       "'    923.78'"
      ]
     },
     "execution_count": 21,
     "metadata": {},
     "output_type": "execute_result"
    }
   ],
   "source": [
    "\"{:10}\".format( 923.78 ) # Numeric value"
   ]
  },
  {
   "cell_type": "code",
   "execution_count": 20,
   "metadata": {},
   "outputs": [
    {
     "data": {
      "text/plain": [
       "'Hello     '"
      ]
     },
     "execution_count": 20,
     "metadata": {},
     "output_type": "execute_result"
    }
   ],
   "source": [
    "\"{:10}\".format( \"Hello\" ) # String value"
   ]
  },
  {
   "cell_type": "code",
   "execution_count": 26,
   "metadata": {},
   "outputs": [
    {
     "name": "stdout",
     "output_type": "stream",
     "text": [
      "|Hello, world!  |       138.222918243|\n",
      "|Joe and Mary   |                  35|\n",
      "|Happy birthday!|             3882912|\n",
      "|Happy birthday, Kate!|                 762|\n"
     ]
    }
   ],
   "source": [
    "# Note how values are aligned in columns by using the same formatting style\n",
    "#\n",
    "print( \"|{:15}|{:20}|\".format( \"Hello, world!\", 138.2229182434 ) ) # Numeric and string \n",
    "print( \"|{:15}|{:20}|\".format( \"Joe and Mary\", 35 ) )              # Numeric and string \n",
    "print( \"|{:15}|{:20}|\".format( \"Happy birthday!\", 3882912 ) )      # Numeric and string\n",
    "#\n",
    "# Note that in the example below the \"Happy birthday ...\" string does not fit the allotted 15 spaces.\n",
    "# Therefore, vertical alignment will be shifted.\n",
    "#\n",
    "print( \"|{:15}|{:20}|\".format( \"Happy birthday, Kate!\", 762 ) )    # Numeric and string"
   ]
  },
  {
   "cell_type": "markdown",
   "metadata": {},
   "source": [
    "### Default, positional and keyword arguments\n",
    "\n",
    "As we've seen above, we can specify an empty `{}` value placeholder in a formatting string and we can also specify placeholders with indices. A third way to use value placeholders is by name, but we can use this approach only if we specify _keyword_ arguments to `str.format()`.\n",
    "\n",
    "Below examples are from https://www.programiz.com/python-programming/methods/string/format."
   ]
  },
  {
   "cell_type": "code",
   "execution_count": 49,
   "metadata": {},
   "outputs": [
    {
     "name": "stdout",
     "output_type": "stream",
     "text": [
      "Hello Adam, your balance is 230.2346.\n",
      "Hello Adam, your balance is 230.2346.\n",
      "Hello Adam, your balance is 230.2346.\n",
      "Hello Adam, your balance is 230.2346.\n",
      "Hello Adam, your balance is 230.2346.\n"
     ]
    }
   ],
   "source": [
    "# Default arguments\n",
    "\n",
    "print( \"Hello {}, your balance is {}.\".format( \"Adam\", 230.2346 ) )\n",
    "\n",
    "# Positional arguments, i.e., using numeric indices\n",
    "\n",
    "print( \"Hello {0}, your balance is {1}.\".format( \"Adam\", 230.2346 ) )\n",
    "\n",
    "# Keyword arguments\n",
    "#\n",
    "# Note that the order of keyword arguments passed to str.format() does not matter, since keyword\n",
    "# arguments are looked up by name, not by specification order.\n",
    "\n",
    "print( \"Hello {name}, your balance is {balance}.\".format( name=\"Adam\", balance=230.2346 ) )\n",
    "print( \"Hello {name}, your balance is {balance}.\".format( balance=230.2346, name=\"Adam\" ) )\n",
    "\n",
    "# Mixed arguments\n",
    "\n",
    "print( \"Hello {0}, your balance is {balance}.\".format( \"Adam\", balance=230.2346 ))"
   ]
  },
  {
   "cell_type": "markdown",
   "metadata": {},
   "source": [
    "So, all `print()` statements above displayed exactly the same string above."
   ]
  },
  {
   "cell_type": "markdown",
   "metadata": {},
   "source": [
    "### Type Specification\n",
    "\n",
    "We can also specify the data type of a value in a formatting placeholder.\n",
    "\n",
    "|Type | Meaning |\n",
    "| ----- | ------- |\n",
    "|  d  | Decimal integer  |\n",
    "|  c  | Corresponding Unicode character  |\n",
    "|  b  | Binary format  |\n",
    "|  o  | Octal format  |\n",
    "|  x  | Hexadecimal format (lower case)  |\n",
    "|  X  | Hexadecimal format (upper case)  |\n",
    "|  n  | Same as 'd'. Except it uses current locale setting for number separator  |\n",
    "|  e  | Exponential notation. (lowercase e)  |\n",
    "|  E  | Exponential notation (uppercase E)  |\n",
    "|  f  | Displays fixed point number (Default: 6) |\n",
    "|  F  | Same as 'f'. Except displays 'inf' as 'INF' and 'nan' as 'NAN'  |\n",
    "|  g  | General format. Rounds number to p significant digits. (Default precision: 6)  |\n",
    "|  G  | Same as 'g'. Except switches to 'E' if the number is large.  |\n",
    "|  %  | Percentage. Multiples by 100 and puts % at the end. |\n",
    "\n",
    "\n",
    "The above table is from https://www.programiz.com/python-programming/methods/string/format.\n",
    "\n",
    "So, here are some examples for specifying different data types."
   ]
  },
  {
   "cell_type": "code",
   "execution_count": 50,
   "metadata": {},
   "outputs": [
    {
     "data": {
      "text/plain": [
       "'Joe is 16 years old.'"
      ]
     },
     "execution_count": 50,
     "metadata": {},
     "output_type": "execute_result"
    }
   ],
   "source": [
    "# Decimals\n",
    "\n",
    "\"Joe is {:d} years old.\".format( 16 )"
   ]
  },
  {
   "cell_type": "code",
   "execution_count": 51,
   "metadata": {},
   "outputs": [
    {
     "data": {
      "text/plain": [
       "'Joe is  16 years old.'"
      ]
     },
     "execution_count": 51,
     "metadata": {},
     "output_type": "execute_result"
    }
   ],
   "source": [
    "# Decimals\n",
    "# We can specify the width of the value\n",
    "\n",
    "\"Joe is {:3d} years old.\".format( 16 )\n",
    "\n",
    "# Notice the extra space before the value 16? We asked for 3 spaces to be used \n",
    "# to represent a 2-digit value, hence an extra leading space."
   ]
  },
  {
   "cell_type": "code",
   "execution_count": 53,
   "metadata": {},
   "outputs": [
    {
     "data": {
      "text/plain": [
       "'Index item 00038: Washing machine'"
      ]
     },
     "execution_count": 53,
     "metadata": {},
     "output_type": "execute_result"
    }
   ],
   "source": [
    "# Decimals\n",
    "# We can specify whether we wish to have leading zeroes.\n",
    "\n",
    "\"Index item {:05d}: Washing machine\".format( 38 )"
   ]
  },
  {
   "cell_type": "code",
   "execution_count": 54,
   "metadata": {},
   "outputs": [
    {
     "data": {
      "text/plain": [
       "'123.920000'"
      ]
     },
     "execution_count": 54,
     "metadata": {},
     "output_type": "execute_result"
    }
   ],
   "source": [
    "# Floating-point values\n",
    "\n",
    "\"{:f}\".format( 123.92 )"
   ]
  },
  {
   "cell_type": "code",
   "execution_count": 55,
   "metadata": {},
   "outputs": [
    {
     "data": {
      "text/plain": [
       "'123.92'"
      ]
     },
     "execution_count": 55,
     "metadata": {},
     "output_type": "execute_result"
    }
   ],
   "source": [
    "# Compare the above to this\n",
    "\n",
    "\"{}\".format( 123.92 )\n",
    "\n",
    "# Notice the difference? The version with {:f} has a default display width where \n",
    "# 6 decimal digits are used. Without a type specifier, the value is represented as is"
   ]
  },
  {
   "cell_type": "markdown",
   "metadata": {},
   "source": [
    "We can also specify how many decimal points we would like to display with floating-point numbers. For example\n",
    "\n",
    "    '{:.3f}'\n",
    "   \n",
    "means 3 decimal digits.\n",
    "\n",
    "But, can we also specify this without the `f` floating-point specifier?\n",
    "\n",
    "    '{:.3}'\n",
    "\n",
    "Let's try:"
   ]
  },
  {
   "cell_type": "code",
   "execution_count": 65,
   "metadata": {},
   "outputs": [
    {
     "data": {
      "text/plain": [
       "'Copper Inc. took a loan of $|     237000.897| from Bank of Mid-Asia last year.'"
      ]
     },
     "execution_count": 65,
     "metadata": {},
     "output_type": "execute_result"
    }
   ],
   "source": [
    "\"Copper Inc. took a loan of $|{:15.3f}| from Bank of Mid-Asia last year.\".format( 237000.897371738 )"
   ]
  },
  {
   "cell_type": "markdown",
   "metadata": {},
   "source": [
    "So, what happened here exactly?\n",
    "\n",
    "We have a `15.3f` specifier, which means that 15 spaces should be used to represent the floating-point number.\n",
    "\n",
    "Since the default alignment for numric values within the alloted width is _right-alignment_, there will remain five extra spaces before the number, which takes up a total of 10 characters&ndash;6 digits for the whole part of the number, decimal point, and finally three decimal digits. "
   ]
  },
  {
   "cell_type": "markdown",
   "metadata": {},
   "source": [
    "### Alignment\n",
    "\n",
    "Values can be aligned within format field.\n",
    "\n",
    "Let's take a look at how within-field alignment can be accomplished by consiering some examples from \n",
    "\n",
    "[https://docs.python.org/3/library/string.html#formatstrings](https://docs.python.org/3/library/string.html#formatstrings)"
   ]
  },
  {
   "cell_type": "code",
   "execution_count": 36,
   "metadata": {},
   "outputs": [
    {
     "data": {
      "text/plain": [
       "'left aligned within 40 spaces           '"
      ]
     },
     "execution_count": 36,
     "metadata": {},
     "output_type": "execute_result"
    }
   ],
   "source": [
    "'{:<40}'.format( 'left aligned within 40 spaces' )"
   ]
  },
  {
   "cell_type": "code",
   "execution_count": 37,
   "metadata": {},
   "outputs": [
    {
     "data": {
      "text/plain": [
       "'          right aligned within 40 spaces'"
      ]
     },
     "execution_count": 37,
     "metadata": {},
     "output_type": "execute_result"
    }
   ],
   "source": [
    "'{:>40}'.format( 'right aligned within 40 spaces' )"
   ]
  },
  {
   "cell_type": "code",
   "execution_count": 42,
   "metadata": {},
   "outputs": [
    {
     "data": {
      "text/plain": [
       "'+3.140000; -3.140000'"
      ]
     },
     "execution_count": 42,
     "metadata": {},
     "output_type": "execute_result"
    }
   ],
   "source": [
    "# Display a '+' for all positive numeric values always\n",
    "\n",
    "'{:+f}; {:+f}'.format( 3.14, -3.14 ) "
   ]
  },
  {
   "cell_type": "code",
   "execution_count": 45,
   "metadata": {},
   "outputs": [
    {
     "name": "stdout",
     "output_type": "stream",
     "text": [
      " 3.140000; -3.140000\n",
      "-3.140000;  3.140000\n"
     ]
    }
   ],
   "source": [
    "# Display a leading space only in the case of positive numbers so that the sign is compensated for\n",
    "\n",
    "print( '{: f}; {: f}'.format( 3.14, -3.14 ) ) \n",
    "print( '{: f}; {: f}'.format( -3.14, 3.14 ) ) "
   ]
  },
  {
   "cell_type": "code",
   "execution_count": 47,
   "metadata": {},
   "outputs": [
    {
     "name": "stdout",
     "output_type": "stream",
     "text": [
      "3.140000; -3.140000\n",
      "-3.140000; 3.140000\n"
     ]
    }
   ],
   "source": [
    "# Display only the minus sign -- This is the same as specifying '{:f}; {:f}'\n",
    "\n",
    "print( '{:-f}; {:-f}'.format( 3.14, -3.14 ) ) \n",
    "print( '{:-f}; {:-f}'.format( -3.14, 3.14 ) ) \n",
    "\n",
    "# Note that vertical alignment of numeric values will be shifted if we have a mixture of negative\n",
    "# and positive values\n"
   ]
  },
  {
   "cell_type": "code",
   "execution_count": 94,
   "metadata": {},
   "outputs": [
    {
     "data": {
      "text/plain": [
       "'int: 42;  hex: 2a;  oct: 52;  bin: 101010'"
      ]
     },
     "execution_count": 94,
     "metadata": {},
     "output_type": "execute_result"
    }
   ],
   "source": [
    "# Formatting of values in different number bases is also supported\n",
    "#\n",
    "# 'd' for integer values\n",
    "# 'x' for hexidecimal values\n",
    "# 'o' for octal values\n",
    "# 'b' for binary values\n",
    "#\n",
    "# So, let's convert integer 42 to different bases\n",
    "\n",
    "\"int: {0:d};  hex: {0:x};  oct: {0:o};  bin: {0:b}\".format( 42 )"
   ]
  },
  {
   "cell_type": "code",
   "execution_count": 41,
   "metadata": {},
   "outputs": [
    {
     "data": {
      "text/plain": [
       "'1,234,567,890'"
      ]
     },
     "execution_count": 41,
     "metadata": {},
     "output_type": "execute_result"
    }
   ],
   "source": [
    "# Using the comma as a thousands separator\n",
    "\n",
    "'{:,}'.format( 1234567890 )"
   ]
  },
  {
   "cell_type": "code",
   "execution_count": 40,
   "metadata": {},
   "outputs": [
    {
     "data": {
      "text/plain": [
       "'Percentage of correct answers: 86.36%'"
      ]
     },
     "execution_count": 40,
     "metadata": {},
     "output_type": "execute_result"
    }
   ],
   "source": [
    "# How to expressing percentages with fixed number of decimal points.\n",
    "\n",
    "points = 19\n",
    "total = 22\n",
    "'Percentage of correct answers: {:.2%}'.format( float( points ) / total )"
   ]
  },
  {
   "cell_type": "markdown",
   "metadata": {},
   "source": [
    "Let's combine some of what we've covered above:"
   ]
  },
  {
   "cell_type": "code",
   "execution_count": 69,
   "metadata": {},
   "outputs": [
    {
     "data": {
      "text/plain": [
       "'Copper Inc. took a loan of $|237000.897     | from Bank of Mid-Asia last year.'"
      ]
     },
     "execution_count": 69,
     "metadata": {},
     "output_type": "execute_result"
    }
   ],
   "source": [
    "# We repeat one of the above examples, but this time with explicit left-alignment, using <\n",
    "\n",
    "\"Copper Inc. took a loan of $|{:<15.3f}| from Bank of Mid-Asia last year.\".format( 237000.897371738 )\n",
    "\n",
    "# Note that the number moved to the leftmost edge of the allotted 15-character wide space"
   ]
  },
  {
   "cell_type": "markdown",
   "metadata": {},
   "source": [
    "- Now solve the following exercises within the notebook.\n",
    "\n",
    "- Submit this notebook with your answers to the Lab Assistants"
   ]
  },
  {
   "cell_type": "markdown",
   "metadata": {},
   "source": [
    "## __EXERCISES &ndash; Set A__ _(3 questions)_\n",
    "-----------------"
   ]
  },
  {
   "cell_type": "markdown",
   "metadata": {},
   "source": [
    "__L03.1:__ Fill in the format string, `fmt`, so that the `print()` function outputs the value specified in the comment next to the `print()` statement right below:"
   ]
  },
  {
   "cell_type": "code",
   "execution_count": 68,
   "metadata": {},
   "outputs": [
    {
     "name": "stdout",
     "output_type": "stream",
     "text": [
      "ECC102 is a first-year course\n"
     ]
    }
   ],
   "source": [
    "fmt = \"{} is a {}-year course\"\n",
    "print( fmt.format(\"ECC102\", \"first\" ) ) ## should output 'ECC102 is a first-year course.'"
   ]
  },
  {
   "cell_type": "markdown",
   "metadata": {},
   "source": [
    "--------------------\n",
    "__L03.2:__ Fill in the correct formatting in `fmt` below so that it prints out the indicated string."
   ]
  },
  {
   "cell_type": "code",
   "execution_count": 1,
   "metadata": {},
   "outputs": [
    {
     "name": "stdout",
     "output_type": "stream",
     "text": [
      "30 / 5 = 6 \n"
     ]
    }
   ],
   "source": [
    "fmt = \"{} {} {} = {} \"\n",
    "print( fmt.format( \"30\", \"/\", \"5\", 30 / 5 ) ) # should print '30 / 5 = 6'"
   ]
  },
  {
   "cell_type": "markdown",
   "metadata": {},
   "source": [
    "------\n",
    "__L03.3:__ Fill in the format strings so that the `print()` statements below display the indicated values vertically aligned as\n",
    "\n",
    "```\n",
    "Class      | Exam Type  | Grade        \n",
    "---------- | ---------- | -------------\n",
    "ECC102     |  Midterm   | 78.12     \n",
    "ECC104     |   Final    | 82.45     \n",
    "ECC108     |   Makeup   | 98.00     \n",
    "ECC200     |   Resit    | 100.00  \n",
    "```\n",
    "\n",
    "Note that the `Class` column is aligned LEFT, `Exam Type` column is aligned MIDDLE, and `Grade` column is also aligned LEFT.\n",
    "\n",
    "Note also that you need to use the vertical bar character `|` to separate the columns and just the\n",
    "right number of `---` characters to separate the column headings from the values in the table."
   ]
  },
  {
   "cell_type": "code",
   "execution_count": 2,
   "metadata": {},
   "outputs": [
    {
     "name": "stdout",
     "output_type": "stream",
     "text": [
      "  Class   | Exam Type| Grade \n",
      "----------|----------|------------- \n",
      "  ECC102  | Midterm  | 78.12 \n",
      "  ECC104  | Final    | 82.45 \n",
      "  ECC108  | Makeup   | 98.00 \n",
      "  ECC200  | Resit    | 100.00 \n"
     ]
    }
   ],
   "source": [
    "print(\"  {}   | {}| {} \".format( \"Class\", \"Exam Type\", \"Grade\" ) )\n",
    "print(\"{}|{}|{} \".format( \"-\" * 10, \"-\" * 10, \"-\" * 13 ) )\n",
    "print(\"  {}  | {}  | {:.2f} \".format( \"ECC102\", \"Midterm\", 78.12 ) )\n",
    "print(\"  {}  | {}    | {:.2f} \".format( \"ECC104\", \"Final\", 82.45 ) )\n",
    "print(\"  {}  | {}   | {:.2f} \".format( \"ECC108\", \"Makeup\", 98.0 ) )\n",
    "print(\"  {}  | {}    | {:.2f} \".format( \"ECC200\", \"Resit\", 100 ) )"
   ]
  },
  {
   "cell_type": "markdown",
   "metadata": {},
   "source": [
    "------------------\n",
    "## __Task 2__ _(60 mins)_"
   ]
  },
  {
   "cell_type": "markdown",
   "metadata": {},
   "source": [
    "## Functions\n",
    "\n",
    "Here's the basic syntax of a function with N parameters. Note that, in order for a function to _return_ a value, the `return` statement must be used. Keep in mind that printing to the screen using `print()` is __NOT__ equivalent to _returning_ using `return`.\n",
    "\n",
    "    def function_name( param1, param2, ... paramN ):\n",
    "        ''' \n",
    "        Documentation string\n",
    "        '''\n",
    "        statements\n",
    "\n",
    "        return <value>\n",
    "        \n",
    "The name of the function is given by `function_name`. This function takes N _positional_ parameters  and returns the value `<value>`.\n",
    "\n",
    "Next you will do some exercises based on the material we covered in the lectures. In the exercises below, you will be asked to write code to accomplish the tasks described.\n",
    "\n",
    "- Now solve the following exercises within the notebook.\n",
    "- Submit this notebook with your answers to the Lab Assistants"
   ]
  },
  {
   "cell_type": "markdown",
   "metadata": {},
   "source": [
    "## __EXERCISES &ndash; Set B__ _(3 questions)_\n",
    "-----"
   ]
  },
  {
   "cell_type": "markdown",
   "metadata": {},
   "source": [
    "__L03.4:__ Write a `for`-loop that will print out all values from 3 till 15, including 15 as below:\n",
    "\n",
    "    3\n",
    "    4\n",
    "    5\n",
    "    6\n",
    "    7\n",
    "    8\n",
    "    9\n",
    "    10\n",
    "    11\n",
    "    12\n",
    "    13\n",
    "    14\n",
    "    15"
   ]
  },
  {
   "cell_type": "code",
   "execution_count": 3,
   "metadata": {},
   "outputs": [
    {
     "name": "stdout",
     "output_type": "stream",
     "text": [
      "3\n",
      "4\n",
      "5\n",
      "6\n",
      "7\n",
      "8\n",
      "9\n",
      "10\n",
      "11\n",
      "12\n",
      "13\n",
      "14\n",
      "15\n"
     ]
    }
   ],
   "source": [
    "# Fill in your code below\n",
    "for i in range(3,16):\n",
    "    \n",
    "    print(i)\n",
    "    \n"
   ]
  },
  {
   "cell_type": "markdown",
   "metadata": {},
   "source": [
    "------ \n",
    "__L03.5:__ Write a `for`-loop that will print out every third value starting with 5 till 26, including 26 as below:\n",
    "\n",
    "    5\n",
    "    8\n",
    "    11\n",
    "    14\n",
    "    17\n",
    "    20\n",
    "    23\n",
    "    26\n"
   ]
  },
  {
   "cell_type": "code",
   "execution_count": 4,
   "metadata": {},
   "outputs": [
    {
     "name": "stdout",
     "output_type": "stream",
     "text": [
      "5\n",
      "8\n",
      "11\n",
      "14\n",
      "17\n",
      "20\n",
      "23\n",
      "26\n"
     ]
    }
   ],
   "source": [
    "# Fill in your code below\n",
    "\n",
    "for i in range(5,27, 3):\n",
    "    print(i)\n",
    "    \n"
   ]
  },
  {
   "cell_type": "markdown",
   "metadata": {},
   "source": [
    "------ \n",
    "__L03.6:__ Write a function called `do_arithmetic( operand_1, operator, operand_2 )` and returns the result of one of four arithmetic operators given the two numeric operands. The `operator` parameter will be a single string (one of `+`, `-`, `*`, or `/`) and operand parameters will be numeric values.\n",
    "\n",
    "Note that the division operation (`/`) should do floating-point division, __not integer division__.\n",
    "\n",
    "For example,\n",
    "\n",
    "    do_arithmetic( 5, '+', 7 )\n",
    "    \n",
    "should __return__ the value `12`. Similarly the below calls should work as described.\n",
    "\n",
    "    do_arithmetic( 10, '-', 3 )  ---> 7\n",
    "    do_arithmetic( 10, '-', 30 ) ---> -20\n",
    "    do_arithmetic( 10, '*', 30 ) ---> 300 \n",
    "    do_arithmetic( 1, '/', 10 )  ---> 0.1 \n",
    "    do_arithmetic( 7, '/', 2 )   ---> 3.5 "
   ]
  },
  {
   "cell_type": "code",
   "execution_count": 12,
   "metadata": {},
   "outputs": [],
   "source": [
    "# Fill in the body of the function below by replacing the pass statement with your code\n",
    "\n",
    "def do_arithmetic( operand_1, operator, operand_2):\n",
    "    if operator == \"+\":\n",
    "        print(operand_1 + operand_2)\n",
    "    if operator  == \"-\":\n",
    "        print(operand_1 - operand_2)\n",
    "    if operator == \"*\":\n",
    "        print(operand_1 * operand_2)\n",
    "    if operator == \"/\":\n",
    "        print(operand_1 / operand_2)\n",
    "        \n",
    "    \n",
    "    return (operand_1,operator, operand_2)\n",
    "\n",
    "\n"
   ]
  },
  {
   "cell_type": "code",
   "execution_count": 14,
   "metadata": {},
   "outputs": [
    {
     "name": "stdout",
     "output_type": "stream",
     "text": [
      "12\n",
      "(5, '+', 7)\n",
      "------------\n",
      "7\n",
      "(10, '-', 3)\n",
      "-------------\n",
      "-20\n",
      "(10, '-', 30)\n",
      "-------------\n",
      "300\n",
      "(10, '*', 30)\n",
      "-------------\n",
      "0.1\n",
      "(1, '/', 10)\n",
      "-------------\n",
      "3.5\n",
      "(7, '/', 2)\n"
     ]
    }
   ],
   "source": [
    "# Test cases below should work as described above\n",
    "\n",
    "print( do_arithmetic( 5, \"+\", 7 ) )\n",
    "print(\"------------\")\n",
    "print( do_arithmetic( 10,\"-\", 3 ) )\n",
    "print(\"-------------\")\n",
    "print( do_arithmetic( 10, \"-\" ,30 ) )\n",
    "print(\"-------------\")\n",
    "print( do_arithmetic( 10, \"*\" ,30 ) )\n",
    "print(\"-------------\")\n",
    "print( do_arithmetic( 1, \"/\", 10 ) )\n",
    "print(\"-------------\")\n",
    "print( do_arithmetic( 7, \"/\", 2 ) )"
   ]
  },
  {
   "cell_type": "markdown",
   "metadata": {},
   "source": [
    "---\n",
    "## __Submission__\n",
    "\n",
    "You __MUST__ submit this Python Notebook by the end of today's lab using the below upload website:\n",
    "\n",
    "Make sure you save your work before submitting your notebook.\n",
    "\n",
    "https://www.dropbox.com/request/X5tg6VJxGMSLy2crNOws"
   ]
  },
  {
   "cell_type": "markdown",
   "metadata": {},
   "source": [
    "-----\n",
    "___>>> Congratulations! You are done for this lab. Have a nice day and keep working hard! :)___\n",
    "\n",
    "-----"
   ]
  }
 ],
 "metadata": {
  "kernelspec": {
   "display_name": "Python 2",
   "language": "python",
   "name": "python2"
  },
  "language_info": {
   "codemirror_mode": {
    "name": "ipython",
    "version": 3
   },
   "file_extension": ".py",
   "mimetype": "text/x-python",
   "name": "python",
   "nbconvert_exporter": "python",
   "pygments_lexer": "ipython3",
   "version": "3.7.3"
  }
 },
 "nbformat": 4,
 "nbformat_minor": 2
}
