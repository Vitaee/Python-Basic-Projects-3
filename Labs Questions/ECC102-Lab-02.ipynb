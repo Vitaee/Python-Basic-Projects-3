{
 "cells": [
  {
   "cell_type": "markdown",
   "metadata": {},
   "source": [
    "# ECC102 &ndash; Lab 02\n",
    "\n",
    "Welcome to Lab 02!\n",
    "\n",
    "In this lab, completing all tasks will be sufficient for you to get full points!\n",
    "\n",
    "## A Very Brief Introduction to Jupyter-Lab Notebooks\n",
    "\n",
    "A _notebook_ is a single document with a special format in which you can keep executable Python code and text like this all in one. A notebook allows you to execute code in your web browser dynamically. After modifying your program in a given notebook cell, all you need to press is [Ctrl]+[Enter] to run that cell.\n",
    "\n",
    "A cell may have (a) Python source code, (b) Markdown text, or (c) raw/unformatted text.\n",
    "\n",
    "Now ... onto your first task in this lab exercise ...\n",
    "\n",
    "Best of luck! :)"
   ]
  },
  {
   "cell_type": "markdown",
   "metadata": {},
   "source": [
    "## Task 1 &ndash; Unix Tutorial for Beginners &ndash; (_45 mins_)\n",
    "\n",
    "In this lab, you will begin working with GNU/Linux commands so that you can familiarize yourself with how you can accomplish basic tasks in a terminal window on your system.\n",
    "\n",
    "For this purpose, you will be following the \"Unix Tutorial for Beginners,\" which is available at the following link:\n",
    "\n",
    "http://www.ee.surrey.ac.uk/Teaching/Unix/\n",
    "\n",
    "In this task, you will complete the first three (3) sections of the \"Unix Tutorial for Beginners:\"\n",
    "\n",
    "- __Introduction to the UNIX Operating System__\n",
    "    - What is UNIX?\n",
    "    - Files and processes\n",
    "    - The Directory Structure\n",
    "    - Starting an UNIX terminal\n",
    "\n",
    "- __Tutorial One__\n",
    "    - Listing files and directories\n",
    "    - Making Directories\n",
    "    - Changing to a different Directory\n",
    "    - The directories . and ..\n",
    "    - Pathnames\n",
    "    - More about home directories and pathnames\n",
    "\n",
    "- __Tutorial Two__\n",
    "    - Copying Files\n",
    "    - Moving Files\n",
    "    - Removing Files and directories\n",
    "    - Displaying the contents of a file on the screen\n",
    "    - Searching the contents of a file\n",
    "\n",
    "Open a new terminal on your machine and begin work on these sections."
   ]
  },
  {
   "cell_type": "markdown",
   "metadata": {},
   "source": [
    "# Task 2 &ndash; Installation of Jupyter-Lab &ndash; (_15 mins_)\n",
    "\n",
    "Jupyter-Lab comes packed with a tool called Anaconda.\n",
    "\n",
    "Download the Anaconda installer first from the following page. Choose version 3.6 for GNU/Linux from the following page:\n",
    "\n",
    "https://www.anaconda.com/download/#linux\n",
    "\n",
    "Once downloading ends, open a terminal and change your working directory to where this file was downloaded. Let's assume that the file was downloaded in your `/home/${USER}/Downlads` subdirectory where `${USER}` refers to your username. For example, if your username is `jsmith`, then you would expect the Anaconda installer your downloaded to be in your `/home/jsmith/Downlads` directory.\n",
    "\n",
    "So, first open a terminal on your machine, and then type the following command to change your working directory to your Download directory:\n",
    "\n",
    "    cd ~/Downloads\n",
    "    \n",
    "Next, type\n",
    "\n",
    "    ls\n",
    "    \n",
    "to list all files you have in your Downloads directory. Among these files, you should see the Anaconda installation file that you've just downloaded.\n",
    "\n",
    "To install Anaconda, go to your Downloads directory and then type:\n",
    "\n",
    "    sh Anaconda3-5.0.1-Linux-x86_64.sh\n",
    "    \n",
    "Once the installation ends, you should be ready to run Jupyter-Lab!\n",
    "\n",
    "It is important that your current working directory is where you have Python notebooks you wish to work with are stored. Suppose that your notebooks are in your ~/notebooks folder, then you would run the following two commands in your terminal to switch to your notebooks folder and then run Jupyter-Lab in that directory:\n",
    "\n",
    "    ~/anaconda3/bin/jupyter-lab\n",
    "\n",
    "Your lab asistants will help you get started with Jupyter-Lab."
   ]
  },
  {
   "cell_type": "markdown",
   "metadata": {},
   "source": [
    "# Task 03 - &ndash; The Basics of Python &ndash; (_60 mins_)"
   ]
  },
  {
   "cell_type": "markdown",
   "metadata": {},
   "source": [
    "## The Zen Of Python"
   ]
  },
  {
   "cell_type": "code",
   "execution_count": 1,
   "metadata": {},
   "outputs": [
    {
     "name": "stdout",
     "output_type": "stream",
     "text": [
      "The Zen of Python, by Tim Peters\n",
      "\n",
      "Beautiful is better than ugly.\n",
      "Explicit is better than implicit.\n",
      "Simple is better than complex.\n",
      "Complex is better than complicated.\n",
      "Flat is better than nested.\n",
      "Sparse is better than dense.\n",
      "Readability counts.\n",
      "Special cases aren't special enough to break the rules.\n",
      "Although practicality beats purity.\n",
      "Errors should never pass silently.\n",
      "Unless explicitly silenced.\n",
      "In the face of ambiguity, refuse the temptation to guess.\n",
      "There should be one-- and preferably only one --obvious way to do it.\n",
      "Although that way may not be obvious at first unless you're Dutch.\n",
      "Now is better than never.\n",
      "Although never is often better than *right* now.\n",
      "If the implementation is hard to explain, it's a bad idea.\n",
      "If the implementation is easy to explain, it may be a good idea.\n",
      "Namespaces are one honking great idea -- let's do more of those!\n"
     ]
    }
   ],
   "source": [
    "        import this"
   ]
  },
  {
   "cell_type": "markdown",
   "metadata": {},
   "source": [
    "## Variables"
   ]
  },
  {
   "cell_type": "markdown",
   "metadata": {},
   "source": [
    "A name that is used to denote something or a value is called a variable. In python, variables can be declared and values can be assigned to it as follows,"
   ]
  },
  {
   "cell_type": "code",
   "execution_count": 1,
   "metadata": {},
   "outputs": [],
   "source": [
    "x = 2\n",
    "y = 5\n",
    "xy = 'Hello'"
   ]
  },
  {
   "cell_type": "code",
   "execution_count": 2,
   "metadata": {},
   "outputs": [
    {
     "name": "stdout",
     "output_type": "stream",
     "text": [
      "7 Hey\n"
     ]
    }
   ],
   "source": [
    "print( x + y, xy )"
   ]
  },
  {
   "cell_type": "markdown",
   "metadata": {},
   "source": [
    "Multiple variables can be assigned with the same value."
   ]
  },
  {
   "cell_type": "code",
   "execution_count": 3,
   "metadata": {
    "collapsed": true,
    "jupyter": {
     "outputs_hidden": true
    }
   },
   "outputs": [],
   "source": [
    "x = y = 9"
   ]
  },
  {
   "cell_type": "code",
   "execution_count": 4,
   "metadata": {},
   "outputs": [
    {
     "name": "stdout",
     "output_type": "stream",
     "text": [
      "9 9\n"
     ]
    }
   ],
   "source": [
    "print( x, y )"
   ]
  },
  {
   "cell_type": "markdown",
   "metadata": {},
   "source": [
    "## Operators"
   ]
  },
  {
   "cell_type": "markdown",
   "metadata": {},
   "source": [
    "### Arithmetic Operators\n",
    "\n",
    "Remember the PEMDAS rule!"
   ]
  },
  {
   "cell_type": "markdown",
   "metadata": {},
   "source": [
    "| Symbol | Task Performed |\n",
    "|----|---|\n",
    "| +  | Addition |\n",
    "| -  | Subtraction |\n",
    "| /  | division |\n",
    "| %  | mod |\n",
    "| *  | multiplication |\n",
    "| //  | floor division |\n",
    "| **  | to the power of |"
   ]
  },
  {
   "cell_type": "code",
   "execution_count": 6,
   "metadata": {},
   "outputs": [
    {
     "data": {
      "text/plain": [
       "3"
      ]
     },
     "execution_count": 6,
     "metadata": {},
     "output_type": "execute_result"
    }
   ],
   "source": [
    "1 + 2"
   ]
  },
  {
   "cell_type": "code",
   "execution_count": 7,
   "metadata": {},
   "outputs": [
    {
     "data": {
      "text/plain": [
       "1"
      ]
     },
     "execution_count": 7,
     "metadata": {},
     "output_type": "execute_result"
    }
   ],
   "source": [
    "2 - 1"
   ]
  },
  {
   "cell_type": "code",
   "execution_count": 8,
   "metadata": {},
   "outputs": [
    {
     "data": {
      "text/plain": [
       "6"
      ]
     },
     "execution_count": 8,
     "metadata": {},
     "output_type": "execute_result"
    }
   ],
   "source": [
    "3 * 2"
   ]
  },
  {
   "cell_type": "code",
   "execution_count": 9,
   "metadata": {},
   "outputs": [
    {
     "data": {
      "text/plain": [
       "0.3333333333333333"
      ]
     },
     "execution_count": 9,
     "metadata": {},
     "output_type": "execute_result"
    }
   ],
   "source": [
    "3 / 9"
   ]
  },
  {
   "cell_type": "markdown",
   "metadata": {},
   "source": [
    "The result of this division would be different depending on the version of Python you use.\n",
    "\n",
    "If you use Python 2.x, you would get a 0.\n",
    "\n",
    "0? This is because both the numerator and denominator are integers but the result is a float value hence an integer value is returned. By changing either the numerator or the denominator to float, correct answer can be obtained.\n",
    "\n",
    "If you use Python 3.x, you would get the result of a natural division."
   ]
  },
  {
   "cell_type": "code",
   "execution_count": 10,
   "metadata": {},
   "outputs": [
    {
     "data": {
      "text/plain": [
       "0.5"
      ]
     },
     "execution_count": 10,
     "metadata": {},
     "output_type": "execute_result"
    }
   ],
   "source": [
    "1 / 2.0"
   ]
  },
  {
   "cell_type": "code",
   "execution_count": 11,
   "metadata": {},
   "outputs": [
    {
     "data": {
      "text/plain": [
       "5"
      ]
     },
     "execution_count": 11,
     "metadata": {},
     "output_type": "execute_result"
    }
   ],
   "source": [
    "15 % 10"
   ]
  },
  {
   "cell_type": "markdown",
   "metadata": {},
   "source": [
    "Floor division is nothing but converting the result so obtained to the nearest integer."
   ]
  },
  {
   "cell_type": "code",
   "execution_count": 12,
   "metadata": {},
   "outputs": [
    {
     "data": {
      "text/plain": [
       "1.0"
      ]
     },
     "execution_count": 12,
     "metadata": {},
     "output_type": "execute_result"
    }
   ],
   "source": [
    "2.8 // 2.0"
   ]
  },
  {
   "cell_type": "markdown",
   "metadata": {},
   "source": [
    "## Relational Operators"
   ]
  },
  {
   "cell_type": "markdown",
   "metadata": {},
   "source": [
    "| Symbol | Task Performed |\n",
    "|----|---|\n",
    "| `==` | True, if it is equal |\n",
    "| `!=`  | True, if not equal to |\n",
    "| `<` | less than |\n",
    "| `>` | greater than |\n",
    "| `<=`  | less than or equal to |\n",
    "| `>=`  | greater than or equal to |"
   ]
  },
  {
   "cell_type": "code",
   "execution_count": 13,
   "metadata": {
    "collapsed": true,
    "jupyter": {
     "outputs_hidden": true
    }
   },
   "outputs": [],
   "source": [
    "z = 1"
   ]
  },
  {
   "cell_type": "code",
   "execution_count": 14,
   "metadata": {},
   "outputs": [
    {
     "data": {
      "text/plain": [
       "True"
      ]
     },
     "execution_count": 14,
     "metadata": {},
     "output_type": "execute_result"
    }
   ],
   "source": [
    "z == 1"
   ]
  },
  {
   "cell_type": "code",
   "execution_count": 15,
   "metadata": {},
   "outputs": [
    {
     "data": {
      "text/plain": [
       "False"
      ]
     },
     "execution_count": 15,
     "metadata": {},
     "output_type": "execute_result"
    }
   ],
   "source": [
    "z > 1"
   ]
  },
  {
   "cell_type": "markdown",
   "metadata": {},
   "source": [
    "**divmod( x, y )** outputs the quotient and the remainder in a tuple (you will be learning about it in the further chapters) in the format (quotient, remainder). For example:"
   ]
  },
  {
   "cell_type": "code",
   "execution_count": 16,
   "metadata": {},
   "outputs": [
    {
     "data": {
      "text/plain": [
       "(4, 1)"
      ]
     },
     "execution_count": 16,
     "metadata": {},
     "output_type": "execute_result"
    }
   ],
   "source": [
    "divmod( 9, 2 )"
   ]
  },
  {
   "cell_type": "markdown",
   "metadata": {},
   "source": [
    "So, if we wish, we can capture the result of the divmod operation either by using a single variable or two separate variables that individually capture the quotient and remainder at the same time."
   ]
  },
  {
   "cell_type": "code",
   "execution_count": 17,
   "metadata": {},
   "outputs": [
    {
     "name": "stdout",
     "output_type": "stream",
     "text": [
      "(4, 1)\n"
     ]
    }
   ],
   "source": [
    "a = divmod( 9, 2 )\n",
    "print( a )"
   ]
  },
  {
   "cell_type": "markdown",
   "metadata": {},
   "source": [
    "Since you will be learning about tuples later, we will not dwell on this right now. But, here's how you can individually assign the quotient and remainder:"
   ]
  },
  {
   "cell_type": "code",
   "execution_count": 18,
   "metadata": {},
   "outputs": [
    {
     "name": "stdout",
     "output_type": "stream",
     "text": [
      "4 1\n"
     ]
    }
   ],
   "source": [
    "q, r = divmod( 9, 2 )\n",
    "print( q, r )"
   ]
  },
  {
   "cell_type": "markdown",
   "metadata": {},
   "source": [
    "**isinstance( value, class )** returns True, if the value in the first argument is an instance of the class in the second argument. Multiple classes can also be checked at once."
   ]
  },
  {
   "cell_type": "code",
   "execution_count": 19,
   "metadata": {},
   "outputs": [
    {
     "name": "stdout",
     "output_type": "stream",
     "text": [
      "True\n",
      "False\n",
      "True\n"
     ]
    }
   ],
   "source": [
    "print( isinstance( 1,  int ) )\n",
    "print( isinstance( 1.0, int ) )\n",
    "print( isinstance( 1.0, (int, float) ) )"
   ]
  },
  {
   "cell_type": "markdown",
   "metadata": {},
   "source": [
    "**pow( x, y, z )** can be used to find the power $x^y$ also the mod of the resulting value with the third specified number can be found i.e. : ($x^y$ % z)."
   ]
  },
  {
   "cell_type": "code",
   "execution_count": 20,
   "metadata": {},
   "outputs": [
    {
     "name": "stdout",
     "output_type": "stream",
     "text": [
      "27\n",
      "2\n"
     ]
    }
   ],
   "source": [
    "print( pow( 3, 3 ) )\n",
    "print( pow( 3, 3, 5) )"
   ]
  },
  {
   "cell_type": "markdown",
   "metadata": {},
   "source": [
    "**range( from_value, to_value, increment )** function outputs the integers of the specified range. It can also be used to generate a series by specifying the difference between the two numbers within a particular range. The elements are returned in a list (will be discussing in detail later.)\n",
    "\n",
    "In Python 2.x, you would not need to cast the value returned by the __range()__ function into a __list__. In Python 3.x, you will need to do this casting just so that you can see what value __range()__ produces. However, while using the value produced by __range()__, there will be no need to cast with __list__."
   ]
  },
  {
   "cell_type": "code",
   "execution_count": 21,
   "metadata": {},
   "outputs": [
    {
     "name": "stdout",
     "output_type": "stream",
     "text": [
      "[0, 1, 2]\n",
      "[2, 3, 4, 5, 6, 7, 8]\n",
      "[2, 10, 18, 26]\n"
     ]
    }
   ],
   "source": [
    "print( list( range( 3 ) ))\n",
    "print( list( range( 2, 9 ) ))\n",
    "print( list( range( 2, 27, 8 ) ))"
   ]
  },
  {
   "cell_type": "code",
   "execution_count": null,
   "metadata": {},
   "outputs": [],
   "source": [
    "'Hello->' * 5"
   ]
  },
  {
   "cell_type": "markdown",
   "metadata": {},
   "source": [
    "## __Exercises__\n",
    "\n",
    "Solve each of the following exercises."
   ]
  },
  {
   "cell_type": "raw",
   "metadata": {},
   "source": [
    "Exercise 3.3. Python provides a built-in function called len that returns the length of a string, so\n",
    "the value of len('allen') is 5.\n",
    "\n",
    "Write a function named right_justify() that takes a string as a parameter and prints the\n",
    "string with enough leading spaces so that the last letter of the string is in column 70 of the display.\n",
    "\n",
    ">>> right_justify( 'allen' )\n",
    "                                                                                 allen"
   ]
  },
  {
   "cell_type": "code",
   "execution_count": 7,
   "metadata": {},
   "outputs": [
    {
     "name": "stdout",
     "output_type": "stream",
     "text": [
      "                                                                 Hello\n"
     ]
    }
   ],
   "source": [
    "def right_justify( in_str): \n",
    "    \n",
    "    print(in_str.rjust(70))\n",
    "\n",
    "right_justify( 'Hello' )\n"
   ]
  },
  {
   "cell_type": "raw",
   "metadata": {},
   "source": [
    "Exercise 3.5. This exercise can be done using only the statements and other features we have learned\n",
    "so far.\n",
    "\n",
    "1. Write a function that draws a grid like the following:\n",
    "    \n",
    "+ - - - - + - - - - +\n",
    "|         |         |\n",
    "|         |         |\n",
    "|         |         |\n",
    "|         |         |\n",
    "+ - - - - + - - - - +\n",
    "|         |         |\n",
    "|         |         |\n",
    "|         |         |\n",
    "|         |         |\n",
    "+ - - - - + - - - - +\n",
    "\n",
    "\n",
    "2. Write a function that draws a similar grid with five rows and four columns.\n",
    "\n",
    "+ - - - - + - - - - + - - - - + - - - - +\n",
    "|         |         |         |         |\n",
    "|         |         |         |         |\n",
    "|         |         |         |         |\n",
    "|         |         |         |         |\n",
    "+ - - - - + - - - - + - - - - + - - - - +\n",
    "|         |         |         |         |\n",
    "|         |         |         |         |\n",
    "|         |         |         |         |\n",
    "|         |         |         |         |\n",
    "+ - - - - + - - - - + - - - - + - - - - +\n",
    "|         |         |         |         |\n",
    "|         |         |         |         |\n",
    "|         |         |         |         |\n",
    "|         |         |         |         |\n",
    "+ - - - - + - - - - + - - - - + - - - - +\n",
    "|         |         |         |         |\n",
    "|         |         |         |         |\n",
    "|         |         |         |         |\n",
    "|         |         |         |         |\n",
    "+ - - - - + - - - - + - - - - + - - - - +\n",
    "|         |         |         |         |\n",
    "|         |         |         |         |\n",
    "|         |         |         |         |\n",
    "|         |         |         |         |\n",
    "+ - - - - + - - - - + - - - - + - - - - +\n"
   ]
  },
  {
   "cell_type": "markdown",
   "metadata": {},
   "source": [
    "### __Exercise__\n",
    "\n",
    "This is your final exercise for the day.\n",
    "\n",
    "Can you think of a way to generalize your grid function so that you can use a single function to draw any grid with a given number of rows and columns?\n",
    "\n",
    "Now write a function called grid( n_rows, n_cols ), which prints a grid with the given number of rows and columns.\n",
    "\n",
    "For example, the above two grids would have been printed out using the calls\n",
    "\n",
    "      grid( 2, 2 )\n",
    "       \n",
    "and\n",
    "      \n",
    "      grid( 5, 4 )\n"
   ]
  },
  {
   "cell_type": "code",
   "execution_count": 3,
   "metadata": {},
   "outputs": [
    {
     "name": "stdout",
     "output_type": "stream",
     "text": [
      "+ - - - - + - - - - +\n",
      "|         |         |\n",
      "|         |         |\n",
      "|         |         |\n",
      "|         |         |\n",
      "+ - - - - + - - - - +\n",
      "|         |         |\n",
      "|         |         |\n",
      "|         |         |\n",
      "|         |         |\n",
      "+ - - - - + - - - - +\n",
      "+ - - - - + - - - - + - - - - + - - - - + - - - - +\n",
      "|         |         |         |         |         |\n",
      "|         |         |         |         |         |\n",
      "|         |         |         |         |         |\n",
      "|         |         |         |         |         |\n",
      "+ - - - - + - - - - + - - - - + - - - - + - - - - +\n",
      "|         |         |         |         |         |\n",
      "|         |         |         |         |         |\n",
      "|         |         |         |         |         |\n",
      "|         |         |         |         |         |\n",
      "+ - - - - + - - - - + - - - - + - - - - + - - - - +\n",
      "|         |         |         |         |         |\n",
      "|         |         |         |         |         |\n",
      "|         |         |         |         |         |\n",
      "|         |         |         |         |         |\n",
      "+ - - - - + - - - - + - - - - + - - - - + - - - - +\n",
      "|         |         |         |         |         |\n",
      "|         |         |         |         |         |\n",
      "|         |         |         |         |         |\n",
      "|         |         |         |         |         |\n",
      "+ - - - - + - - - - + - - - - + - - - - + - - - - +\n"
     ]
    }
   ],
   "source": [
    "def first(cols ):\n",
    "    print(\"+\", end=\" \")\n",
    "    for i in range(cols-1):\n",
    "        print(\"- - - - +\", end=\" \")\n",
    "    print(\"- - - - +\" )\n",
    "\n",
    "def second(cols):\n",
    "    print(\"|\", end=\" \")\n",
    "    for i in range(cols-1):\n",
    "        print(\"        |\", end=\" \")\n",
    "    print(\"        |\" )\n",
    "    \n",
    "    \n",
    "def grid(cols,rows):   \n",
    "    first(cols)\n",
    "    for i in range(rows):\n",
    "        for i in range(4):\n",
    "            second(cols)\n",
    "        first(cols)    \n",
    "            \n",
    "\n",
    "# Some test cases\n",
    "\n",
    "grid( 2, 2 )\n",
    "grid( 5, 4 )\n",
    "\n",
    "\n",
    "\n"
   ]
  },
  {
   "cell_type": "markdown",
   "metadata": {},
   "source": [
    "## References\n",
    "\n",
    "Some of this lab material is based on the Python Notebooks at:\n",
    "\n",
    "https://github.com/rajathkmp/Python-Lectures"
   ]
  }
 ],
 "metadata": {
  "kernelspec": {
   "display_name": "Python 2",
   "language": "python",
   "name": "python2"
  },
  "language_info": {
   "codemirror_mode": {
    "name": "ipython",
    "version": 3
   },
   "file_extension": ".py",
   "mimetype": "text/x-python",
   "name": "python",
   "nbconvert_exporter": "python",
   "pygments_lexer": "ipython3",
   "version": "3.7.3"
  }
 },
 "nbformat": 4,
 "nbformat_minor": 4
}
