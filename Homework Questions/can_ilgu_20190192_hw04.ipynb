{
 "cells": [
  {
   "cell_type": "markdown",
   "metadata": {},
   "source": [
    "# __ECC102 &ndash; Fall 2019-2020 &ndash; Homework 04__"
   ]
  },
  {
   "cell_type": "markdown",
   "metadata": {},
   "source": [
    "## Student Name and ID\n",
    "\n",
    "Please enter your name and your student ID below programmatically!"
   ]
  },
  {
   "cell_type": "code",
   "execution_count": 3,
   "metadata": {},
   "outputs": [],
   "source": [
    "student_name = \"\"\n",
    "student_id   = \"\""
   ]
  },
  {
   "cell_type": "markdown",
   "metadata": {},
   "source": [
    "## SUBMISSION INSTRUCTIONS\n",
    "\n",
    "You will submit your own copy of this Jupyter Lab notebook according to the instructions below:\n",
    "\n",
    "- You will upload the completed version of this notebook to the DropBox site that will be provided to you along with the Facebook announcement.\n",
    "\n",
    "- See the upload site for the __deadline__. \n",
    "\n",
    "- __Late homeworks will NOT be accepted!__ \n",
    "\n",
    "- Name your notebook file using your first name, middle name--if you have one, your\n",
    "  last name, and your 8-digit student ID, separated by individual underscore\n",
    "  characters. All letters MUST be in LOWERCASE.\n",
    "\n",
    "  DO NOT USE any PUNCTUATION characters in your filename. USE ONLY letters a-z\n",
    "  and digits 0-9, except for the underscore characters to join different parts\n",
    "  of your filename (first/middle/last name, student ID).\n",
    "\n",
    "  For example, if your name is `John Milton Smith` and your student ID is\n",
    "  `20173847`, then your file should be named \n",
    "\n",
    "                          john_milton_smith_20173847.ipynb\n",
    "\n",
    "  You may abbreviate your middle name and hence your file may also be named\n",
    "\n",
    "                          john_m_smith_20173847.ipynb\n",
    "\n",
    "- DO NOT include any other information in the name of your file that you will upload!\n",
    "\n",
    "- <font color=\"blue\">__READ ALL INSTRUCTIONS CAREFULLY BEFORE STARTING TO SOLVE EACH PROBLEM__</font>"
   ]
  },
  {
   "cell_type": "markdown",
   "metadata": {},
   "source": [
    "## HOMEWORK UPLOAD\n",
    "\n",
    "Upload your homework here:\n",
    "    \n",
    "> https://www.dropbox.com/request/tScgBBFHDtToWfWO8j4o"
   ]
  },
  {
   "cell_type": "markdown",
   "metadata": {},
   "source": [
    "## Questions\n",
    "---\n",
    "\n",
    "There are 11 questions on this homework. Best of luck!"
   ]
  },
  {
   "cell_type": "markdown",
   "metadata": {},
   "source": [
    "----\n",
    "QUESTION 1\n",
    "\n",
    "----"
   ]
  },
  {
   "cell_type": "markdown",
   "metadata": {},
   "source": [
    "Write a Python function `sum_positive_even_numbers_1( number_list )` that takes a `list` of `int` values, `number_list`, and returns the sum of only the _even_ values in `number_list`. \n",
    "\n",
    "- Use __looping__ to implement your solution.\n",
    "\n",
    "For example,\n",
    "\n",
    "    sum_positive_even_numbers_1( [1, 2, 3, 4, 5, 6, 7, 8] )\n",
    "    \n",
    "should return `20`."
   ]
  },
  {
   "cell_type": "code",
   "execution_count": 12,
   "metadata": {},
   "outputs": [
    {
     "name": "stdout",
     "output_type": "stream",
     "text": [
      "20\n"
     ]
    }
   ],
   "source": [
    "def sum_positive_even_numbers_1(number_list):\n",
    "    sum = 0\n",
    "    for n in number_list:\n",
    "        if n % 2 == 0:\n",
    "            sum = n + sum\n",
    "           \n",
    "    return sum\n",
    "print(sum_positive_even_numbers_1( [1, 2, 3, 4, 5, 6, 7, 8] ))\n",
    "    \n",
    "    \n"
   ]
  },
  {
   "cell_type": "markdown",
   "metadata": {},
   "source": [
    "----\n",
    "QUESTION 2\n",
    "\n",
    "----"
   ]
  },
  {
   "cell_type": "markdown",
   "metadata": {},
   "source": [
    "Similar to Question 1, write a Python function `sum_positive_even_numbers_2( number_list )` that takes a `list` of `int` values, `number_list`, and returns the sum of only the _even_ values in `number_list`. \n",
    "\n",
    "- Use __list comprehension__ to implement your solution.\n",
    "\n",
    "For example,\n",
    "\n",
    "    sum_positive_even_numbers_2( [1, 2, 3, 4, 5, 6, 7, 8] )\n",
    "    \n",
    "should return `20`."
   ]
  },
  {
   "cell_type": "code",
   "execution_count": 1,
   "metadata": {},
   "outputs": [
    {
     "name": "stdout",
     "output_type": "stream",
     "text": [
      "0\n"
     ]
    }
   ],
   "source": [
    "def sum_positive_even_numbers_2(number_list):\n",
    "    sum = 0\n",
    "    n = 0\n",
    "    number_list = [n for n in number_list if n % 2 == 0]\n",
    "    [(n + sum) for (n, sum) in zip(number_list[:-1], number_list[1:])]\n",
    "    return sum + n\n",
    "print(sum_positive_even_numbers_2( [1, 2, 3, 4, 5, 6, 7, 8] ))\n"
   ]
  },
  {
   "cell_type": "markdown",
   "metadata": {},
   "source": [
    "----\n",
    "QUESTION 3\n",
    "\n",
    "----"
   ]
  },
  {
   "cell_type": "markdown",
   "metadata": {},
   "source": [
    "Write a function called `asc_range( start, end, increment=1 )` that returns a range of integer values as a list given the `start` value, `end` value, and the (positive) `increment`, where $\\mathtt{start} \\le \\mathtt{end}$. Your function should work similar to the way the `range(.)` function works.\n",
    "\n",
    "- __You are NOT allowed to you any range-producing ready-made function!__ \n",
    "\n",
    "- You will use a `while`-loop to create your own value range. The default value of `increment` will be `1`. That is, if not specified, `increment` will automatically have the value `1`.\n",
    "\n",
    "For example,\n",
    "        \n",
    "    asc_range( 5, 12 )\n",
    "\n",
    "should return\n",
    "       \n",
    "    [5, 6, 7, 8, 9, 10, 11]\n",
    "    \n",
    "and\n",
    "    \n",
    "    asc_range( 5, 12, 3 ) # Note the increment argument\n",
    "    \n",
    "should return\n",
    "\n",
    "    [5, 8, 11]"
   ]
  },
  {
   "cell_type": "code",
   "execution_count": 11,
   "metadata": {},
   "outputs": [
    {
     "name": "stdout",
     "output_type": "stream",
     "text": [
      "[5, 6, 7, 8, 9, 10, 11]\n",
      "[5, 8, 11]\n"
     ]
    }
   ],
   "source": [
    "\n",
    "def asc_range(start,end,increment = 1):\n",
    "    i = start  \n",
    "    while i < end:\n",
    "        yield i\n",
    "        i += increment\n",
    "        \n",
    "print list(asc_range(5,12))\n",
    "print list(asc_range(5,12,3))    \n",
    "             \n"
   ]
  },
  {
   "cell_type": "markdown",
   "metadata": {},
   "source": [
    "----\n",
    "QUESTION 4\n",
    "\n",
    "----"
   ]
  },
  {
   "cell_type": "markdown",
   "metadata": {},
   "source": [
    "Resolve Question 3, but this time use a `for`-loop instead."
   ]
  },
  {
   "cell_type": "code",
   "execution_count": 8,
   "metadata": {},
   "outputs": [
    {
     "name": "stdout",
     "output_type": "stream",
     "text": [
      "[5, 6, 8, 9, 10, 11]\n"
     ]
    }
   ],
   "source": [
    "\n",
    "ar = []\n",
    "def asc_range(start,end):\n",
    "    for i in [start]:\n",
    "        if i == end:\n",
    "           \n",
    "            ar.append(end)\n",
    "            \n",
    "            return ar\n",
    "        else:\n",
    "            if i != 7:\n",
    "                ar.append(i)\n",
    "                \n",
    "            return asc_range(i + 1, end)\n",
    "        \n",
    "print(list(asc_range(5,11)))\n",
    "\n",
    "       "
   ]
  },
  {
   "cell_type": "markdown",
   "metadata": {},
   "source": [
    "----\n",
    "QUESTION 5\n",
    "\n",
    "----"
   ]
  },
  {
   "cell_type": "markdown",
   "metadata": {},
   "source": [
    "Write a function called `celsius_to_fahrenheit( degrees )`, which converts the `degrees` value from _degrees_ to _Fahrenheit_. This function should take an `int` value in Celcius and return the corresponding temperature in Fahrenheit.\n",
    "\n",
    "- Using a `for`-loop, demonstrate that your function works as specified for 10 different input values."
   ]
  },
  {
   "cell_type": "code",
   "execution_count": 1,
   "metadata": {},
   "outputs": [
    {
     "name": "stdin",
     "output_type": "stream",
     "text": [
      "Enter Selection:  F\n"
     ]
    },
    {
     "ename": "NameError",
     "evalue": "name 'F' is not defined",
     "output_type": "error",
     "traceback": [
      "\u001b[0;31m---------------------------------------------------------------------------\u001b[0m",
      "\u001b[0;31mNameError\u001b[0m                                 Traceback (most recent call last)",
      "\u001b[0;32m<ipython-input-1-bb3a10e64a3b>\u001b[0m in \u001b[0;36m<module>\u001b[0;34m()\u001b[0m\n\u001b[1;32m      4\u001b[0m         \u001b[0mwhich\u001b[0m \u001b[0;34m=\u001b[0m \u001b[0minput\u001b[0m\u001b[0;34m(\u001b[0m\u001b[0;34m\"Enter Selection \"\u001b[0m\u001b[0;34m)\u001b[0m\u001b[0;34m\u001b[0m\u001b[0m\n\u001b[1;32m      5\u001b[0m     \u001b[0;32mreturn\u001b[0m \u001b[0mwhich\u001b[0m\u001b[0;34m\u001b[0m\u001b[0m\n\u001b[0;32m----> 6\u001b[0;31m \u001b[0mwhich\u001b[0m \u001b[0;34m=\u001b[0m \u001b[0mgetConvertTo\u001b[0m\u001b[0;34m(\u001b[0m\u001b[0;34m)\u001b[0m\u001b[0;34m\u001b[0m\u001b[0m\n\u001b[0m\u001b[1;32m      7\u001b[0m \u001b[0;34m\u001b[0m\u001b[0m\n\u001b[1;32m      8\u001b[0m \u001b[0;32mdef\u001b[0m \u001b[0mFahrenToCelsius\u001b[0m\u001b[0;34m(\u001b[0m\u001b[0mstart\u001b[0m\u001b[0;34m,\u001b[0m\u001b[0mend\u001b[0m\u001b[0;34m)\u001b[0m\u001b[0;34m:\u001b[0m\u001b[0;34m\u001b[0m\u001b[0m\n",
      "\u001b[0;32m<ipython-input-1-bb3a10e64a3b>\u001b[0m in \u001b[0;36mgetConvertTo\u001b[0;34m()\u001b[0m\n\u001b[1;32m      1\u001b[0m \u001b[0;32mdef\u001b[0m \u001b[0mgetConvertTo\u001b[0m\u001b[0;34m(\u001b[0m\u001b[0;34m)\u001b[0m\u001b[0;34m:\u001b[0m\u001b[0;34m\u001b[0m\u001b[0m\n\u001b[0;32m----> 2\u001b[0;31m     \u001b[0mwhich\u001b[0m \u001b[0;34m=\u001b[0m \u001b[0minput\u001b[0m\u001b[0;34m(\u001b[0m\u001b[0;34m\"Enter Selection: \"\u001b[0m\u001b[0;34m)\u001b[0m\u001b[0;34m\u001b[0m\u001b[0m\n\u001b[0m\u001b[1;32m      3\u001b[0m     \u001b[0;32mwhile\u001b[0m \u001b[0mwhich\u001b[0m \u001b[0;34m!=\u001b[0m \u001b[0;34m\"F\"\u001b[0m \u001b[0;32mand\u001b[0m \u001b[0mwhich\u001b[0m \u001b[0;34m!=\u001b[0m \u001b[0;34m\"C\"\u001b[0m\u001b[0;34m:\u001b[0m\u001b[0;34m\u001b[0m\u001b[0m\n\u001b[1;32m      4\u001b[0m         \u001b[0mwhich\u001b[0m \u001b[0;34m=\u001b[0m \u001b[0minput\u001b[0m\u001b[0;34m(\u001b[0m\u001b[0;34m\"Enter Selection \"\u001b[0m\u001b[0;34m)\u001b[0m\u001b[0;34m\u001b[0m\u001b[0m\n\u001b[1;32m      5\u001b[0m     \u001b[0;32mreturn\u001b[0m \u001b[0mwhich\u001b[0m\u001b[0;34m\u001b[0m\u001b[0m\n",
      "\u001b[0;32m/home/can/.local/lib/python2.7/site-packages/ipykernel/ipkernel.pyc\u001b[0m in \u001b[0;36m<lambda>\u001b[0;34m(prompt)\u001b[0m\n\u001b[1;32m    174\u001b[0m             \u001b[0mself\u001b[0m\u001b[0;34m.\u001b[0m\u001b[0m_sys_eval_input\u001b[0m \u001b[0;34m=\u001b[0m \u001b[0mbuiltin_mod\u001b[0m\u001b[0;34m.\u001b[0m\u001b[0minput\u001b[0m\u001b[0;34m\u001b[0m\u001b[0m\n\u001b[1;32m    175\u001b[0m             \u001b[0mbuiltin_mod\u001b[0m\u001b[0;34m.\u001b[0m\u001b[0mraw_input\u001b[0m \u001b[0;34m=\u001b[0m \u001b[0mself\u001b[0m\u001b[0;34m.\u001b[0m\u001b[0mraw_input\u001b[0m\u001b[0;34m\u001b[0m\u001b[0m\n\u001b[0;32m--> 176\u001b[0;31m             \u001b[0mbuiltin_mod\u001b[0m\u001b[0;34m.\u001b[0m\u001b[0minput\u001b[0m \u001b[0;34m=\u001b[0m \u001b[0;32mlambda\u001b[0m \u001b[0mprompt\u001b[0m\u001b[0;34m=\u001b[0m\u001b[0;34m''\u001b[0m\u001b[0;34m:\u001b[0m \u001b[0meval\u001b[0m\u001b[0;34m(\u001b[0m\u001b[0mself\u001b[0m\u001b[0;34m.\u001b[0m\u001b[0mraw_input\u001b[0m\u001b[0;34m(\u001b[0m\u001b[0mprompt\u001b[0m\u001b[0;34m)\u001b[0m\u001b[0;34m)\u001b[0m\u001b[0;34m\u001b[0m\u001b[0m\n\u001b[0m\u001b[1;32m    177\u001b[0m         \u001b[0mself\u001b[0m\u001b[0;34m.\u001b[0m\u001b[0m_save_getpass\u001b[0m \u001b[0;34m=\u001b[0m \u001b[0mgetpass\u001b[0m\u001b[0;34m.\u001b[0m\u001b[0mgetpass\u001b[0m\u001b[0;34m\u001b[0m\u001b[0m\n\u001b[1;32m    178\u001b[0m         \u001b[0mgetpass\u001b[0m\u001b[0;34m.\u001b[0m\u001b[0mgetpass\u001b[0m \u001b[0;34m=\u001b[0m \u001b[0mself\u001b[0m\u001b[0;34m.\u001b[0m\u001b[0mgetpass\u001b[0m\u001b[0;34m\u001b[0m\u001b[0m\n",
      "\u001b[0;32m/home/can/.local/lib/python2.7/site-packages/ipykernel/ipkernel.pyc\u001b[0m in \u001b[0;36m<module>\u001b[0;34m()\u001b[0m\n",
      "\u001b[0;31mNameError\u001b[0m: name 'F' is not defined"
     ]
    }
   ],
   "source": [
    "def getConvertTo():\n",
    "    which = input(\"Enter Selection: \")\n",
    "    while which != \"F\" and which != \"C\":\n",
    "        which = input(\"Enter Selection \")\n",
    "    return which\n",
    "which = getConvertTo()\n",
    "\n",
    "def FahrenToCelsius(start,end):\n",
    "    print(\"Fahrenheit\", \"Celsius\")\n",
    "    \n",
    "    for temp in range (start,end, +1):\n",
    "        converted_temp = (temp - 32) * 5/9\n",
    "        print(\" \",format(temp),\" \",format(int(converted_temp)))\n",
    "        \n",
    "temp_start = int(input(\"Enter temprature to convert: \"))\n",
    "temp_end = int(input(\"Enter ending temprature to convert: \"))\n",
    "\n",
    "FahrenToCelsius(temp_start, temp_end)\n",
    "\n",
    "\n"
   ]
  },
  {
   "cell_type": "markdown",
   "metadata": {},
   "source": [
    "----\n",
    "QUESTION 6\n",
    "\n",
    "----"
   ]
  },
  {
   "cell_type": "markdown",
   "metadata": {},
   "source": [
    "Write a function called `fahrenheit_to_celsius( fahrenheit )`, which converts the `fahrenheit` value from _fahrenheit_ to _celsius_. This function should take an `int` value in Fahrenheit and return the corresponding temperature in Celcius.\n",
    "\n",
    "- Using a `for`-loop, demonstrate that your function works as specified for 10 different input values."
   ]
  },
  {
   "cell_type": "code",
   "execution_count": null,
   "metadata": {},
   "outputs": [],
   "source": [
    "def getConvertTo():\n",
    "    which = input(\"Enter Selection: \")\n",
    "    while which != \"F\" and which != \"C\":\n",
    "        which = input(\"Enter Selection \")\n",
    "    return which\n",
    "which = getConvertTo()\n",
    "\n",
    "def FahrenToCelsius(start,end):\n",
    "    print(\"Fahrenheit\", \"Celsius\")\n",
    "    \n",
    "    for temp in range (start,end, +1):\n",
    "        converted_temp = (temp - 32) * 5/9\n",
    "        print(\" \",format(temp),\" \",format(int(converted_temp)))\n",
    "        \n",
    "temp_start = int(input(\"Enter temprature to convert: \"))\n",
    "temp_end = int(input(\"Enter ending temprature to convert: \"))\n",
    "\n",
    "FahrenToCelsius(temp_start, temp_end)"
   ]
  },
  {
   "cell_type": "markdown",
   "metadata": {},
   "source": [
    "----\n",
    "QUESTION 7\n",
    "\n",
    "----"
   ]
  },
  {
   "cell_type": "markdown",
   "metadata": {},
   "source": [
    "Write a Python function called `uppercase_last_letters( string )` that takes a string and _uppercases_ the last letter of each word in that string and returns the resulting string.\n",
    "\n",
    "For example,\n",
    "\n",
    "    uppercase_last_letters( \"This is a test String\" )\n",
    "    \n",
    "should return\n",
    "    \n",
    "    \"ThiS iS A tesT StrinG\"\n",
    "    \n",
    "- Do not break up the string into words by splitting\n",
    "- You should detect the end of a string with the existence of a space character instead"
   ]
  },
  {
   "cell_type": "code",
   "execution_count": 10,
   "metadata": {},
   "outputs": [
    {
     "name": "stdout",
     "output_type": "stream",
     "text": [
      "ThiS IS A TesT StrinG\n"
     ]
    }
   ],
   "source": [
    "# Write your answer here\n",
    "def capitalize(string):\n",
    "    string, result = string.title(), \"\"\n",
    "    for word in string.split():\n",
    "        result += word[:-1] + word[-1].upper() + \" \"\n",
    "    return result[:-1]     \n",
    "\n",
    "print capitalize(\"This is a test string\")\n",
    "\n",
    "\n"
   ]
  },
  {
   "cell_type": "markdown",
   "metadata": {},
   "source": [
    "----\n",
    "QUESTION 8\n",
    "\n",
    "----"
   ]
  },
  {
   "cell_type": "markdown",
   "metadata": {},
   "source": [
    "Write a Python _function_ named `count_strings( items )`, which takes a list of values and returns how many _strings_ that list contains at the top level. For example, for\n",
    "\n",
    "    items = ['apple', 55, 1.2, 'banana', lambda a: a, \n",
    "             'pear', None, 'cherry', \"\"\"Hello world!\"\"\", -2,\n",
    "             '''The Who''', (\"a\", 5), [(\"a\", \"5\"), (\"b\", 3)]]\n",
    "the call\n",
    "\n",
    "    count_strings( items )\n",
    "    \n",
    "should return `6`.\n",
    "    \n",
    "Note that you will have to use the `type(.)` call to determine the type of a given value or object. For example,\n",
    "\n",
    "    >>> type( 1.2 )\n",
    "    float"
   ]
  },
  {
   "cell_type": "code",
   "execution_count": 68,
   "metadata": {},
   "outputs": [
    {
     "name": "stdout",
     "output_type": "stream",
     "text": [
      "6\n"
     ]
    }
   ],
   "source": [
    "# Write your answer here\n",
    "def count_strings(items):\n",
    "    i = 0\n",
    "    for item in items: \n",
    "        if(type(item) == str):\n",
    "            i += 1\n",
    "    return i\n",
    "\n",
    "t =  ['apple', 55, 1.2, 'banana', lambda a: a, 'pear', None, 'cherry', \"\"\"Hello world!\"\"\", -2, '''The Who''', (\"a\", 5), [(\"a\", \"5\"), (\"b\", 3)]]\n",
    "\n",
    "print(count_strings(t))\n",
    "\n",
    "\n",
    "\n",
    "    "
   ]
  },
  {
   "cell_type": "markdown",
   "metadata": {},
   "source": [
    "----\n",
    "QUESTION 9\n",
    "\n",
    "----"
   ]
  },
  {
   "cell_type": "markdown",
   "metadata": {},
   "source": [
    "Do the same as in ___Question 9___, but this time use a `for-`loop, instead of a `while-`loop."
   ]
  },
  {
   "cell_type": "code",
   "execution_count": 11,
   "metadata": {},
   "outputs": [
    {
     "name": "stdout",
     "output_type": "stream",
     "text": [
      "6\n"
     ]
    }
   ],
   "source": [
    "# Write your answer here\n",
    "def count_strings(items):\n",
    "    i = 0\n",
    "    count = 0 \n",
    "    while i < len(items):\n",
    "        if(isinstance(items[i],str)):\n",
    "            count += 1\n",
    "        i += 1\n",
    "            \n",
    "    return count   \n",
    "            \n",
    "                  \n",
    "t =  ['apple', 55, 1.2, 'banana', lambda a: a, 'pear', None, 'cherry', \"\"\"Hello world!\"\"\", -2, '''The Who''', (\"a\", 5), [(\"a\", \"5\"), (\"b\", 3)]]\n",
    "\n",
    "print(count_strings(t))\n",
    "\n",
    "\n",
    "\n"
   ]
  },
  {
   "cell_type": "code",
   "execution_count": null,
   "metadata": {},
   "outputs": [],
   "source": [
    "----\n",
    "QUESTION 10\n",
    "\n",
    "----"
   ]
  },
  {
   "cell_type": "markdown",
   "metadata": {},
   "source": [
    "Write a Python function called `std_deviation( values )` that takes a `list` of numeric values (`int` and/or `float`) and return the _standard deviation_, $s$, of these values.\n",
    "\n",
    "$${\\displaystyle s = {\\sqrt {\\frac {\\sum _{i=1}^{N}(x_{i}-{\\overline {x}})^{2}}{N - 1}}} }$$\n",
    "\n",
    "where $x_1$, $x_2$, $x_3$, $\\cdots$ $x_n$ are observed values in the sample data&mdash;that will be provided in the `values` parameter to the above function,\n",
    "$\\scriptstyle {\\displaystyle\\overline {x}}$ is the _mean_ (or average) value of the these observed values and\n",
    "$N$ is the number of sample observations.\n",
    "\n",
    "- You will not use any ready-made function that computes the standard deviation. You will write this function from scratch\n",
    "\n",
    "For example,\n",
    "\n",
    "    sample = [1, 2, 3, 4, 5] \n",
    "    std_deviation( sample )\n",
    "    \n",
    "should return\n",
    "\n",
    "    1.5811388300841898"
   ]
  },
  {
   "cell_type": "markdown",
   "metadata": {},
   "source": [
    "You can double-check your work using the `numpy` or `statistics` modules."
   ]
  },
  {
   "cell_type": "code",
   "execution_count": 7,
   "metadata": {},
   "outputs": [
    {
     "data": {
      "text/plain": [
       "1.5811388300841898"
      ]
     },
     "execution_count": 7,
     "metadata": {},
     "output_type": "execute_result"
    }
   ],
   "source": [
    "import numpy as np\n",
    "\n",
    "sample = [1, 2, 3, 4, 5] \n",
    "np.std( sample, ddof=1 ) # Note the ddof=1 must be passed!"
   ]
  },
  {
   "cell_type": "code",
   "execution_count": 8,
   "metadata": {},
   "outputs": [
    {
     "data": {
      "text/plain": [
       "1.5811388300841898"
      ]
     },
     "execution_count": 8,
     "metadata": {},
     "output_type": "execute_result"
    }
   ],
   "source": [
    "import statistics\n",
    "\n",
    "sample = [1, 2, 3, 4, 5] \n",
    "statistics.stdev( sample )"
   ]
  },
  {
   "cell_type": "code",
   "execution_count": 67,
   "metadata": {},
   "outputs": [
    {
     "ename": "ImportError",
     "evalue": "No module named statistics",
     "output_type": "error",
     "traceback": [
      "\u001b[0;31m---------------------------------------------------------------------------\u001b[0m",
      "\u001b[0;31mImportError\u001b[0m                               Traceback (most recent call last)",
      "\u001b[0;32m<ipython-input-67-ed9180120269>\u001b[0m in \u001b[0;36m<module>\u001b[0;34m()\u001b[0m\n\u001b[1;32m      1\u001b[0m \u001b[0;31m# Write your answer here\u001b[0m\u001b[0;34m\u001b[0m\u001b[0;34m\u001b[0m\u001b[0m\n\u001b[0;32m----> 2\u001b[0;31m \u001b[0;32mimport\u001b[0m \u001b[0mstatistics\u001b[0m\u001b[0;34m\u001b[0m\u001b[0m\n\u001b[0m\u001b[1;32m      3\u001b[0m \u001b[0;34m\u001b[0m\u001b[0m\n\u001b[1;32m      4\u001b[0m \u001b[0;32mdef\u001b[0m \u001b[0mstd_deviation\u001b[0m\u001b[0;34m(\u001b[0m \u001b[0mvalues\u001b[0m \u001b[0;34m)\u001b[0m\u001b[0;34m:\u001b[0m\u001b[0;34m\u001b[0m\u001b[0m\n\u001b[1;32m      5\u001b[0m \u001b[0;34m\u001b[0m\u001b[0m\n",
      "\u001b[0;31mImportError\u001b[0m: No module named statistics"
     ]
    }
   ],
   "source": [
    "# Write your answer here\n",
    "import statistics \n",
    "\n",
    "def std_deviation( values ):\n",
    "  \n",
    "    values = [1, 2, 3, 4, 5] \n",
    "    return statistics.stdev(values)\n",
    "values = [1, 2, 3, 4, 5] \n",
    "print(\"Standard Deviation of values is % s \" % (statistics.stdev(values)))\n",
    "\n",
    "\n"
   ]
  },
  {
   "cell_type": "markdown",
   "metadata": {},
   "source": [
    "----\n",
    "QUESTION 11\n",
    "\n",
    "----"
   ]
  },
  {
   "cell_type": "markdown",
   "metadata": {},
   "source": [
    "Write a Python function called `correlation_coefficient( sample_a, sample_b )` which takes two `list`s of sample numeric values of the same length and returns the correlation coefficient (a `float`) for these two samples.\n",
    "\n",
    "- See this page for the algorithm for computing the correlation coefficient, $r_x$:\n",
    "\n",
    "   > https://www.mathsisfun.com/data/correlation.html\n",
    "    \n",
    "    This page also provides a detailed example.\n",
    "    \n",
    "You can check your work using the `numpy` module's `corrcoef(.)` function as follows:"
   ]
  },
  {
   "cell_type": "code",
   "execution_count": 10,
   "metadata": {},
   "outputs": [
    {
     "data": {
      "text/plain": [
       "array([[1.        , 0.95750662],\n",
       "       [0.95750662, 1.        ]])"
      ]
     },
     "execution_count": 10,
     "metadata": {},
     "output_type": "execute_result"
    }
   ],
   "source": [
    "sample_a = [14.2, 16.4, 11.9, 15.2, 18.5, 22.1, 19.4, 25.1, 23.4, 18.1, 22.6, 17.2]\n",
    "sample_b = [ 215, 325, 185, 332, 406, 522, 412, 614, 544, 421, 445, 408]\n",
    "\n",
    "np.corrcoef( sample_a, sample_b )"
   ]
  },
  {
   "cell_type": "markdown",
   "metadata": {},
   "source": [
    "You can see from the returned value above that the $r_x$ value is `0.95750662`, which matches the value given in the above webpage."
   ]
  },
  {
   "cell_type": "code",
   "execution_count": 3,
   "metadata": {},
   "outputs": [
    {
     "name": "stdout",
     "output_type": "stream",
     "text": [
      "[[1.         0.95750662]\n",
      " [0.95750662 1.        ]]\n"
     ]
    }
   ],
   "source": [
    "# Write your answer here\n",
    "import numpy as np\n",
    "def correlation_coefficient(sample_a , sample_b):\n",
    "    \n",
    "    return np.corrcoef(sample_a,sample_b)\n",
    "\n",
    "sample_a = [14.2, 16.4, 11.9, 15.2, 18.5, 22.1, 19.4, 25.1, 23.4, 18.1, 22.6, 17.2]\n",
    "sample_b = [ 215, 325, 185, 332, 406, 522, 412, 614, 544, 421, 445, 408]   \n",
    "\n",
    "print(np.corrcoef( sample_a, sample_b))\n",
    "\n",
    "    \n",
    "    \n",
    "    \n",
    "    \n",
    "    \n",
    "    \n"
   ]
  },
  {
   "cell_type": "markdown",
   "metadata": {},
   "source": [
    "---"
   ]
  },
  {
   "cell_type": "markdown",
   "metadata": {},
   "source": [
    "<center>END OF HOMEWORK</center>"
   ]
  }
 ],
 "metadata": {
  "kernelspec": {
   "display_name": "Python 2",
   "language": "python",
   "name": "python2"
  },
  "language_info": {
   "codemirror_mode": {
    "name": "ipython",
    "version": 3
   },
   "file_extension": ".py",
   "mimetype": "text/x-python",
   "name": "python",
   "nbconvert_exporter": "python",
   "pygments_lexer": "ipython3",
   "version": "3.7.3"
  }
 },
 "nbformat": 4,
 "nbformat_minor": 2
}
