{
 "cells": [
  {
   "cell_type": "markdown",
   "metadata": {},
   "source": [
    "# __ECC102 &ndash; Fall 2019-2020 &ndash; Homework 01__"
   ]
  },
  {
   "cell_type": "markdown",
   "metadata": {},
   "source": [
    "## Student Name and ID\n",
    "\n",
    "Please enter your name and your student ID below programmatically!"
   ]
  },
  {
   "cell_type": "code",
   "execution_count": null,
   "metadata": {},
   "outputs": [],
   "source": [
    "student_name = \"CAN\"\n",
    "student_id   = \"20190192\""
   ]
  },
  {
   "cell_type": "markdown",
   "metadata": {},
   "source": [
    "## SUBMISSION INSTRUCTIONS\n",
    "\n",
    "You will submit your own copy of this Jupyter Lab notebook according to the instructions below:\n",
    "\n",
    "- You will upload the completed version of this notebook to the DropBox site that will be provided to you along with the Facebook announcement.\n",
    "\n",
    "- See the upload site for the __deadline__. \n",
    "\n",
    "- __Late homeworks will NOT be accepted!__ \n",
    "\n",
    "- Name your notebook file using your first name, middle name--if you have one, your\n",
    "  last name, and your 8-digit student ID, separated by individual underscore\n",
    "  characters. All letters MUST be in LOWERCASE.\n",
    "\n",
    "  DO NOT USE any PUNCTUATION characters in your filename. USE ONLY letters a-z\n",
    "  and digits 0-9, except for the underscore characters to join different parts\n",
    "  of your filename (first/middle/last name, student ID).\n",
    "\n",
    "  For example, if your name is `John Milton Smith` and your student ID is\n",
    "  `20173847`, then your file should be named \n",
    "\n",
    "                          john_milton_smith_20173847.ipynb\n",
    "\n",
    "  You may abbreviate your middle name and hence your file may also be named\n",
    "\n",
    "                          john_m_smith_20173847.ipynb\n",
    "\n",
    "- DO NOT include any other information in the name of your file that you will upload!"
   ]
  },
  {
   "cell_type": "markdown",
   "metadata": {},
   "source": [
    "## Questions\n",
    "---"
   ]
  },
  {
   "cell_type": "markdown",
   "metadata": {},
   "source": [
    "----\n",
    "QUESTION 1 \n",
    "\n",
    "----"
   ]
  },
  {
   "cell_type": "markdown",
   "metadata": {},
   "source": [
    "Consider the problem of Man, Cabbage, Goat, and Wolf (Figure 1-3) in \"Introduction to Computer Science Using Python: A Computational Problem-Solving Focus\" by Charles Dierbach in Section 1.1.1.\n",
    "\n",
    "Write down all possible _states_ of the problem using the letter `E` to mean that an entity (one of man/cabbage/goat/wolf) is on the _east_ side of the river and letter `W` to mean that the entity in question is on the _west_ side of the river.\n",
    "\n",
    "Indicate the correct sequence of states that will solve the problem by following the rules of the problem.\n",
    "\n",
    "Write this sequence from top to bottom, so that when followed, we start from the [E, E, E, E] state and end up at the last state that finishes the solution of the problem once all entities are in the [W, W, W, W] state, meaning that the man, cabbage, goat, and wolf are safely on the _west_ side of the river.\n",
    "\n",
    "Use the entity order [Man, Cabbage, Goat, Wolf] as done in the textbook.\n",
    "\n",
    "Remember that the `Man` can only take one entity with himself on the boat while leaving remaining entities on of the sides of the river. The `Goat` and the `Wolf` cannot be left alone, since the `Wolf` will eat the `Goat.` Similarly, the `Goat` and the `Cabbage` cannot be left alone, since the `Goat` will eat the `Cabbage.`\n",
    "\n",
    "Note that the `Man` can carry an item on the boat in both directions, not only from _east_ to _west_ side of the river but from _west_ to _east_ as well, if needed.\n",
    "\n",
    "Provide an English description for each solution state.\n",
    "\n",
    "__NO PYTHON CODE IS NEEDED FOR THIS QUESTION__"
   ]
  },
  {
   "cell_type": "raw",
   "metadata": {},
   "source": [
    "### Your answer for question 1 goes here\n",
    "\n",
    "The wolf does not eat cabbage, so the crossing can start with the goat. \n",
    "The man leaves the goat and returns, puts the cabbage in the boat and takes it across. On the other bank, he leaves the cabbage but takes the goat. \n",
    "He leaves the goat on the first bank and takes the wolf across. He leaves the cabbage with the wolf and rows back alone. \n",
    "He takes the goat across.  \n",
    "\n",
    "[G,C,G,W,G]"
   ]
  },
  {
   "cell_type": "markdown",
   "metadata": {},
   "source": [
    "----\n",
    "QUESTION 2\n",
    "\n",
    "----"
   ]
  },
  {
   "cell_type": "markdown",
   "metadata": {},
   "source": [
    "Use the __PEMDAS__ rule to find the answer to the following questions (a)&ndash;(d). \n",
    "\n",
    "EXPLAIN clearly how you got each result in sufficient detail and show your work by itemizing each individual step that you need to go through, as done in class."
   ]
  },
  {
   "cell_type": "raw",
   "metadata": {},
   "source": [
    "a) 7 * 5 - 9 * 3"
   ]
  },
  {
   "cell_type": "raw",
   "metadata": {},
   "source": [
    "Write your answer for (a) here\n",
    "1. 35 - 9 * 3\n",
    "2. 35 - 27\n",
    "3. 8."
   ]
  },
  {
   "cell_type": "raw",
   "metadata": {},
   "source": [
    "b) 6 * 3 ** 2 + 9 * (4 + 2) * 3"
   ]
  },
  {
   "cell_type": "raw",
   "metadata": {},
   "source": [
    "Write your answer for (b) here\n",
    "1. 6 * 3 ** 2 + 9 * 6 * 3\n",
    "2. 6 * 9 + 9 * 6 * 3\n",
    "3. 54 + 9 * 6 * 3\n",
    "4. 54 + 54 * 3\n",
    "5. 216."
   ]
  },
  {
   "cell_type": "raw",
   "metadata": {},
   "source": [
    "c) 2 ** 2 ** 3 * 2"
   ]
  },
  {
   "cell_type": "raw",
   "metadata": {},
   "source": [
    "Write your answer for (c) here\n",
    "1. 4 ** 3 * 2\n",
    "2. 64 * 2\n",
    "3. 128."
   ]
  },
  {
   "cell_type": "raw",
   "metadata": {},
   "source": [
    "d) 3 ** (20 / 5 - 1) / 3 + 10"
   ]
  },
  {
   "cell_type": "raw",
   "metadata": {},
   "source": [
    "Write your answer for (d) here\n",
    "1. 3 ** (4 - 1) / 3 + 10\n",
    "2. 3 ** 3 / 3 + 10\n",
    "3. 27 / 3 + 10\n",
    "4. 9 + 10\n",
    "5. 19."
   ]
  },
  {
   "cell_type": "markdown",
   "metadata": {},
   "source": [
    "----\n",
    "QUESTION 3\n",
    "\n",
    "----"
   ]
  },
  {
   "cell_type": "markdown",
   "metadata": {},
   "source": [
    "Convert the _binary_ value `10011101101` to _decimal_. Show your work!"
   ]
  },
  {
   "cell_type": "code",
   "execution_count": 2,
   "metadata": {},
   "outputs": [
    {
     "name": "stdout",
     "output_type": "stream",
     "text": [
      "Input a number in binary: 1001\n",
      "Your decimal number is: 9\n"
     ]
    }
   ],
   "source": [
    "#Write your answer for Question 3 here\n",
    "\n",
    "#Binary to decimal conversion\n",
    "\n",
    "a = input(\"Input a number in binary: \")\n",
    "decimal = 0\n",
    "for digit in a:\n",
    "    decimal = decimal*2 + int(digit)\n",
    "print(\"Your decimal number is: \" + str(decimal))   \n",
    "\n",
    "#When you input 10011101101, your answer is 1261.\n",
    "    \n"
   ]
  },
  {
   "cell_type": "markdown",
   "metadata": {},
   "source": [
    "----\n",
    "QUESTION 4\n",
    "\n",
    "----"
   ]
  },
  {
   "cell_type": "markdown",
   "metadata": {},
   "source": [
    "Convert the _decimal_ value `973` to _binary_. Show your work!"
   ]
  },
  {
   "cell_type": "code",
   "execution_count": 3,
   "metadata": {},
   "outputs": [
    {
     "name": "stdout",
     "output_type": "stream",
     "text": [
      "İnput a decimal number: 9\n",
      "Your binary number is: 1001\n"
     ]
    }
   ],
   "source": [
    "#Write your answer for Question 4 here\n",
    "#Decimal to binary conversion\n",
    "\n",
    "decimal = int(input(\"İnput a decimal number: \"))\n",
    "binary=\"\"\n",
    "while decimal>0:\n",
    "    \n",
    "  binary = str(decimal%2) + binary\n",
    "  decimal = decimal//2\n",
    "print(\"Your binary number is: \" + binary)\n",
    "\n",
    "#When you input 973, your answer is 1111001101.\n",
    "\n"
   ]
  },
  {
   "cell_type": "markdown",
   "metadata": {},
   "source": [
    "---"
   ]
  },
  {
   "cell_type": "markdown",
   "metadata": {},
   "source": [
    "<center>END OF HOMEWORK</center>"
   ]
  }
 ],
 "metadata": {
  "kernelspec": {
   "display_name": "Python 2",
   "language": "python",
   "name": "python2"
  },
  "language_info": {
   "codemirror_mode": {
    "name": "ipython",
    "version": 3
   },
   "file_extension": ".py",
   "mimetype": "text/x-python",
   "name": "python",
   "nbconvert_exporter": "python",
   "pygments_lexer": "ipython3",
   "version": "3.7.3"
  }
 },
 "nbformat": 4,
 "nbformat_minor": 2
}
