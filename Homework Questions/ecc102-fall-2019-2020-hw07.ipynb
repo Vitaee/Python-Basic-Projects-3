{
 "cells": [
  {
   "cell_type": "markdown",
   "metadata": {},
   "source": [
    "# __ECC102 &ndash; Fall 2019-2020 &ndash; Homework 07__"
   ]
  },
  {
   "cell_type": "markdown",
   "metadata": {},
   "source": [
    "## Student Name and ID\n",
    "\n",
    "Please enter your name and your student ID below programmatically!"
   ]
  },
  {
   "cell_type": "code",
   "execution_count": 1,
   "metadata": {},
   "outputs": [],
   "source": [
    "student_name = \"Can İlgu\"\n",
    "student_id   = \"20190192\""
   ]
  },
  {
   "cell_type": "markdown",
   "metadata": {},
   "source": [
    "## SUBMISSION INSTRUCTIONS\n",
    "\n",
    "You will submit your own copy of this Jupyter Lab notebook according to the instructions below:\n",
    "\n",
    "- You will upload the completed version of this notebook to the DropBox site that will be provided to you along with the Facebook announcement.\n",
    "\n",
    "- See the upload site for the __deadline__. \n",
    "\n",
    "- __Late homeworks will NOT be accepted!__ \n",
    "\n",
    "- Name your notebook file using your first name, middle name--if you have one, your\n",
    "  last name, and your 8-digit student ID, separated by individual underscore\n",
    "  characters. All letters MUST be in LOWERCASE.\n",
    "\n",
    "  DO NOT USE any PUNCTUATION characters in your filename. USE ONLY letters a-z\n",
    "  and digits 0-9, except for the underscore characters to join different parts\n",
    "  of your filename (first/middle/last name, student ID).\n",
    "\n",
    "  For example, if your name is `John Milton Smith` and your student ID is\n",
    "  `20173847`, then your file should be named \n",
    "\n",
    "                          john_milton_smith_20173847.ipynb\n",
    "\n",
    "  You may abbreviate your middle name and hence your file may also be named\n",
    "\n",
    "                          john_m_smith_20173847.ipynb\n",
    "\n",
    "- DO NOT include any other information in the name of your file that you will upload!\n",
    "\n",
    "- <font color=\"blue\">__READ ALL INSTRUCTIONS CAREFULLY BEFORE STARTING TO SOLVE EACH PROBLEM__</font>"
   ]
  },
  {
   "cell_type": "markdown",
   "metadata": {},
   "source": [
    "## HOMEWORK UPLOAD\n",
    "\n",
    "Upload your homework here:\n",
    "    \n",
    "> https://www.dropbox.com/request/KS7Do7L0j0l4tQHF6P9E"
   ]
  },
  {
   "cell_type": "markdown",
   "metadata": {},
   "source": [
    "## Questions\n",
    "---\n",
    "\n",
    "There are four (4) questions on this homework. Best of luck!"
   ]
  },
  {
   "cell_type": "markdown",
   "metadata": {},
   "source": [
    "----\n",
    "QUESTION 1\n",
    "\n",
    "----"
   ]
  },
  {
   "cell_type": "markdown",
   "metadata": {},
   "source": [
    "Implement the following algorithm in Python with a function called `sieve_of_eratosthenes( n )`, where `n` is an integer value, which returns all _prime_ numbers up to `n`. For example,\n",
    "\n",
    "    >>> sieve_of_eratosthenes( 30 )\n",
    "    [2, 3, 5, 7, 11, 13, 17, 19, 23, 29]\n",
    "    \n",
    "See the following page for more:\n",
    "\n",
    "> https://en.wikipedia.org/wiki/Sieve_of_Eratosthenes"
   ]
  },
  {
   "cell_type": "raw",
   "metadata": {},
   "source": [
    "ALGORITHM Sieve_of_Eratosthenes( n ):\n",
    "\n",
    "    INPUT: An integer n > 1\n",
    "    OUTPUT: All prime numbers [2 .. n]\n",
    "\n",
    "    LET A be an array of boolean values, indexed by integers [2 .. n]\n",
    "        initially all set to True.\n",
    "    \n",
    "    FOR i = 2, 3, 4, ..., not exceeding √n DO\n",
    "        if A[i] is True:\n",
    "            FOR j = i^2, i^2+i, i^2+2i, i^2+3i, ..., not exceeding n DO\n",
    "                #\n",
    "                # Mark all numbers that are not prime numbers\n",
    "                #\n",
    "                A[j] = False\n",
    "\n",
    "    RETURN all i for which A[i] is True."
   ]
  },
  {
   "cell_type": "code",
   "execution_count": 5,
   "metadata": {},
   "outputs": [
    {
     "name": "stdout",
     "output_type": "stream",
     "text": [
      "2\n",
      "3\n",
      "5\n",
      "7\n",
      "11\n",
      "13\n",
      "17\n",
      "19\n",
      "23\n",
      "29\n"
     ]
    }
   ],
   "source": [
    "def primes(n): \n",
    "    sieve = [True] * (n+1)\n",
    "    for p in range(2, n+1):\n",
    "        if (sieve[p]):\n",
    "            print(p)\n",
    "            for i in range(p, n+1, p):\n",
    "                sieve[i] = False\n",
    "\n",
    "primes(30)\n",
    "\n",
    "\n",
    "\n"
   ]
  },
  {
   "cell_type": "markdown",
   "metadata": {},
   "source": [
    "----\n",
    "QUESTION 2\n",
    "\n",
    "----"
   ]
  },
  {
   "cell_type": "markdown",
   "metadata": {},
   "source": [
    "You will do the following for this question. However, read the entire question before planning your solution."
   ]
  },
  {
   "cell_type": "markdown",
   "metadata": {},
   "source": [
    "- Create an input file named `q2.dat` in the current directory where you stored this notebook with the following content."
   ]
  },
  {
   "cell_type": "raw",
   "metadata": {},
   "source": [
    "[Jack Frost]    [80, 50, 40, 20] [75, 75] [78.20, 77.20] \n",
    "[James Potter]  [82, 56, 44, 30] [80, 80] [67.90, 78.72] \n",
    "[Dylan Rhodes]  [77, 82, 23, 39] [78, 77] [80, 80] \n",
    "[Jessica Stone] [67, 55, 77, 21] [40, 50] [69, 44.56] \n",
    "[Tom Hanks]     [29, 89, 60, 56] [65, 56] [50, 40.6] "
   ]
  },
  {
   "cell_type": "markdown",
   "metadata": {},
   "source": [
    "- There are four (4) separate fields in this file:\n",
    "\n",
    "    1. `name`\n",
    "    2. `homeworks`\n",
    "    3. `exams`\n",
    "    4. `labs`\n",
    "    \n",
    "  Except for the `name` field, the remaining ones are represented in the same format as Python lists. However, note that this data is purely text!\n",
    "  \n",
    "- Read, preprocess, and store this data in memory using a `list` of `dict`ionaries like this:\n",
    "\n",
    "        [\n",
    "           { \n",
    "               \"name\":\"Jack Frost\", \n",
    "               \"homeworks\" : [80, 50, 40, 20], \n",
    "               \"exams\" : [75, 75], \n",
    "               \"labs\" : [78.20, 77.20] \n",
    "           },\n",
    "           { ... }\n",
    "           .\n",
    "           .\n",
    "           .\n",
    "        ]\n",
    "        \n",
    "  Note that the `name` field must be a `str`ing, and the remaining fields must be `list`s of `float`ing-point numbers.\n",
    "  \n",
    "- Write a Python function named `display_grades( student_data )`, which, given this list of dictionaries with student grade data in it, displays the data for all students in tabular format like this:\n",
    "\n",
    "        Student Name  HW1   HW1   HW3   HW4   EX1   EX2   LAB1  LAB2\n",
    "        ------------------------------------------------------------------\n",
    "        Jack Frost    80    50    40    20    75    75    78.20 77.20\n",
    "        James Potter  82    56    44    30    80    80    67.90 78.72\n",
    "        Dylan Rhodes  77    82    23    39    78    77    80    80\n",
    "        Jessica Stone 67    55    77    21    40    50    69    44.56 \n",
    "        Tom Hanks     29    89    60    56    65    56    50    40.6 "
   ]
  },
  {
   "cell_type": "code",
   "execution_count": 18,
   "metadata": {},
   "outputs": [
    {
     "name": "stdout",
     "output_type": "stream",
     "text": [
      "Jack Frost\n",
      "=+=+=+=+=+=+=+=+=+=+=+=+=+=+=+=+=+=+=+=\n",
      "Average marks of Jack Frost is : 72.79 \n",
      "Letter Grade of Jack Frost is : C\n",
      "\n",
      "James Potter\n",
      "=+=+=+=+=+=+=+=+=+=+=+=+=+=+=+=+=+=+=+=\n",
      "Average marks of James Potter is : 75.962 \n",
      "Letter Grade of James Potter is : C\n",
      "\n",
      "Jessica Stone\n",
      "=+=+=+=+=+=+=+=+=+=+=+=+=+=+=+=+=+=+=+=\n",
      "Average marks of Jessica Stone is : 48.356 \n",
      "Letter Grade of Jessica Stone is : E\n",
      "\n",
      "Tom Hanks\n",
      "=+=+=+=+=+=+=+=+=+=+=+=+=+=+=+=+=+=+=+=\n",
      "Average marks of Tom Hanks is : 57.26 \n",
      "Letter Grade of Tom Hanks is : E\n",
      "\n",
      "Class Average is 72.79\n",
      "Letter Grade of the class is C \n"
     ]
    }
   ],
   "source": [
    "jack = {\n",
    "\"name\":\"Jack Frost\",\n",
    "\"homeworks\": [80,50,40,20],\n",
    "\"exams\": [75,75],\n",
    "\"labs\": [78.20,77.20]\n",
    "}\n",
    "\n",
    "james = {\n",
    "\"name\":\"James Potter\",\n",
    "\"homeworks\": [82,56,44,30],\n",
    "\"exams\": [80,80],\n",
    "\"labs\":[67.90, 78.72],\n",
    "}\n",
    "\n",
    "jess = {\n",
    "\"name\":\"Jessica Stone\",\n",
    "\"homeworks\":[67,55,77,21],\n",
    "\"exams\": [40,50],\n",
    "\"labs\": [69,44.56]\n",
    "}\n",
    "\n",
    "tom = {\n",
    "\"name\":\"Tom Hanks\",\n",
    "\"homeworks\":[29,89,60,56],\n",
    "\"exams\": [65,56],\n",
    "\"labs\": [50,40.6]\n",
    "}\n",
    "\n",
    "def get_average(marks): \n",
    "    total_sum = sum(marks) \n",
    "    total_sum = float(total_sum) \n",
    "    return total_sum / len(marks) \n",
    "  \n",
    "# Function calculates total average \n",
    "def calculate_total_average(students): \n",
    "    assignment = get_average(students[\"homeworks\"]) \n",
    "    test = get_average(students[\"exams\"]) \n",
    "    lab = get_average(students[\"labs\"]) \n",
    "  \n",
    "    # Return the result based \n",
    "    # on weightage supplied \n",
    "    # 10 % from assignments \n",
    "    # 70 % from test \n",
    "    # 20 % from lab-works \n",
    "    return (0.1 * assignment +\n",
    "            0.7 * test + 0.2 * lab) \n",
    "  \n",
    "  \n",
    "\n",
    "def assign_letter_grade(score): \n",
    "    if score >= 90: return \"A\"\n",
    "    elif score >= 80: return \"B\"\n",
    "    elif score >= 70: return \"C\"\n",
    "    elif score >= 60: return \"D\"\n",
    "    else : return \"E\"\n",
    "    \n",
    "def class_average_is(student_list): \n",
    "    result_list = [] \n",
    "  \n",
    "    for student in student_list: \n",
    "        stud_avg = calculate_total_average(student) \n",
    "        result_list.append(stud_avg) \n",
    "        return get_average(result_list) \n",
    "  \n",
    "# Student list consisting the \n",
    "# dictionary of all students \n",
    "students = [jack, james,jess, tom] \n",
    "  \n",
    "# Iterate through the students list \n",
    "# and calculate their respective \n",
    "# average marks and letter grade \n",
    "for i in students : \n",
    "    print(i[\"name\"]) \n",
    "    print(\"=+=+=+=+=+=+=+=+=+=+=+=+=+=+=+=+=+=+=+=\") \n",
    "    print(\"Average marks of %s is : %s \" %(i[\"name\"], \n",
    "                         calculate_total_average(i))) \n",
    "                           \n",
    "    print(\"Letter Grade of %s is : %s\" %(i[\"name\"], \n",
    "    assign_letter_grade(calculate_total_average(i)))) \n",
    "      \n",
    "    print() \n",
    "  \n",
    "  \n",
    "# Calculate the average of whole class \n",
    "class_av = class_average_is(students) \n",
    "  \n",
    "print( \"Class Average is %s\" %(class_av)) \n",
    "print(\"Letter Grade of the class is %s \" \n",
    "        %(assign_letter_grade(class_av)))     \n"
   ]
  },
  {
   "cell_type": "markdown",
   "metadata": {},
   "source": [
    "- Write a Python function named `compute_average( student_data, grade_type='homeworks' )`, which computes the average for a given type of grade, the default being the homework grade. The `grade_type` parameter should accept `homeworks`, `exams`, or `labs`"
   ]
  },
  {
   "cell_type": "code",
   "execution_count": null,
   "metadata": {},
   "outputs": [],
   "source": []
  },
  {
   "cell_type": "markdown",
   "metadata": {},
   "source": [
    "- Write a Python function named `sort_data( student_data, field_type='name', reverse=False )` that prints out the given student data in _ascending order_ (unless `reverse` is `True`) according to the specified field type. For example, if the field type is `name`, then the student data should be printed out according to student name, in _ascending order_. The `field_type` should accept `name`, \n",
    "`hw1`, `hw2`, `hw3`, `hw4`, `ex1`, `ex2`, `lab1`, or `lab2`, matching each column in the data set."
   ]
  },
  {
   "cell_type": "markdown",
   "metadata": {},
   "source": [
    "----\n",
    "QUESTION 3\n",
    "\n",
    "----"
   ]
  },
  {
   "cell_type": "markdown",
   "metadata": {},
   "source": [
    "__(Same as P8.7)__ Write a program that can store a polynomial such as\n",
    "\n",
    "<center>$p(x) = 5x^{10} + 9x^7 – x – 10$</center>\n",
    "        \n",
    "as a list of terms. A term contains the _coefficient_ and the power of $x$. For example, \n",
    "you would store the above $p(x)$ as\n",
    "\n",
    "        [(5, 10), (9, 7), (–1, 1), (–10, 0)]\n",
    "        \n",
    "- Write functions to _add_, _multiply_, _evaluate_, and _print_ polynomials. \n",
    "\n",
    "- Write a function that  makes a polynomial from a single term. For example, the polynomial _p_ can be  constructed as\n",
    "\n",
    "        p = new_polynomial( -10, 0 )\n",
    "        \n",
    "        add_term( p, -1, 1 )\n",
    "        add_term( p, 9, 7 )\n",
    "        add_term( p, 5, 10 )\n",
    " \n",
    "- Then compute $p(x) \\times p(x)$.\n",
    "\n",
    "        q = multiply( p, p )\n",
    "        print_polynomial( q )\n",
    "        \n",
    "- Finally, evaluate a polynomial, given the variable (say, `x`) value:\n",
    "\n",
    "        v = evaulate( p, 1 )\n",
    "        \n",
    "        \n",
    "  should return 3 $\\left[p(x=1) = 5(1)^{10} + 9(1)^7 – 1 – 10=5 + 9 - 1 - 10=3\\right]$."
   ]
  },
  {
   "cell_type": "code",
   "execution_count": 2,
   "metadata": {},
   "outputs": [
    {
     "name": "stdout",
     "output_type": "stream",
     "text": [
      "Value of polynomial is:  3\n"
     ]
    }
   ],
   "source": [
    "def pol(poly,n,x):\n",
    "    result = poly[0]\n",
    "    \n",
    "    #Horner's Method\n",
    "    for i in range(1,n):\n",
    "        result = result * x + poly[i]\n",
    "        \n",
    "    return result\n",
    "\n",
    "# ax^3 - bx^2 - x - 10\n",
    "\n",
    "poly = [5,9,-1,-10]\n",
    "x = 1\n",
    "n = len(poly)\n",
    "print(\"Value of polynomial is: \", pol(poly,n,x))"
   ]
  },
  {
   "cell_type": "markdown",
   "metadata": {},
   "source": [
    "# ----\n",
    "QUESTION 4\n",
    "\n",
    "----"
   ]
  },
  {
   "cell_type": "markdown",
   "metadata": {},
   "source": [
    "__(Same as P8.8)__ Repeat __Question 3__ but use a _dictionary_ for the coefficients."
   ]
  },
  {
   "cell_type": "code",
   "execution_count": null,
   "metadata": {},
   "outputs": [],
   "source": [
    "\n",
    "\n",
    "\n"
   ]
  },
  {
   "cell_type": "markdown",
   "metadata": {},
   "source": [
    "-----"
   ]
  },
  {
   "cell_type": "markdown",
   "metadata": {},
   "source": [
    "<center>END OF HOMEWORK</center>"
   ]
  }
 ],
 "metadata": {
  "kernelspec": {
   "display_name": "Python 3",
   "language": "python",
   "name": "python3"
  },
  "language_info": {
   "codemirror_mode": {
    "name": "ipython",
    "version": 3
   },
   "file_extension": ".py",
   "mimetype": "text/x-python",
   "name": "python",
   "nbconvert_exporter": "python",
   "pygments_lexer": "ipython3",
   "version": "3.7.3"
  }
 },
 "nbformat": 4,
 "nbformat_minor": 2
}
