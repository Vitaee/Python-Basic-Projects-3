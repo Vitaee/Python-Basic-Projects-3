{
 "cells": [
  {
   "cell_type": "markdown",
   "metadata": {},
   "source": [
    "# __ECC102 &ndash; Fall 2019-2020 &ndash; Homework 02__"
   ]
  },
  {
   "cell_type": "markdown",
   "metadata": {},
   "source": [
    "## Student Name and ID\n",
    "\n",
    "Please enter your name and your student ID below programmatically!"
   ]
  },
  {
   "cell_type": "code",
   "execution_count": null,
   "metadata": {},
   "outputs": [],
   "source": [
    "student_name = \"Can İlgu\"\n",
    "student_id   = \"20190192\""
   ]
  },
  {
   "cell_type": "markdown",
   "metadata": {},
   "source": [
    "## SUBMISSION INSTRUCTIONS\n",
    "\n",
    "You will submit your own copy of this Jupyter Lab notebook according to the instructions below:\n",
    "\n",
    "- You will upload the completed version of this notebook to the DropBox site that will be provided to you along with the Facebook announcement.\n",
    "\n",
    "- See the upload site for the __deadline__. \n",
    "\n",
    "- __Late homeworks will NOT be accepted!__ \n",
    "\n",
    "- Name your notebook file using your first name, middle name--if you have one, your\n",
    "  last name, and your 8-digit student ID, separated by individual underscore\n",
    "  characters. All letters MUST be in LOWERCASE.\n",
    "\n",
    "  DO NOT USE any PUNCTUATION characters in your filename. USE ONLY letters a-z\n",
    "  and digits 0-9, except for the underscore characters to join different parts\n",
    "  of your filename (first/middle/last name, student ID).\n",
    "\n",
    "  For example, if your name is `John Milton Smith` and your student ID is\n",
    "  `20173847`, then your file should be named \n",
    "\n",
    "                          john_milton_smith_20173847.ipynb\n",
    "\n",
    "  You may abbreviate your middle name and hence your file may also be named\n",
    "\n",
    "                          john_m_smith_20173847.ipynb\n",
    "\n",
    "- DO NOT include any other information in the name of your file that you will upload!"
   ]
  },
  {
   "cell_type": "markdown",
   "metadata": {},
   "source": [
    "## Questions\n",
    "---\n",
    "\n",
    "The following questions are very similar to the PYTHON PROGRAMMING EXERCISES P1-P5 from Chapter 1 and Chapter 2 in your textbook. You need not refer to the questions in the textbook to solve the following exercises."
   ]
  },
  {
   "cell_type": "markdown",
   "metadata": {},
   "source": [
    "----\n",
    "QUESTION 1 \n",
    "\n",
    "----"
   ]
  },
  {
   "cell_type": "markdown",
   "metadata": {},
   "source": [
    "Write a simple Python program that displays the following powers of 2, one per line: $2^1$, $2^2$, $2^3$, $2^4$, $2^5$, $2^6$ , $2^7$, $2^8$. Use the eight __code__ cells below to solve this exercise. "
   ]
  },
  {
   "cell_type": "code",
   "execution_count": 1,
   "metadata": {},
   "outputs": [
    {
     "name": "stdout",
     "output_type": "stream",
     "text": [
      "2\n"
     ]
    }
   ],
   "source": [
    "print(2)"
   ]
  },
  {
   "cell_type": "code",
   "execution_count": 2,
   "metadata": {},
   "outputs": [
    {
     "name": "stdout",
     "output_type": "stream",
     "text": [
      "4\n"
     ]
    }
   ],
   "source": [
    "print(2**2)"
   ]
  },
  {
   "cell_type": "code",
   "execution_count": null,
   "metadata": {},
   "outputs": [],
   "source": [
    "print(2**3)"
   ]
  },
  {
   "cell_type": "code",
   "execution_count": null,
   "metadata": {},
   "outputs": [],
   "source": [
    "print(2**4)"
   ]
  },
  {
   "cell_type": "code",
   "execution_count": null,
   "metadata": {},
   "outputs": [],
   "source": [
    "print(2**5)"
   ]
  },
  {
   "cell_type": "code",
   "execution_count": null,
   "metadata": {},
   "outputs": [],
   "source": [
    "print(2**6)"
   ]
  },
  {
   "cell_type": "code",
   "execution_count": null,
   "metadata": {},
   "outputs": [],
   "source": [
    "print(2**7)"
   ]
  },
  {
   "cell_type": "code",
   "execution_count": null,
   "metadata": {},
   "outputs": [],
   "source": [
    "print(2**8)"
   ]
  },
  {
   "cell_type": "markdown",
   "metadata": {},
   "source": [
    "----\n",
    "QUESTION 2\n",
    "\n",
    "----"
   ]
  },
  {
   "cell_type": "markdown",
   "metadata": {},
   "source": [
    "Write a Python program that allows the user to enter any integer value, and displays the value of 2 \n",
    "raised to that power. Your program should function as shown below. \n",
    " \n",
    "    Enter the power of two? 10 \n",
    "    Two to the power of 10 is 1024"
   ]
  },
  {
   "cell_type": "code",
   "execution_count": 3,
   "metadata": {},
   "outputs": [
    {
     "name": "stdin",
     "output_type": "stream",
     "text": [
      "Enter the power of two? 10\n"
     ]
    },
    {
     "name": "stdout",
     "output_type": "stream",
     "text": [
      "('Two to the power of ', 10, 'is', 1024)\n"
     ]
    }
   ],
   "source": [
    "# Write your answer here\n",
    "b = 2\n",
    "a = int(input(\"Enter the power of two?\"))\n",
    "print(\"Two to the power of \",a, \"is\", b**a)"
   ]
  },
  {
   "cell_type": "markdown",
   "metadata": {},
   "source": [
    "----\n",
    "QUESTION 3\n",
    "\n",
    "----"
   ]
  },
  {
   "cell_type": "markdown",
   "metadata": {},
   "source": [
    "Write a Python program that allows the user to enter any integer base and integer exponent, and displays \n",
    "the value of the base raised to that exponent. Your program should function as shown below. \n",
    "\n",
    "    Enter the base? 10 \n",
    "    Enter the power of 10 ? 4 \n",
    "    10 to the power of 4 is 10000 "
   ]
  },
  {
   "cell_type": "code",
   "execution_count": 4,
   "metadata": {},
   "outputs": [
    {
     "name": "stdin",
     "output_type": "stream",
     "text": [
      "Enter the base?  10\n",
      "Enter the power of?  4\n"
     ]
    },
    {
     "name": "stdout",
     "output_type": "stream",
     "text": [
      "('Two to the power of ', 4, 'is', 10000)\n"
     ]
    }
   ],
   "source": [
    "# Write your answer here\n",
    "a = int(input(\"Enter the base? \"))\n",
    "b = int(input(\"Enter the power of? \"))\n",
    "print(\"Two to the power of \",b, \"is\", a**b)\n"
   ]
  },
  {
   "cell_type": "markdown",
   "metadata": {},
   "source": [
    "----\n",
    "QUESTION 4\n",
    "\n",
    "----"
   ]
  },
  {
   "cell_type": "markdown",
   "metadata": {},
   "source": [
    "Write a Python program that allows the user to enter a four-digit binary number and displays its value in \n",
    "base 10. Each binary digit should be entered one per line, starting with the leftmost digit , as shown \n",
    "below. \n",
    "    \n",
    "    Enter the leftmost digit: 1 \n",
    "    Enter the next digit: 0 \n",
    "    Enter the next digit: 0 \n",
    "    Enter the next digit: 1 \n",
    "    The value is 9 "
   ]
  },
  {
   "cell_type": "code",
   "execution_count": 5,
   "metadata": {},
   "outputs": [
    {
     "name": "stdin",
     "output_type": "stream",
     "text": [
      "Enter the left most digit:  1\n",
      "Enter the next digit:  0\n",
      "Enter the next digit:  0\n",
      "Enter the next digit:  1\n"
     ]
    },
    {
     "name": "stdout",
     "output_type": "stream",
     "text": [
      "('The value is: ', 9)\n"
     ]
    }
   ],
   "source": [
    "# Write your answer here\n",
    "a = int(input(\"Enter the left most digit: \"))\n",
    "b = int(input(\"Enter the next digit: \" ))\n",
    "c = int(input(\"Enter the next digit: \"))\n",
    "d = int(input(\"Enter the next digit: \"))\n",
    "print(\"The value is: \" , (a*2**0 + b*2**1 + c*2**2 + d*2**3))"
   ]
  },
  {
   "cell_type": "markdown",
   "metadata": {},
   "source": [
    "----\n",
    "QUESTION 5\n",
    "\n",
    "----"
   ]
  },
  {
   "cell_type": "markdown",
   "metadata": {},
   "source": [
    "Write a simple Python program that prompts the user for a certain number of cities for the _Traveling \n",
    "Salesman_ problem, and displays the total number of possible routes that can be taken. Your program \n",
    "should function as shown below. \n",
    "\n",
    "    How many cities? 10 \n",
    "    For 10 cities, there are 3628800 possible routes"
   ]
  },
  {
   "cell_type": "code",
   "execution_count": 6,
   "metadata": {},
   "outputs": [
    {
     "name": "stdin",
     "output_type": "stream",
     "text": [
      "How many cities?  10\n"
     ]
    },
    {
     "name": "stdout",
     "output_type": "stream",
     "text": [
      "('For', 10, 'cities, there are', 3628800, 'possible routes')\n"
     ]
    }
   ],
   "source": [
    "# Write your answer here\n",
    "import math \n",
    "a = int(input(\"How many cities? \"))\n",
    "b = math.factorial(a)\n",
    "print(\"For\" , a , \"cities, there are\" , b , \"possible routes\")"
   ]
  },
  {
   "cell_type": "markdown",
   "metadata": {},
   "source": [
    "----\n",
    "QUESTION 6 \n",
    "\n",
    "----"
   ]
  },
  {
   "cell_type": "markdown",
   "metadata": {},
   "source": [
    "Write a Python program that prompts the user for two integer values and displays the result of the first \n",
    "number divided by the second, with exactly two decimal places displayed. For example:\n",
    "\n",
    "    Enter the first value: 13\n",
    "    Enter the second value: 3\n",
    "    13 divided by 3 is 4.33\n",
    "    \n",
    "_NOTE_: See the `format(.)` or `str.format(.)` functions for this and remaining questions."
   ]
  },
  {
   "cell_type": "code",
   "execution_count": 7,
   "metadata": {},
   "outputs": [
    {
     "name": "stdin",
     "output_type": "stream",
     "text": [
      "Enter the first value:  13\n",
      "Enter the second value:  3\n"
     ]
    },
    {
     "name": "stdout",
     "output_type": "stream",
     "text": [
      "(13, 'divided by', 3, 'is', '4.00')\n"
     ]
    }
   ],
   "source": [
    "# Write your answer here\n",
    "a = int(input(\"Enter the first value: \"))\n",
    "b = int(input(\"Enter the second value: \"))\n",
    "c = (\"{:.2f}\".format( a / b))\n",
    "print(a, \"divided by\" ,b, \"is\", c,)"
   ]
  },
  {
   "cell_type": "markdown",
   "metadata": {},
   "source": [
    "----\n",
    "QUESTION 7\n",
    "\n",
    "----"
   ]
  },
  {
   "cell_type": "markdown",
   "metadata": {},
   "source": [
    "Write a Python program that prompts the user for two floating-point values and displays the result of the \n",
    "first number divided by the second, with exactly six decimal places displayed. For example:\n",
    "\n",
    "    Enter the first value: 37.5\n",
    "    Enter the second value: 4.72\n",
    "    37.5 divided by 4.72 is 7.944915"
   ]
  },
  {
   "cell_type": "code",
   "execution_count": 3,
   "metadata": {},
   "outputs": [],
   "source": [
    "# Write your answer here\n",
    "a = float(input(\"Enter the first value: \"))\n",
    "b = float(input(\"Enter the second value: \"))\n",
    "c = (\"{:.6f}\".format( a / b))\n",
    "print(a, \"divided by\" ,b, \"is\", c,)"
   ]
  },
  {
   "cell_type": "markdown",
   "metadata": {},
   "source": [
    "----\n",
    "QUESTION 8\n",
    "\n",
    "----"
   ]
  },
  {
   "cell_type": "markdown",
   "metadata": {},
   "source": [
    "Write a Python program that prompts the user for two floating-point values and displays the result of the \n",
    "first number divided by the second, with exactly six decimal places displayed in scientific notation. For example:\n",
    "    \n",
    "    Enter the first value: 5400\n",
    "    Enter the second value: 8.3\n",
    "    5400.0 divided by 8.3 is 6.506024e+02"
   ]
  },
  {
   "cell_type": "code",
   "execution_count": 3,
   "metadata": {},
   "outputs": [],
   "source": [
    "# Write your answer here\n",
    "a = float(input(\"Enter the first value: \"))\n",
    "b = float(input(\"Enter the second value: \"))\n",
    "c = (\"{:.6e}\".format( a / b))\n",
    "print(a, \"divided by\" ,b, \"is\", c,)"
   ]
  },
  {
   "cell_type": "markdown",
   "metadata": {},
   "source": [
    "----\n",
    "QUESTION 9 \n",
    "\n",
    "----"
   ]
  },
  {
   "cell_type": "markdown",
   "metadata": {},
   "source": [
    "Write a Python program that prompts the user to enter an upper or lower case letter and displays the \n",
    "corresponding Unicode encoding. For example, see the four examples below:\n",
    "    \n",
    "    Enter a character: a\n",
    "    The Unicode encoding for character 'a' is 97\n",
    "    \n",
    "    Enter a character: A\n",
    "    The Unicode encoding for character 'A' is 65\n",
    "    \n",
    "    Enter a character: !\n",
    "    The Unicode encoding for character '!' is 33\n",
    "    \n",
    "    Enter a character: #\n",
    "    The Unicode encoding for character '#' is 35"
   ]
  },
  {
   "cell_type": "code",
   "execution_count": 3,
   "metadata": {},
   "outputs": [],
   "source": [
    "# Write your answer here\n",
    "i = 0\n",
    "while i < 4:\n",
    "    i += 1\n",
    "    c = input(\"Enter a character: \")\n",
    "    print(\"The Unicode encoding for character '\" + c + \"' is\",ord(c))\n",
    "    "
   ]
  },
  {
   "cell_type": "markdown",
   "metadata": {},
   "source": [
    "----\n",
    "QUESTION 10 \n",
    "\n",
    "----"
   ]
  },
  {
   "cell_type": "markdown",
   "metadata": {},
   "source": [
    "Write a Python program that allows the user to enter two integer values, and displays the results when \n",
    "each of the following arithmetic operators are applied. For example, if the user enters the values 7 and 5, \n",
    "\n",
    "    Enter the first value: 7\n",
    "    Enter the second value: 5\n",
    "    \n",
    "then your program should output the following:\n",
    "\n",
    "    7 + 5 = 12\n",
    "    7 - 5 = 2 \n",
    "    7 * 5 = 35\n",
    "    7 / 5 = 1.40 \n",
    "    7 // 5 = 1\n",
    "    7 % 5 = 2\n",
    "    7 ** 5 = 16,807\n",
    "\n",
    "All floating-point results should be displayed with two decimal places of accuracy. In addition, all values \n",
    "should be displayed with commas where appropriate. "
   ]
  },
  {
   "cell_type": "code",
   "execution_count": 1,
   "metadata": {},
   "outputs": [
    {
     "name": "stdout",
     "output_type": "stream",
     "text": [
      "Enter the first value: 7\n",
      "Enter the second value: 5\n",
      "12\n",
      "2\n",
      "35\n",
      "1.40\n",
      "1\n",
      "2\n",
      "16,807\n"
     ]
    }
   ],
   "source": [
    "# Write your answer here\n",
    "a = int(input(\"Enter the first value: \"))\n",
    "b = int(input(\"Enter the second value: \"))\n",
    "\n",
    "print(a + b)\n",
    "print(a - b)\n",
    "print(a * b)\n",
    "print(\"{:.2f}\".format(a / b))\n",
    "print(a // b)\n",
    "print(a % b)\n",
    "print(\"{:,}\".format(a**b))"
   ]
  },
  {
   "cell_type": "markdown",
   "metadata": {},
   "source": [
    "---"
   ]
  },
  {
   "cell_type": "markdown",
   "metadata": {},
   "source": [
    "<center>END OF HOMEWORK</center>"
   ]
  }
 ],
 "metadata": {
  "kernelspec": {
   "display_name": "Python 2",
   "language": "python",
   "name": "python2"
  },
  "language_info": {
   "codemirror_mode": {
    "name": "ipython",
    "version": 3
   },
   "file_extension": ".py",
   "mimetype": "text/x-python",
   "name": "python",
   "nbconvert_exporter": "python",
   "pygments_lexer": "ipython3",
   "version": "3.7.3"
  }
 },
 "nbformat": 4,
 "nbformat_minor": 2
}
