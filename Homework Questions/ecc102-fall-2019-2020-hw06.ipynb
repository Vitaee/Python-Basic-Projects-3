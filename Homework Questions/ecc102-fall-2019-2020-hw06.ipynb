{
 "cells": [
  {
   "cell_type": "markdown",
   "metadata": {},
   "source": [
    "# __ECC102 &ndash; Fall 2019-2020 &ndash; Homework 06__"
   ]
  },
  {
   "cell_type": "markdown",
   "metadata": {},
   "source": [
    "## Student Name and ID\n",
    "\n",
    "Please enter your name and your student ID below programmatically!"
   ]
  },
  {
   "cell_type": "code",
   "execution_count": 1,
   "metadata": {},
   "outputs": [],
   "source": [
    "student_name = \"<Fill in your name here>\"\n",
    "student_id   = \"<Fill in your student ID here>\""
   ]
  },
  {
   "cell_type": "markdown",
   "metadata": {},
   "source": [
    "## SUBMISSION INSTRUCTIONS\n",
    "\n",
    "You will submit your own copy of this Jupyter Lab notebook according to the instructions below:\n",
    "\n",
    "- You will upload the completed version of this notebook to the DropBox site that will be provided to you along with the Facebook announcement.\n",
    "\n",
    "- See the upload site for the __deadline__. \n",
    "\n",
    "- __Late homeworks will NOT be accepted!__ \n",
    "\n",
    "- Name your notebook file using your first name, middle name--if you have one, your\n",
    "  last name, and your 8-digit student ID, separated by individual underscore\n",
    "  characters. All letters MUST be in LOWERCASE.\n",
    "\n",
    "  DO NOT USE any PUNCTUATION characters in your filename. USE ONLY letters a-z\n",
    "  and digits 0-9, except for the underscore characters to join different parts\n",
    "  of your filename (first/middle/last name, student ID).\n",
    "\n",
    "  For example, if your name is `John Milton Smith` and your student ID is\n",
    "  `20173847`, then your file should be named \n",
    "\n",
    "                          john_milton_smith_20173847.ipynb\n",
    "\n",
    "  You may abbreviate your middle name and hence your file may also be named\n",
    "\n",
    "                          john_m_smith_20173847.ipynb\n",
    "\n",
    "- DO NOT include any other information in the name of your file that you will upload!\n",
    "\n",
    "- <font color=\"blue\">__READ ALL INSTRUCTIONS CAREFULLY BEFORE STARTING TO SOLVE EACH PROBLEM__</font>"
   ]
  },
  {
   "cell_type": "markdown",
   "metadata": {},
   "source": [
    "## HOMEWORK UPLOAD\n",
    "\n",
    "Upload your homework here:\n",
    "    \n",
    "> https://www.dropbox.com/request/2TRIHJ41MSiCaceWpAjZ"
   ]
  },
  {
   "cell_type": "markdown",
   "metadata": {},
   "source": [
    "## Questions\n",
    "---\n",
    "\n",
    "There are 6 questions on this homework. Best of luck!"
   ]
  },
  {
   "cell_type": "markdown",
   "metadata": {},
   "source": [
    "----\n",
    "QUESTION 1\n",
    "\n",
    "----"
   ]
  },
  {
   "cell_type": "code",
   "execution_count": null,
   "metadata": {},
   "outputs": [],
   "source": [
    "\"John Travolta\"[8:12]"
   ]
  },
  {
   "cell_type": "code",
   "execution_count": null,
   "metadata": {},
   "outputs": [],
   "source": [
    "\"John Travolta\"[-14:-8]"
   ]
  },
  {
   "cell_type": "code",
   "execution_count": null,
   "metadata": {},
   "outputs": [],
   "source": [
    "type( \"3 x 5\" )"
   ]
  },
  {
   "cell_type": "code",
   "execution_count": null,
   "metadata": {},
   "outputs": [],
   "source": [
    "type( \"\"\" James Bond \"\"\" )"
   ]
  },
  {
   "cell_type": "code",
   "execution_count": null,
   "metadata": {},
   "outputs": [],
   "source": [
    "len( [1, [\"a\", \"b\", \"c\"], 2, 3, [4, 5]] )"
   ]
  },
  {
   "cell_type": "code",
   "execution_count": null,
   "metadata": {},
   "outputs": [],
   "source": [
    "type( 96.25 )"
   ]
  },
  {
   "cell_type": "code",
   "execution_count": null,
   "metadata": {},
   "outputs": [],
   "source": [
    "int( \" 49.7 \" )"
   ]
  },
  {
   "cell_type": "code",
   "execution_count": null,
   "metadata": {},
   "outputs": [],
   "source": [
    "float( \" 345.6\" )"
   ]
  },
  {
   "cell_type": "code",
   "execution_count": null,
   "metadata": {},
   "outputs": [],
   "source": [
    "float( \"23.945XYAB\" )"
   ]
  },
  {
   "cell_type": "code",
   "execution_count": null,
   "metadata": {},
   "outputs": [],
   "source": [
    "45 % 7"
   ]
  },
  {
   "cell_type": "code",
   "execution_count": null,
   "metadata": {},
   "outputs": [],
   "source": [
    "divmod( 45, 7 )"
   ]
  },
  {
   "cell_type": "code",
   "execution_count": null,
   "metadata": {},
   "outputs": [],
   "source": [
    "True and bool( 15 ) or bool( 0 )"
   ]
  },
  {
   "cell_type": "code",
   "execution_count": null,
   "metadata": {},
   "outputs": [],
   "source": [
    "150 * 3 / 5**2 / 4"
   ]
  },
  {
   "cell_type": "code",
   "execution_count": null,
   "metadata": {},
   "outputs": [],
   "source": [
    "160 * 2 / 2**(2 * 2) + 5"
   ]
  },
  {
   "cell_type": "code",
   "execution_count": null,
   "metadata": {},
   "outputs": [],
   "source": [
    "[v**v for v in [1, 2, 3]]"
   ]
  },
  {
   "cell_type": "code",
   "execution_count": null,
   "metadata": {},
   "outputs": [],
   "source": [
    "[bool( e ) for e in [True, 0, 1, None, \"\", 2, []]]"
   ]
  },
  {
   "cell_type": "code",
   "execution_count": null,
   "metadata": {},
   "outputs": [],
   "source": [
    "[ord( c ) - ord( 'a' ) for c in \"abcdef\"]"
   ]
  },
  {
   "cell_type": "code",
   "execution_count": null,
   "metadata": {},
   "outputs": [],
   "source": [
    "\"xyz-\" * 3"
   ]
  },
  {
   "cell_type": "code",
   "execution_count": null,
   "metadata": {},
   "outputs": [],
   "source": [
    "[1, 2, 3, 4] * 3"
   ]
  },
  {
   "cell_type": "markdown",
   "metadata": {},
   "source": [
    "----\n",
    "QUESTION 2\n",
    "\n",
    "----"
   ]
  },
  {
   "cell_type": "markdown",
   "metadata": {},
   "source": [
    "Write Python code that uses looping to print all values in the range [120 .. 501] skipping\n",
    "3 values each time. So, the values printed should be 120, 123, 126, . . . , 495, 498, 501 in that order."
   ]
  },
  {
   "cell_type": "code",
   "execution_count": null,
   "metadata": {},
   "outputs": [],
   "source": [
    "\n",
    "\n",
    "\n",
    "\n",
    "\n"
   ]
  },
  {
   "cell_type": "markdown",
   "metadata": {},
   "source": [
    "----\n",
    "QUESTION 3\n",
    "\n",
    "----"
   ]
  },
  {
   "cell_type": "markdown",
   "metadata": {},
   "source": [
    "Rewrite the code below to use a for-loop instead such that the new code functions identically.\n",
    "\n",
    "    b = 5\n",
    "    e = 16\n",
    "    l = []\n",
    "    while b < e:\n",
    "        l.insert( 0, b )\n",
    "        b += 2"
   ]
  },
  {
   "cell_type": "code",
   "execution_count": null,
   "metadata": {},
   "outputs": [],
   "source": [
    "\n"
   ]
  },
  {
   "cell_type": "markdown",
   "metadata": {},
   "source": [
    "----\n",
    "QUESTION 4\n",
    "\n",
    "----"
   ]
  },
  {
   "cell_type": "markdown",
   "metadata": {},
   "source": [
    "Write a Python function called `new_balance( balance_list, interest_rate )` that\n",
    "takes a list of balances in a bank and an interest rate represented as a percentage and computes and\n",
    "returns the new balances according to the formula $\\mathrm{new} = \\mathrm{old} + \\mathrm{old} ∗ \\mathrm{interest}$. Example:\n",
    "\n",
    "    >>> b = [10, 50, 100, 1000]\n",
    "    >>> new_balance( b, 0.05 )\n",
    "    [10.5, 52.5, 105.0, 1050.0]"
   ]
  },
  {
   "cell_type": "code",
   "execution_count": null,
   "metadata": {},
   "outputs": [],
   "source": [
    "\n",
    "\n",
    "\n"
   ]
  },
  {
   "cell_type": "markdown",
   "metadata": {},
   "source": [
    "----\n",
    "QUESTION 5\n",
    "\n",
    "----"
   ]
  },
  {
   "cell_type": "markdown",
   "metadata": {},
   "source": [
    "Implement the following statistical formula for computing and returning the _t-test_ metric,\n",
    "*t*, for two populations, `x1` and `x2` with the function signature `t_test( x1, x2 )`, where\n",
    "\n",
    "$$\n",
    "    t = \\frac{\\bar{x}_1 - \\bar{x}_2}{\\sqrt{\\dfrac{s_1}{n_1} + \\dfrac{s_2}{n_2}}}\n",
    "$$\n",
    "\n",
    "- $\\bar{x}_1$ and $\\bar{x}_2$ are the _means_ of the $x_1$ and $x_2$ datasets\n",
    "- $s_1$ and $s_2$ are the _sample variances_ of the $x_1$ and $x_2$ datasets\n",
    "- $n_1$ and $n_2$ are the _number of elements_ of the $x_1$ and $x_2$ datasets \n",
    "\n",
    "_Hint: `statistics.mean()`, `statistics.variance()`._\n",
    "\n",
    "Examples :\n",
    "\n",
    "    >>> x1a = [10, 20, 30, 40, 50]\n",
    "    >>> x2a = [1, 29, 46, 78, 99]\n",
    "    >>> x1b = [5, 20, 40, 80, 100, 120]\n",
    "    >>> x2b = [1, 29, 46, 78, 99]\n",
    "    >>> t_test( x1a, x2a )\n",
    "    -1.0978901230374791\n",
    "    >>> t_test( x1b, x2b )\n",
    "    0.39951781246832857"
   ]
  },
  {
   "cell_type": "code",
   "execution_count": null,
   "metadata": {},
   "outputs": [],
   "source": [
    "\n",
    "\n",
    "\n"
   ]
  },
  {
   "cell_type": "markdown",
   "metadata": {},
   "source": [
    "----\n",
    "QUESTION 6\n",
    "\n",
    "----"
   ]
  },
  {
   "cell_type": "markdown",
   "metadata": {},
   "source": [
    "Write a Python function `concat_reverse( a, b )`, which takes two strings, `a` and `b`\n",
    "and returns a string by concatenating corresponding characters from each string, except that, for\n",
    "string `b`, concatenation will start from the end and move towards the beginning. Then the return\n",
    "value should have whatever remains from either string that does not have corresponding characters\n",
    "in the other string. If there are leftover characters from `b`, note that these will be in reverse order as\n",
    "demonstrated in the second example below. Examples:\n",
    "\n",
    "    >>> concat_reverse( \"abcde\", \"XYZ\" )\n",
    "    'aZbYcXde'\n",
    "    >>> concat_reverse( \"abc\", \"XYZPQR\" )\n",
    "    'aRbQcPZYX'"
   ]
  },
  {
   "cell_type": "code",
   "execution_count": null,
   "metadata": {},
   "outputs": [],
   "source": [
    "\n",
    "\n",
    "\n",
    "\n"
   ]
  },
  {
   "cell_type": "markdown",
   "metadata": {},
   "source": [
    "-----"
   ]
  },
  {
   "cell_type": "markdown",
   "metadata": {},
   "source": [
    "<center>END OF HOMEWORK</center>"
   ]
  }
 ],
 "metadata": {
  "kernelspec": {
   "display_name": "Python 3",
   "language": "python",
   "name": "python3"
  },
  "language_info": {
   "codemirror_mode": {
    "name": "ipython",
    "version": 3
   },
   "file_extension": ".py",
   "mimetype": "text/x-python",
   "name": "python",
   "nbconvert_exporter": "python",
   "pygments_lexer": "ipython3",
   "version": "3.7.3"
  }
 },
 "nbformat": 4,
 "nbformat_minor": 2
}
