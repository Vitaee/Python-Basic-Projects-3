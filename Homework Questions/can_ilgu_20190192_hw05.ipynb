{
 "cells": [
  {
   "cell_type": "markdown",
   "metadata": {},
   "source": [
    "# __ECC102 &ndash; Fall 2019-2020 &ndash; Homework 05__"
   ]
  },
  {
   "cell_type": "markdown",
   "metadata": {},
   "source": [
    "## Student Name and ID\n",
    "\n",
    "Please enter your name and your student ID below programmatically!"
   ]
  },
  {
   "cell_type": "code",
   "execution_count": 1,
   "metadata": {},
   "outputs": [],
   "source": [
    "student_name = \"CAN İLGU\"\n",
    "student_id   = \"20190192\""
   ]
  },
  {
   "cell_type": "markdown",
   "metadata": {},
   "source": [
    "## SUBMISSION INSTRUCTIONS\n",
    "\n",
    "You will submit your own copy of this Jupyter Lab notebook according to the instructions below:\n",
    "\n",
    "- You will upload the completed version of this notebook to the DropBox site that will be provided to you along with the Facebook announcement.\n",
    "\n",
    "- See the upload site for the __deadline__. \n",
    "\n",
    "- __Late homeworks will NOT be accepted!__ \n",
    "\n",
    "- Name your notebook file using your first name, middle name--if you have one, your\n",
    "  last name, and your 8-digit student ID, separated by individual underscore\n",
    "  characters. All letters MUST be in LOWERCASE.\n",
    "\n",
    "  DO NOT USE any PUNCTUATION characters in your filename. USE ONLY letters a-z\n",
    "  and digits 0-9, except for the underscore characters to join different parts\n",
    "  of your filename (first/middle/last name, student ID).\n",
    "\n",
    "  For example, if your name is `John Milton Smith` and your student ID is\n",
    "  `20173847`, then your file should be named \n",
    "\n",
    "                          john_milton_smith_20173847.ipynb\n",
    "\n",
    "  You may abbreviate your middle name and hence your file may also be named\n",
    "\n",
    "                          john_m_smith_20173847.ipynb\n",
    "\n",
    "- DO NOT include any other information in the name of your file that you will upload!\n",
    "\n",
    "- <font color=\"blue\">__READ ALL INSTRUCTIONS CAREFULLY BEFORE STARTING TO SOLVE EACH PROBLEM__</font>"
   ]
  },
  {
   "cell_type": "markdown",
   "metadata": {},
   "source": [
    "## HOMEWORK UPLOAD\n",
    "\n",
    "Upload your homework here:\n",
    "    \n",
    "> https://www.dropbox.com/request/pQn5f9h5mtBO0YSZbeQ5"
   ]
  },
  {
   "cell_type": "markdown",
   "metadata": {},
   "source": [
    "## Questions\n",
    "---\n",
    "\n",
    "There are 11 questions on this homework. Best of luck!"
   ]
  },
  {
   "cell_type": "markdown",
   "metadata": {},
   "source": [
    "----\n",
    "QUESTION 1\n",
    "\n",
    "----"
   ]
  },
  {
   "cell_type": "markdown",
   "metadata": {},
   "source": [
    "Short answer/self-study questions. Solve each question on your own before executing the code, which will obviously produce the correct answer. Then check if you were correct. If not, think why not, and learn from your mistake."
   ]
  },
  {
   "cell_type": "code",
   "execution_count": 1,
   "metadata": {},
   "outputs": [
    {
     "data": {
      "text/plain": [
       "'Straw Man'"
      ]
     },
     "execution_count": 1,
     "metadata": {},
     "output_type": "execute_result"
    }
   ],
   "source": [
    "\"Strawberry\"[:5] + ' Man' "
   ]
  },
  {
   "cell_type": "code",
   "execution_count": 2,
   "metadata": {},
   "outputs": [
    {
     "data": {
      "text/plain": [
       "''"
      ]
     },
     "execution_count": 2,
     "metadata": {},
     "output_type": "execute_result"
    }
   ],
   "source": [
    "\"Strawberry\"[9:9] # "
   ]
  },
  {
   "cell_type": "code",
   "execution_count": 3,
   "metadata": {},
   "outputs": [
    {
     "data": {
      "text/plain": [
       "'berry'"
      ]
     },
     "execution_count": 3,
     "metadata": {},
     "output_type": "execute_result"
    }
   ],
   "source": [
    "\"Strawberry\"[5:] #"
   ]
  },
  {
   "cell_type": "code",
   "execution_count": 4,
   "metadata": {},
   "outputs": [
    {
     "data": {
      "text/plain": [
       "'berry'"
      ]
     },
     "execution_count": 4,
     "metadata": {},
     "output_type": "execute_result"
    }
   ],
   "source": [
    "\"Strawberry\"[5:99] #"
   ]
  },
  {
   "cell_type": "code",
   "execution_count": 5,
   "metadata": {},
   "outputs": [
    {
     "data": {
      "text/plain": [
       "'rawbe'"
      ]
     },
     "execution_count": 5,
     "metadata": {},
     "output_type": "execute_result"
    }
   ],
   "source": [
    "\"Strawberry\"[2:-3] #"
   ]
  },
  {
   "cell_type": "code",
   "execution_count": 6,
   "metadata": {},
   "outputs": [
    {
     "data": {
      "text/plain": [
       "'trawberr'"
      ]
     },
     "execution_count": 6,
     "metadata": {},
     "output_type": "execute_result"
    }
   ],
   "source": [
    "\"Strawberry\"[1:-1] #"
   ]
  },
  {
   "cell_type": "code",
   "execution_count": 7,
   "metadata": {},
   "outputs": [
    {
     "data": {
      "text/plain": [
       "'tabr'"
      ]
     },
     "execution_count": 7,
     "metadata": {},
     "output_type": "execute_result"
    }
   ],
   "source": [
    "\"Strawberry\"[1:-1:2] #"
   ]
  },
  {
   "cell_type": "code",
   "execution_count": 8,
   "metadata": {},
   "outputs": [
    {
     "data": {
      "text/plain": [
       "'Srwer'"
      ]
     },
     "execution_count": 8,
     "metadata": {},
     "output_type": "execute_result"
    }
   ],
   "source": [
    "\"Strawberry\"[::2] #"
   ]
  },
  {
   "cell_type": "code",
   "execution_count": 9,
   "metadata": {},
   "outputs": [
    {
     "data": {
      "text/plain": [
       "'yrrebwartS'"
      ]
     },
     "execution_count": 9,
     "metadata": {},
     "output_type": "execute_result"
    }
   ],
   "source": [
    "\"Strawberry\"[::-1] #"
   ]
  },
  {
   "cell_type": "code",
   "execution_count": 10,
   "metadata": {},
   "outputs": [
    {
     "data": {
      "text/plain": [
       "'yrbat'"
      ]
     },
     "execution_count": 10,
     "metadata": {},
     "output_type": "execute_result"
    }
   ],
   "source": [
    "\"Strawberry\"[::-2] #"
   ]
  },
  {
   "cell_type": "code",
   "execution_count": 11,
   "metadata": {},
   "outputs": [
    {
     "data": {
      "text/plain": [
       "['a', 'b', 'c']"
      ]
     },
     "execution_count": 11,
     "metadata": {},
     "output_type": "execute_result"
    }
   ],
   "source": [
    "[x for x in \"abc\"] #"
   ]
  },
  {
   "cell_type": "code",
   "execution_count": 12,
   "metadata": {},
   "outputs": [
    {
     "data": {
      "text/plain": [
       "['aa', 'bb', 'cc']"
      ]
     },
     "execution_count": 12,
     "metadata": {},
     "output_type": "execute_result"
    }
   ],
   "source": [
    "[x*2 for x in \"abc\"] #"
   ]
  },
  {
   "cell_type": "code",
   "execution_count": 13,
   "metadata": {},
   "outputs": [
    {
     "data": {
      "text/plain": [
       "[2, 4, 6]"
      ]
     },
     "execution_count": 13,
     "metadata": {},
     "output_type": "execute_result"
    }
   ],
   "source": [
    "[x*2 for x in (1, 2, 3)] #"
   ]
  },
  {
   "cell_type": "code",
   "execution_count": 14,
   "metadata": {},
   "outputs": [
    {
     "data": {
      "text/plain": [
       "[0, 4, 8, 12, 16]"
      ]
     },
     "execution_count": 14,
     "metadata": {},
     "output_type": "execute_result"
    }
   ],
   "source": [
    "[x*2 for x in range( 10 ) if x % 2 == 0] #"
   ]
  },
  {
   "cell_type": "code",
   "execution_count": 15,
   "metadata": {},
   "outputs": [
    {
     "data": {
      "text/plain": [
       "['0', '2', '4', '6', '8']"
      ]
     },
     "execution_count": 15,
     "metadata": {},
     "output_type": "execute_result"
    }
   ],
   "source": [
    "[str( x ) for x in range( 10 ) if x % 2 == 0] #"
   ]
  },
  {
   "cell_type": "code",
   "execution_count": 16,
   "metadata": {},
   "outputs": [
    {
     "data": {
      "text/plain": [
       "['1', '4', '7']"
      ]
     },
     "execution_count": 16,
     "metadata": {},
     "output_type": "execute_result"
    }
   ],
   "source": [
    "[str( x ) for x in range( 10 ) if x % 3 == 1] # "
   ]
  },
  {
   "cell_type": "code",
   "execution_count": 17,
   "metadata": {},
   "outputs": [
    {
     "data": {
      "text/plain": [
       "7.0"
      ]
     },
     "execution_count": 17,
     "metadata": {},
     "output_type": "execute_result"
    }
   ],
   "source": [
    "5 * 2**3 / 4 - 3 #"
   ]
  },
  {
   "cell_type": "code",
   "execution_count": 18,
   "metadata": {},
   "outputs": [
    {
     "data": {
      "text/plain": [
       "7.0"
      ]
     },
     "execution_count": 18,
     "metadata": {},
     "output_type": "execute_result"
    }
   ],
   "source": [
    "5 * (2**3 / 4) - 3 #"
   ]
  },
  {
   "cell_type": "markdown",
   "metadata": {},
   "source": [
    "----\n",
    "QUESTION 2\n",
    "\n",
    "----"
   ]
  },
  {
   "cell_type": "raw",
   "metadata": {},
   "source": [
    "# From https://www.mathscareers.org.uk/article/calculating-pi/:\n",
    "\n",
    "\n",
    "One of the most well known and beautiful ways to calculate Pi (π) is to use the _Gregory-Leibniz Series_:\n",
    "\n",
    "$$\\frac{\\pi}{4}=1-\\frac{1}{3}+\\frac{1}{5}-\\frac{1}{7}+\\frac{1}{9}-\\ldots$$\n",
    "\n",
    "Remember that we've implemented this approach to approximating $\\pi$ in class last week.\n",
    "\n",
    "Another series which converges more quickly is the _Nilakantha Series_, which was developed in the 15th century. This series converges quicker than the _Gregory-Leibniz Series_, and this means that you need to work out fewer terms for your answer to get closer to the real value of _pi_ ($\\pi$) .\n",
    "\n",
    "Now implement the _Nilakantha Series_ given below for approximating $\\pi$ to $n$ decimal digits according to the following description:\n",
    "\n",
    "$$\\pi= 3+ \\frac{4}{2\\times 3 \\times 4}-\\frac{4}{4\\times 5 \\times 6}+\\frac{4}{6\\times 7 \\times 8}-\\frac{4}{8\\times 9 \\times 10}+\\ldots$$\n",
    "\n",
    "- Implement `pi_nilkantha( n )` where $n$ is the number of decimal digits to which your approximation must be accurate. You must think about how you will decide if you have achieved the necessary precision.\n",
    "- Pay attention to sign change!\n"
   ]
  },
  {
   "cell_type": "code",
   "execution_count": 25,
   "metadata": {},
   "outputs": [
    {
     "name": "stdout",
     "output_type": "stream",
     "text": [
      "3.1415926535897913\n"
     ]
    }
   ],
   "source": [
    "#Nilakantha Series (Pi hesaplama)\n",
    "\n",
    "the_pi = 0.0\n",
    "the_num = 2.0\n",
    "\n",
    "for i in range(500000):\n",
    "    # the_pi = 0.13968253968253966 (the_num'dan önceki pi sayısı) \n",
    "    the_pi = the_pi + 4.0 /(the_num* (the_num+1.0)* (the_num+2.0)) - 4.0 /((the_num+2.0)* (the_num+3.0)* (the_num+4.0))\n",
    "    the_num += 4.0 \n",
    "    # the_pi = 0.1415926535897915 (the_num += 4.0'dan sonra pi sayısı)\n",
    "\n",
    "print(the_pi + 3 ) \n",
    "\n",
    "#the_pi + 2 yazarsak 2.14.. diye gider (the_pi + 3) yazmamızın sebebi 3.14 ile başlatıyoruz.\n",
    "#the_pi = 3.1415926535897913\n",
    "\n"
   ]
  },
  {
   "cell_type": "markdown",
   "metadata": {},
   "source": [
    "----\n",
    "QUESTION 3\n",
    "\n",
    "----"
   ]
  },
  {
   "cell_type": "markdown",
   "metadata": {},
   "source": [
    "Write a Python function named `sum_first_n( n )` that computes and returns the sum of first $n$ positive integers. For example, `sum_first_n( 10 )` would return `55` ($1 + 2 + \\ldots + 10$)."
   ]
  },
  {
   "cell_type": "code",
   "execution_count": 3,
   "metadata": {},
   "outputs": [
    {
     "name": "stdout",
     "output_type": "stream",
     "text": [
      "55\n"
     ]
    }
   ],
   "source": [
    "def sum_first_n(n): #fonksiyonumuzu oluşturduk. fonksiyon_ismi(aldığı değer)\n",
    "    \n",
    "    return n * (n + 1) // 2   # 10 * (10+1) = 110 // 2 = 55 bize 10'a kadar olan sayıların toplamını verir.\n",
    "    #return ederek işlemin gerçekleşmesini sağlıyoruz böylece ekrana sonucu yazdırabileceğiz.\n",
    "\n",
    "#n = 10 #n parametresine sayımızı atıyoruz\n",
    "\n",
    "print(sum_first_n(10)) #sonucu print ediyoruz.\n",
    "\n",
    "\n"
   ]
  },
  {
   "cell_type": "markdown",
   "metadata": {},
   "source": [
    "----\n",
    "QUESTION 4\n",
    "\n",
    "----"
   ]
  },
  {
   "cell_type": "markdown",
   "metadata": {},
   "source": [
    "Write a Python function named `mul_first_n( n )` that computes and returns the _multiplication_ of first $n$ positive integers. For example, `mul_first_n( 3 )` would return `6` ($1 \\times 2 \\times 3$)."
   ]
  },
  {
   "cell_type": "code",
   "execution_count": 83,
   "metadata": {},
   "outputs": [
    {
     "name": "stdout",
     "output_type": "stream",
     "text": [
      "24\n"
     ]
    }
   ],
   "source": [
    "import math #math kütüphanemizi import ettik ki içindeki factorial() methodunu kullanabilelim.\n",
    "\n",
    "def mul_first_n(a): #fonksiyonumuzu oluştuyoruz..\n",
    "    \n",
    "    return math.factorial(a) #işlemimizi return ediyoruz math.factorial(4) = 4x3x2x1 = 24 \n",
    "\n",
    "a = 4 # sayı atayarak o sayının faktoriyelinin hesaplanmasını sağlıyoruz.\n",
    "\n",
    "print(mul_first_n(a)) # sonucu print ediyoruz.\n",
    "\n",
    "\n"
   ]
  },
  {
   "cell_type": "markdown",
   "metadata": {},
   "source": [
    "----\n",
    "QUESTION 5\n",
    "\n",
    "----"
   ]
  },
  {
   "cell_type": "markdown",
   "metadata": {},
   "source": [
    "Write a Python function called `display_centered( name_str, line_width=80 )` that takes a string, `name_str`, and displays that string centered within `line_width` characters. For example, `display_centered( \"NEU\", line_width=11 )` would print the following exactly, where space characters are shown with `▫` for the sake of argument."
   ]
  },
  {
   "cell_type": "raw",
   "metadata": {},
   "source": [
    "▫▫▫▫NEU▫▫▫▫"
   ]
  },
  {
   "cell_type": "code",
   "execution_count": 30,
   "metadata": {},
   "outputs": [
    {
     "name": "stdout",
     "output_type": "stream",
     "text": [
      "▫▫▫▫▫NEU▫▫▫▫▫\n"
     ]
    }
   ],
   "source": [
    "def right_justify( in_str): #fonksiyonumuzu oluşturduk. \n",
    "    \n",
    "    val = \"▫\"*5  #değişkenimizi tanımladık  val = ▫▫▫▫▫ \n",
    "    #format methodu ile bizden istenileni gerçekleştirebiliriz. \n",
    "    \n",
    "    print(\"{}{}{}\".format(val, in_str, val))  #{▫▫▫▫▫}{NEU}{▫▫▫▫▫} = val, in_str, val\n",
    "\n",
    "right_justify(\"NEU\") #fonskiyonumuzun parametresine değerimizi atadık. in_str = NEU\n",
    "\n",
    "#ve sounç; ▫▫▫▫▫NEU▫▫▫▫▫\n",
    "\n",
    "\n"
   ]
  },
  {
   "cell_type": "markdown",
   "metadata": {},
   "source": [
    "----\n",
    "QUESTION 6\n",
    "\n",
    "----"
   ]
  },
  {
   "cell_type": "markdown",
   "metadata": {},
   "source": [
    "Write a Python function called `median( values )` which computes and returns the _median_ of a list of numeric `values`. You should write this function from scratch, and this means that you cannot use any ready-made functions that compute the median. Here's one way you can check if you have implemented your function correctly:"
   ]
  },
  {
   "cell_type": "code",
   "execution_count": 20,
   "metadata": {},
   "outputs": [
    {
     "name": "stdout",
     "output_type": "stream",
     "text": [
      "Help on function median in module statistics:\n",
      "\n",
      "median(data)\n",
      "    Return the median (middle value) of numeric data.\n",
      "    \n",
      "    When the number of data points is odd, return the middle data point.\n",
      "    When the number of data points is even, the median is interpolated by\n",
      "    taking the average of the two middle values:\n",
      "    \n",
      "    >>> median([1, 3, 5])\n",
      "    3\n",
      "    >>> median([1, 3, 5, 7])\n",
      "    4.0\n",
      "\n"
     ]
    }
   ],
   "source": [
    "import statistics\n",
    "help( statistics.median )"
   ]
  },
  {
   "cell_type": "code",
   "execution_count": 32,
   "metadata": {},
   "outputs": [
    {
     "name": "stdout",
     "output_type": "stream",
     "text": [
      "4.0\n"
     ]
    }
   ],
   "source": [
    "import statistics #Median methodunu kullanmak için ilk olarak içinde bulunduğu kütüphaneyi tanımlamamız gerek import\n",
    "#etmemiz gerek ki kullanabilelim.\n",
    "\n",
    "def median(values): #fonskiyonumuzu oluşturduk.\n",
    "    return values #Values'i return ederek onu values = [1, 3, 5, 7] ve üzerinde gerekli işlemlern yapılmasını sağladık.\n",
    "\n",
    "values = [1, 3, 5, 7]\n",
    "\n",
    "print(statistics.median(values)) #eğer  len(values) = 4 ise çıkan sonuç ortadki 2  sayının toplamı / 2 \n",
    "# [ 1, 3 , 5 , 7] = listenin eleman sayısı 4 yani çift sayı çift sayı olduğu için (5 + 3) / 2 = 4.0\n",
    "# values = [1, 3 , 5] = eleman sayısı = 3 yani tek sayı bu yüzden listenin ortadaki elemanını ekrana yazdırılacak.\n",
    "\n"
   ]
  },
  {
   "cell_type": "markdown",
   "metadata": {},
   "source": [
    "----\n",
    "QUESTION 7\n",
    "\n",
    "----"
   ]
  },
  {
   "cell_type": "markdown",
   "metadata": {},
   "source": [
    "Write a Python function called `letterize( number )` that takes an integer `number` and returns a `list` of characters that represents the individual digits of that number. For example:\n",
    "\n",
    "    >>> letterize( 16384 )\n",
    "    ['1', '6', '3', '8', '4']"
   ]
  },
  {
   "cell_type": "code",
   "execution_count": 49,
   "metadata": {},
   "outputs": [
    {
     "name": "stdout",
     "output_type": "stream",
     "text": [
      "['1', '6', '3', '8', '4']\n",
      "The list is = ['1', '6', '3', '8', '4']\n"
     ]
    }
   ],
   "source": [
    "def letterize(number): #fonksiyonumuzu oluşturduk.\n",
    "    return number #number = 16384 değerimizi return ettik.\n",
    "\n",
    "#eğer return etmezsek expected an indented block hatası alırız : 'ten sonra bir alt satıra inilip 4 boşluk bırakılıp\n",
    "#birşeyler yazmalıyız ki ortada bir fonskiyon olduğu anlaşılsın ortada bir değerin return edildiği belli olsun.\n",
    "#bu soru için sadece return number dememiz yeterli\n",
    "\n",
    "number = 16384 #numaramızı atadık\n",
    "\n",
    "res = [str(x) for x in str(number)] #numaramızı alıp str yaptık yani str(x) = \"1\", \"6\" ,\"3\" , \"8\" , \"4\"\n",
    "#str(x) = her bir rakama \"\" işareti atadık\n",
    "#str(number) = 16384 sayısını string olarak tanımladık.\n",
    "#ve res = [\"1\", \"6\", \"3\", \"8\", \"4\"] = liste olarak dışarıya çıkmasının sebebi [] parantezlerini kullanmamız bu [] içine\n",
    "#yazdık ki hocamızın bizden istediği gibi bir çıktı olsun \n",
    "\n",
    "print(res) # = [\"1\", \"6\", \"3\", \"8\", \"4\"]\n",
    "#burda çıkan res str cinsinden değil. for döngüsünden bir liste çıkıyor sadece.Onu print ettik.\n",
    "\n",
    "print(\"The list is = \" + str(res)) #burda res'i print ederken str(res) yazmazsak hata alırız.\n",
    "\n",
    "#hata = Can only concatenate str (not \"list\") to str yani siz listenin yanında bir string ile print etmek isterseniz.\n",
    "# o listeyi str'ye çevirmeniz lazım çünkü str + str ekrana çıkabilir ama str + list olmaz.\n",
    "\n",
    "      \n",
    "      "
   ]
  },
  {
   "cell_type": "markdown",
   "metadata": {},
   "source": [
    "----\n",
    "QUESTION 8\n",
    "\n",
    "----"
   ]
  },
  {
   "cell_type": "markdown",
   "metadata": {},
   "source": [
    "Write a Python function called `digitize( number )` that takes an integer `number` and returns a `list` of the individual digits of that number. For example:\n",
    "\n",
    "    >>> digitize( 16384 )\n",
    "    [1, 6, 3, 8, 4]"
   ]
  },
  {
   "cell_type": "code",
   "execution_count": 11,
   "metadata": {},
   "outputs": [
    {
     "name": "stdout",
     "output_type": "stream",
     "text": [
      "[2, 0, 9, 1, 0]\n"
     ]
    }
   ],
   "source": [
    "def letterize(number):\n",
    "    return number \n",
    "\n",
    "number = 20910\n",
    "\n",
    "res = [int(x) for x in str(number)] #int(x) = 2,0,9,1,0\n",
    "\n",
    "#str(number) yazmamızın sebebi; for döngüsünde int bir değer döndürülemez hata alırız. ( int' object is not iterable ).\n",
    "#string olarak çeviriyoruz ki for döngümüz çalışssın.\n",
    "\n",
    "print(res)\n",
    "\n",
    "\n"
   ]
  },
  {
   "cell_type": "markdown",
   "metadata": {},
   "source": [
    "----\n",
    "QUESTION 9\n",
    "\n",
    "----"
   ]
  },
  {
   "cell_type": "markdown",
   "metadata": {},
   "source": [
    "Using your previously implemented function(s), generate the _sine_ of a list of angles in degrees between `0` and `720` inclusive, with a step of 5 degrees. Store the degree values in a variable called `S` and their corresponding _sine_ values in another variable named `S`. When plotted like this"
   ]
  },
  {
   "cell_type": "raw",
   "metadata": {},
   "source": [
    "import matplotlib.pyplot as plt\n",
    "\n",
    "plt.plot( D, S )\n",
    "plt.show()"
   ]
  },
  {
   "cell_type": "markdown",
   "metadata": {},
   "source": [
    "you should get a nice sine graph as the one given here: \n",
    "> https://en.wikibooks.org/wiki/Trigonometry/Graphs_of_Sine_and_Cosine_Functions"
   ]
  },
  {
   "cell_type": "code",
   "execution_count": 51,
   "metadata": {},
   "outputs": [
    {
     "data": {
      "image/png": "[encoded data removed]",
      "text/plain": [
       "<Figure size 432x288 with 1 Axes>"
      ]
     },
     "metadata": {
      "needs_background": "light"
     },
     "output_type": "display_data"
    }
   ],
   "source": [
    "import matplotlib.pyplot as plt #grafiğimizi oluşturmak için gerekli kütüphanemizi import edip onu plt olarak tanımladık.\n",
    "import numpy as np #numpy kütüphanesini import ederek onu np olarak tanımladık.\n",
    "%matplotlib inline   \n",
    "\n",
    "x = np.arange(0, 4*np.pi ,0.1)   # start,stop,step,  4 * np.pi = 12.566370614359172\n",
    "#x = np.arange(4*np.pi) = array([ 0.,  1.,  2.,  3.,  4.,  5.,  6.,  7.,  8.,  9., 10., 11., 12.])\n",
    "\n",
    "y = np.sin(x) # x'in sinüsünü aldık \n",
    "z = np.cos(x) # ve cosünüsü\n",
    "\n",
    "plt.plot(x,y,x,z) # aldığımız sinüs ve cosünüsü (x,y) grafiğini çizdirdik mavi olan, sonra ise (x,z) grafiğini çizdirdik.\n",
    "\n",
    "#plt.xlabel('x values from 0 to 4pi')   \n",
    "#plt.ylabel('sin(x) and cos(x)')\n",
    "#plt.title('Plot of sin and cos from 0 to 4pi')\n",
    "#plt.legend(['sin(x)', 'cos(x)'])    \n",
    "\n",
    "plt.show() #işlemlerden sonra grafiğin ekranda görünmesi için plt.show() kodumuzu kullandık.\n",
    "\n",
    "\n",
    "\n"
   ]
  },
  {
   "cell_type": "markdown",
   "metadata": {},
   "source": [
    "----\n",
    "QUESTION 10\n",
    "\n",
    "----"
   ]
  },
  {
   "cell_type": "markdown",
   "metadata": {},
   "source": [
    "Write a Python function called `print_grid( n_rows, n_cols )` that takes how many rows (`n_rows`) and how many columns (`n_cols`) it should print a pair of empty square brackets, `[]`, in grid form. Examples:"
   ]
  },
  {
   "cell_type": "raw",
   "metadata": {},
   "source": [
    ">>> print_grid( 5, 3 )\n",
    "[][][]\n",
    "[][][]\n",
    "[][][]\n",
    "[][][]\n",
    "[][][]\n",
    "\n",
    ">>> print_grid( 4, 7 )\n",
    "[][][][][][][]\n",
    "[][][][][][][]\n",
    "[][][][][][][]\n",
    "[][][][][][][]"
   ]
  },
  {
   "cell_type": "code",
   "execution_count": 12,
   "metadata": {},
   "outputs": [
    {
     "name": "stdout",
     "output_type": "stream",
     "text": [
      "[][][]\n",
      "[][][]\n",
      "[][][]\n",
      "[][][]\n"
     ]
    }
   ],
   "source": [
    "def grid(x, y):\n",
    "    \n",
    "    return \"\\n\".join(\"[]\" * y for _ in range(x))\n",
    "\n",
    "print(grid(4, 3))"
   ]
  },
  {
   "cell_type": "markdown",
   "metadata": {},
   "source": [
    "----\n",
    "QUESTION 11\n",
    "\n",
    "----"
   ]
  },
  {
   "cell_type": "markdown",
   "metadata": {},
   "source": [
    "The _Fibonacci_ numbers are defined by the sequence\n",
    "\n",
    "$$\n",
    "f_1 = 1\\\\\n",
    "f_2 = 1\\\\\n",
    "f_n = f_{n − 1} + f_{n − 2}\n",
    "$$\n",
    "\n",
    "That is, the next _Fibonacci_ number, $f_n$, is the addition of the previous two values,\n",
    "$f_{n − 1}$ and $f_{n − 2}$.\n",
    "\n",
    "Note that the first two values, $f_1$ and $f_2$, in this sequence are both 1. So the third value in this sequence is 2 ($1 + 1$). Adding the second (1) and third values (2), we get the fourth value, which is 3. Then the fifth value will be 5 ($2 + 3$), and so on.\n",
    "\n",
    "Write a Python function called `fibonacci( n )` that returns a list of _Fibonacci_ values up to and including the $\\mathtt{n}^{th}$ _Fibonacci_ number. Examples:\n",
    "\n",
    "    >>> fibonacci( 7 )\n",
    "    [1, 1, 2, 3, 5, 8, 13]\n",
    "    \n",
    "    >>> fibonacci( 10 )\n",
    "    [1, 1, 2, 3, 5, 8, 13, 21, 34, 55] "
   ]
  },
  {
   "cell_type": "code",
   "execution_count": 3,
   "metadata": {},
   "outputs": [
    {
     "name": "stdout",
     "output_type": "stream",
     "text": [
      "Fibonacci series is;\n",
      "[1, 1, 2, 3, 5, 8, 13, 21, 34, 55]\n"
     ]
    }
   ],
   "source": [
    "\n",
    "\n",
    "def fibo(num): #fonksiyonumuzu tanımladık.\n",
    "    first = 0 #değişkenlerimizi tanımladık. \n",
    "    second = 1 #eğer second = 0 yaparsak bulunan tüm sayılar 0 olacak.\n",
    "    result = [] #boş listemizi tanımladık.\n",
    "    \n",
    "    print(\"Fibonacci series is;\") \n",
    "    \n",
    "    for i in range(0,num): #0 dan başlamazsak 10'a kadar olan fibonacci sayısının son sayısını listemize yazdıramayız.\n",
    "# 0 ve num yani num = 10  for i in range(0,10)   \n",
    "\n",
    "        third = first + second # 0 + 1 = 1 , 1 + 1 = 2, 1 + 2 = 3, 2 + 3 = 5, 3 + 5 = 8, 5 + 8 = 13..\n",
    "        \n",
    "        #bulduğumuz bu sayıları listemize ekliyoruz yani result = [1, 1, 2, 3, 5..]\n",
    "        result.append(second)\n",
    "        \n",
    "        first = second #first değişkenimizi second'a eşitlemezsek bu listedeki bütün elamanlar = [1, 1, 1, 1, 1..]\n",
    "        second = third #second değişkenimizi de third e eşitleyerek for döngümüzün içinde 10'a kadar olan sayıların\n",
    "        #listelerini elde ediyoruz first = second eşitlediğimiz için second'ı da third'e eşitlememiz lazımki yine liste\n",
    "        # = [1, 1, 1..] olmasın.\n",
    "        \n",
    "    return result # ve listemizi return ediyoruz ki ekrana yazdırabilelim return result yazmadığımız takdirde\n",
    "    #ekranda sadece None yazar ve tabiki return değişkenizimi for döngüsünün dışına yazıyoruz..\n",
    "\n",
    "\n",
    "print(fibo(10)) #ve num değişkenimize değer atıyoruz ki listemizi elde edebilelim.. \n",
    "\n",
    "\n",
    "# burdaki linkte fibonacci ile alakalı bir resim var daha iyi anlamak için bakabilirsiniz..\n",
    "#https://en.wikipedia.org/wiki/Fibonacci_number#/media/File:PascalTriangleFibanacci.svg"
   ]
  },
  {
   "cell_type": "markdown",
   "metadata": {},
   "source": [
    "---"
   ]
  },
  {
   "cell_type": "markdown",
   "metadata": {},
   "source": [
    "<center>END OF HOMEWORK</center>"
   ]
  }
 ],
 "metadata": {
  "kernelspec": {
   "display_name": "Python 3",
   "language": "python",
   "name": "python3"
  },
  "language_info": {
   "codemirror_mode": {
    "name": "ipython",
    "version": 3
   },
   "file_extension": ".py",
   "mimetype": "text/x-python",
   "name": "python",
   "nbconvert_exporter": "python",
   "pygments_lexer": "ipython3",
   "version": "3.7.3"
  }
 },
 "nbformat": 4,
 "nbformat_minor": 2
}
