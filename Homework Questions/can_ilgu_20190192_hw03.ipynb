{
 "cells": [
  {
   "cell_type": "markdown",
   "metadata": {},
   "source": [
    "# __ECC102 &ndash; Fall 2019-2020 &ndash; Homework 03__"
   ]
  },
  {
   "cell_type": "markdown",
   "metadata": {},
   "source": [
    "## Student Name and ID\n",
    "\n",
    "Please enter your name and your student ID below programmatically!"
   ]
  },
  {
   "cell_type": "code",
   "execution_count": 5,
   "metadata": {},
   "outputs": [],
   "source": [
    "student_name = \"Can İLgu\"\n",
    "student_id   = \"20190192\""
   ]
  },
  {
   "cell_type": "markdown",
   "metadata": {},
   "source": [
    "## SUBMISSION INSTRUCTIONS\n",
    "\n",
    "You will submit your own copy of this Jupyter Lab notebook according to the instructions below:\n",
    "\n",
    "- You will upload the completed version of this notebook to the DropBox site that will be provided to you along with the Facebook announcement.\n",
    "\n",
    "- See the upload site for the __deadline__. \n",
    "\n",
    "- __Late homeworks will NOT be accepted!__ \n",
    "\n",
    "- Name your notebook file using your first name, middle name--if you have one, your\n",
    "  last name, and your 8-digit student ID, separated by individual underscore\n",
    "  characters. All letters MUST be in LOWERCASE.\n",
    "\n",
    "  DO NOT USE any PUNCTUATION characters in your filename. USE ONLY letters a-z\n",
    "  and digits 0-9, except for the underscore characters to join different parts\n",
    "  of your filename (first/middle/last name, student ID).\n",
    "\n",
    "  For example, if your name is `John Milton Smith` and your student ID is\n",
    "  `20173847`, then your file should be named \n",
    "\n",
    "                          john_milton_smith_20173847.ipynb\n",
    "\n",
    "  You may abbreviate your middle name and hence your file may also be named\n",
    "\n",
    "                          john_m_smith_20173847.ipynb\n",
    "\n",
    "- DO NOT include any other information in the name of your file that you will upload!\n",
    "\n",
    "- <font color=\"blue\">__READ ALL INSTRUCTIONS CAREFULLY BEFORE STARTING TO SOLVE EACH PROBLEM__</font>\n",
    "\n",
    "- Upload your homework here:\n",
    "    \n",
    "> https://www.dropbox.com/request/AX1UaaUISWTSBT3ls645"
   ]
  },
  {
   "cell_type": "markdown",
   "metadata": {},
   "source": [
    "## Questions\n",
    "---\n",
    "\n",
    "There are 10 questions on this homework. Best of luck!"
   ]
  },
  {
   "cell_type": "markdown",
   "metadata": {},
   "source": [
    "----\n",
    "QUESTION 1 \n",
    "\n",
    "----"
   ]
  },
  {
   "cell_type": "markdown",
   "metadata": {},
   "source": [
    "What are the _truth_ values of the following Python expressions? For each, briefly justify the result you got. \n",
    "\n",
    "- `5.2`\n",
    "- `[]`\n",
    "- `[None]`\n",
    "- `(\"a\",)`\n",
    "- `\"0\"`\n",
    "- `\"\"\"\"\"\"`\n",
    "- `\"Hello world!\"`\n",
    "- `[\"a\", \"b\", \"c\"]`\n",
    "- `{}`\n",
    "- `()`\n",
    "\n",
    "Note that you can get the _type_ of a value by calling the `type()` function on that value. For example,\n",
    "\n",
    "    >>> type( \"A\" )\n",
    "    str"
   ]
  },
  {
   "cell_type": "code",
   "execution_count": 6,
   "metadata": {},
   "outputs": [],
   "source": [
    "type(5.2) #class 'float'"
   ]
  },
  {
   "cell_type": "code",
   "execution_count": null,
   "metadata": {},
   "outputs": [],
   "source": [
    "type([]) #class 'list'"
   ]
  },
  {
   "cell_type": "code",
   "execution_count": null,
   "metadata": {},
   "outputs": [],
   "source": [
    "type([None]) #class 'list'"
   ]
  },
  {
   "cell_type": "code",
   "execution_count": null,
   "metadata": {},
   "outputs": [],
   "source": [
    "type(\"a\",) #class 'str'"
   ]
  },
  {
   "cell_type": "code",
   "execution_count": null,
   "metadata": {},
   "outputs": [],
   "source": [
    "type(\"0\") #class 'str'"
   ]
  },
  {
   "cell_type": "code",
   "execution_count": null,
   "metadata": {},
   "outputs": [],
   "source": [
    "type(\"\"\"\"\"\") #class 'str'"
   ]
  },
  {
   "cell_type": "code",
   "execution_count": null,
   "metadata": {},
   "outputs": [],
   "source": [
    "type(\"Hello World\") #class 'str'"
   ]
  },
  {
   "cell_type": "code",
   "execution_count": null,
   "metadata": {},
   "outputs": [],
   "source": [
    "type([\"a\", \"b\", \"c\"]) #class 'list'"
   ]
  },
  {
   "cell_type": "code",
   "execution_count": null,
   "metadata": {},
   "outputs": [],
   "source": [
    "type({}) #class 'dict'"
   ]
  },
  {
   "cell_type": "code",
   "execution_count": null,
   "metadata": {},
   "outputs": [],
   "source": [
    "type(()) #class 'tuple'"
   ]
  },
  {
   "cell_type": "markdown",
   "metadata": {},
   "source": [
    "----\n",
    "QUESTION 2\n",
    "\n",
    "----"
   ]
  },
  {
   "cell_type": "markdown",
   "metadata": {},
   "source": [
    "Consider the following code snippets in _Part 1_ and _Part 2_. Consult the appropriate table in your textbook to solve this problem. I will not provide you a specific reference knowingly, because you ought to learn how to use reference books in solving problems. Sometimes you know where information lies, and so you go and find it exactly where it is. At other times, you need to _search_ for information to solve a problem.\n",
    "\n",
    "__(Part 1)__"
   ]
  },
  {
   "cell_type": "code",
   "execution_count": 7,
   "metadata": {},
   "outputs": [
    {
     "data": {
      "text/plain": [
       "4.6"
      ]
     },
     "execution_count": 7,
     "metadata": {},
     "output_type": "execute_result"
    }
   ],
   "source": [
    "a = 100\n",
    "b = 25\n",
    "c = 3\n",
    "d = 5\n",
    "\n",
    "(a**0.5 * b + c * d**3) // c**2 / (b * 3 / d)"
   ]
  },
  {
   "cell_type": "markdown",
   "metadata": {},
   "source": [
    "Explain the result of the above expression as done in class notes. Show what happens at each step and prove that you get the expected result."
   ]
  },
  {
   "cell_type": "raw",
   "metadata": {},
   "source": [
    "# Write your answer here. You can use this Raw-formatted cell or modify its format if you wish as Markdown.\n",
    "\n",
    "1. (100**0.5 * 25 + 3 * 5**3) // 3 ** 2 / (25 * 3 / 5)\n",
    "2. (10.0 * 25 + 3 * 5**3) // 3**2 / (25*3 / 5)\n",
    "3. (10 * 25 + 3 * 125) // 3**2 / (25*3 / 5)\n",
    "4. (250 + 3*125) // 3**2 / (25*3 / 5)\n",
    "5. (250 + 375) // 3**2 / (25*3 / 5)\n",
    "6. (250 + 375) // 3**2 / (75 / 5)\n",
    "7. (250 + 375) // 3**2 / (15.0)\n",
    "8. 625 // 3**2 / 15\n",
    "9. 625 // 9 / 15\n",
    "10.69 / 15\n",
    "11. 4.6"
   ]
  },
  {
   "cell_type": "markdown",
   "metadata": {},
   "source": [
    "__(Part 2)__"
   ]
  },
  {
   "cell_type": "code",
   "execution_count": 8,
   "metadata": {},
   "outputs": [
    {
     "data": {
      "text/plain": [
       "True"
      ]
     },
     "execution_count": 8,
     "metadata": {},
     "output_type": "execute_result"
    }
   ],
   "source": [
    "a = 100\n",
    "b = 25\n",
    "c = 3\n",
    "d = 5\n",
    "\n",
    "d**c + a >= b >= a / b or a // d % 3 > d"
   ]
  },
  {
   "cell_type": "markdown",
   "metadata": {},
   "source": [
    "Explain the result of the above expression as done in class notes. Show what happens at each step and prove that you get the expected result."
   ]
  },
  {
   "cell_type": "raw",
   "metadata": {},
   "source": [
    "# Write your answer here. You can use this Raw-formatted cell or modify its format if you wish as Markdown.\n",
    "\n",
    "1. d**c + a >= b == True. ( 125 + 100 >= 100 ==True) \n",
    "\n",
    "2. b >= a / b == True. ( 25 >= 100 / 25 , 25 >= 4 == True) \n",
    "\n",
    "or\n",
    "\n",
    "3. a // d % 3 > d == False (  100 // 5 % 3 > 5 , 20 % 3 > 5 , 2 > 5 == False )\n",
    "\n"
   ]
  },
  {
   "cell_type": "markdown",
   "metadata": {},
   "source": [
    "----\n",
    "QUESTION 3\n",
    "\n",
    "----"
   ]
  },
  {
   "cell_type": "markdown",
   "metadata": {},
   "source": [
    "Write a `while`-loop that prints all values in the range `[1 .. 10]` inclusive."
   ]
  },
  {
   "cell_type": "code",
   "execution_count": 3,
   "metadata": {},
   "outputs": [
    {
     "name": "stdout",
     "output_type": "stream",
     "text": [
      "1\n",
      "2\n",
      "3\n",
      "4\n",
      "5\n",
      "6\n",
      "7\n",
      "8\n",
      "9\n",
      "10\n",
      "11\n",
      "12\n",
      "13\n",
      "14\n",
      "15\n",
      "16\n",
      "17\n",
      "18\n",
      "19\n",
      "20\n"
     ]
    }
   ],
   "source": [
    "# Write your answer here\n",
    "i = 0\n",
    "while i <= 19:\n",
    "    i += 1\n",
    "    print(i)"
   ]
  },
  {
   "cell_type": "markdown",
   "metadata": {},
   "source": [
    "----\n",
    "QUESTION 4\n",
    "\n",
    "----"
   ]
  },
  {
   "cell_type": "markdown",
   "metadata": {},
   "source": [
    "__FIX__ the `while`-loop in the `Code` block right below so that it prints the following values:\n",
    "\n",
    "    0\n",
    "    15\n",
    "    30\n",
    "    45\n",
    "    60\n",
    "    75\n",
    "    90\n",
    "    105\n",
    "    \n",
    "<span style=\"color:red; font-weight: 800;\">__WARNING__:</span> Make sure you __save__ your work before attempting to run/fix the following code!!!"
   ]
  },
  {
   "cell_type": "code",
   "execution_count": 5,
   "metadata": {},
   "outputs": [
    {
     "name": "stdout",
     "output_type": "stream",
     "text": [
      "0\n",
      "15\n",
      "30\n",
      "45\n",
      "60\n",
      "75\n",
      "90\n",
      "105\n"
     ]
    }
   ],
   "source": [
    "i = 0\n",
    "while i <= 105:\n",
    "    print( i )\n",
    "    i += 15"
   ]
  },
  {
   "cell_type": "markdown",
   "metadata": {},
   "source": [
    "----\n",
    "QUESTION 5\n",
    "\n",
    "----"
   ]
  },
  {
   "cell_type": "markdown",
   "metadata": {},
   "source": [
    "Write a `for`-loop that prints out the following using the `range(.)` call\n",
    "\n",
    "    10 \n",
    "    20 \n",
    "    30 \n",
    "    40 \n",
    "    50 \n",
    "    60 \n",
    "    70 \n",
    "    80 \n",
    "    90\n",
    "    \n",
    "You should not use _hardcode_ any of the above values!"
   ]
  },
  {
   "cell_type": "code",
   "execution_count": 7,
   "metadata": {},
   "outputs": [
    {
     "name": "stdout",
     "output_type": "stream",
     "text": [
      "10\n",
      "20\n",
      "30\n",
      "40\n",
      "50\n",
      "60\n",
      "70\n",
      "80\n",
      "90\n"
     ]
    }
   ],
   "source": [
    "# Write your answer here\n",
    "i = 0\n",
    "for i in range(10,100, 10):\n",
    "    print(i)"
   ]
  },
  {
   "cell_type": "markdown",
   "metadata": {},
   "source": [
    "----\n",
    "QUESTION 6 \n",
    "\n",
    "----"
   ]
  },
  {
   "cell_type": "markdown",
   "metadata": {},
   "source": [
    "Given a list such as\n",
    "\n",
    "    num_list = [1, 3, 4, 6, 8, 9, 11, 13, 15, 16, 17, 18]\n",
    "    \n",
    "Write a Python program that uses a `while`-loop to compute the sum of all integer values _divisible by 3_. Your program should output the value\n",
    "\n",
    "    The sum of all values divisible by 3 is 51\n",
    "for the above list."
   ]
  },
  {
   "cell_type": "code",
   "execution_count": 9,
   "metadata": {},
   "outputs": [
    {
     "name": "stdout",
     "output_type": "stream",
     "text": [
      "The sum of all values divisible by 3 is 51\n"
     ]
    }
   ],
   "source": [
    "# Write your answer here\n",
    "num_list = [1, 3, 4, 6, 8, 9, 11, 13, 15, 16, 17, 18]\n",
    "\n",
    "i = 0\n",
    "sum = 0\n",
    "while i < len(num_list):\n",
    "    if(num_list[i] % 3 == 0):\n",
    "        sum = num_list[i] + sum\n",
    "    i = i + 1    \n",
    "print(\"The sum of all values divisible by 3 is\",sum) "
   ]
  },
  {
   "cell_type": "markdown",
   "metadata": {},
   "source": [
    "----\n",
    "QUESTION 7 \n",
    "\n",
    "----"
   ]
  },
  {
   "cell_type": "markdown",
   "metadata": {},
   "source": [
    "Given a list such as\n",
    "\n",
    "    num_list = [1, 3, 4, 6, 8, 9, 11, 13, 15, 16, 17, 18]\n",
    "    \n",
    "Write a Python program that uses a `for`-loop to compute the sum of all integer values _divisible by 3_. Your program should output the value\n",
    "\n",
    "    The sum of all values divisible by 3 is 51\n",
    "for the above list.\n",
    "\n",
    "Also note the difference in the programs you wrote for the previous question and this one!"
   ]
  },
  {
   "cell_type": "code",
   "execution_count": 10,
   "metadata": {},
   "outputs": [
    {
     "name": "stdout",
     "output_type": "stream",
     "text": [
      "The sum of all values divisible by 3 is 51\n"
     ]
    }
   ],
   "source": [
    "# Write your answer here\n",
    "num_list = [1, 3, 4, 6, 8, 9, 11, 13, 15, 16, 17, 18]\n",
    "i = 0\n",
    "sum = 0\n",
    "for i in (num_list):  \n",
    "     \n",
    "    if(i % 3 == 0): \n",
    "        sum = sum + i   \n",
    "print(\"The sum of all values divisible by 3 is\" ,sum)"
   ]
  },
  {
   "cell_type": "markdown",
   "metadata": {},
   "source": [
    "----\n",
    "QUESTION 8\n",
    "\n",
    "----"
   ]
  },
  {
   "cell_type": "markdown",
   "metadata": {},
   "source": [
    "In the previous homework, one of the tasks you worked on involved writing a Python program that prompted the user for two floating-point values and displayed the result of the first number divided by the second, with exactly six decimal places displayed. For example:\n",
    "\n",
    "    Enter the first value: 37.5\n",
    "    Enter the second value: 4.72\n",
    "    37.5 divided by 4.72 is 7.944915\n",
    "    \n",
    "In this homework, you will no longer need to read values from the keyboard. Instead, you will pick your arguments from the _command line_, so that when you run your program, you will provide these values that your program needs directly as follows&mdash;assuming your program is called `question8.py`&mdash;with the following contents in your current directory:"
   ]
  },
  {
   "cell_type": "markdown",
   "metadata": {},
   "source": [
    "    import sys\n",
    "\n",
    "    arg_1 = float( sys.argv[1] )\n",
    "    arg_2 = float( sys.argv[2] )\n",
    "\n",
    "    print( \"sys.argv[0]: {}\".format( sys.argv[0] ))\n",
    "\n",
    "    result = arg_1 / arg_2\n",
    "    print( \"{} divided by {} is {}\".format( arg_1, arg_2, result ) )"
   ]
  },
  {
   "cell_type": "markdown",
   "metadata": {},
   "source": [
    "Once you have this file ready, you can use Jupyter Lab `%run` _line magic_ to execute these external programs by passing the arguments required from the command line, instead of prompting the user for one value at a time as you did before. For example, you can run `question8.py` as follows:"
   ]
  },
  {
   "cell_type": "code",
   "execution_count": 4,
   "metadata": {},
   "outputs": [
    {
     "name": "stdout",
     "output_type": "stream",
     "text": [
      "sys.argv[0]: question8.py\n",
      "35.0 divided by 8.0 is 4.375\n"
     ]
    }
   ],
   "source": [
    "%run question8.py 35 8"
   ]
  },
  {
   "cell_type": "markdown",
   "metadata": {},
   "source": [
    "Note that `35` will be read and converted to `float` as `arg_1` and `8` will be read and converted to `float` as `arg_2`."
   ]
  },
  {
   "cell_type": "markdown",
   "metadata": {},
   "source": [
    "Your task in this question will be to modify the program in `question8.py` so that it reads three values from the command line and prints out the multiplication of these values. For example:\n",
    "\n",
    "    %run question8.py 3 4 5\n",
    "    \n",
    "should output `3 x 4 x 5 = 60`."
   ]
  },
  {
   "cell_type": "code",
   "execution_count": null,
   "metadata": {},
   "outputs": [],
   "source": [
    "# Copy and paste your code here\n",
    "import argparse\n",
    "\n",
    "if __name__ == \"__main__\":\n",
    "    #initialize the parser\n",
    "    parser = argparse.ArgumentParser(\n",
    "      description = \"math script\")\n",
    "    #add the parameters positional / optional \n",
    "    parser.add_argument(\"--num1\",help = \"Number 1\",type = float)\n",
    "    parser.add_argument(\"--num2\",help = \"Number 2\",type = float)\n",
    "    parser.add_argument(\"--num3\",help = \"Number 3\",type = float)\n",
    "    parser.add_argument(\"--operation\", help = \"provide operator\",default = \"*\")\n",
    "    \n",
    "    #parse the arguments\n",
    "    args = parser.parse_args()\n",
    "    print(args)\n",
    "    result = None\n",
    "    if args.operation == \"*\":\n",
    "        result = args.num1 * args.num2 * args.num3\n",
    "    print(\"Result: \",result)\n",
    "    \n",
    "   \n",
    "\n"
   ]
  },
  {
   "cell_type": "markdown",
   "metadata": {},
   "source": [
    "Demonstrate that your program works as specified using the `%run` line magic."
   ]
  },
  {
   "cell_type": "code",
   "execution_count": null,
   "metadata": {},
   "outputs": [],
   "source": [
    "%run question8.py --num1 3 --num2 4 --num3 5 "
   ]
  },
  {
   "cell_type": "markdown",
   "metadata": {},
   "source": [
    "----\n",
    "QUESTION 9\n",
    "\n",
    "----"
   ]
  },
  {
   "cell_type": "markdown",
   "metadata": {},
   "source": [
    "Write a Python program that uses a `while-`loop to count and print out how many `str` (string) values a given list contains _at the top level_. For example, when you run your program over the following list\n",
    "\n",
    "    items = ['apple', 55, 1.2, 'banana', lambda a: a, \n",
    "             'pear', None, 'cherry', \"\"\"Hello world!\"\"\",\n",
    "             '''The Who''', (\"a\", 5), [(\"a\", \"5\"), (\"b\", 3)]]\n",
    "             \n",
    "your program should print out\n",
    "    \n",
    "    There are 6 string values.\n",
    "   \n",
    "since there are multiple string values in the input list. However, in case there are no string values, your progrma should output\n",
    "\n",
    "    There are no string values.\n",
    "    \n",
    "In case there is only one string value, then it should print out\n",
    "    \n",
    "    There is a single string value\n",
    "    \n",
    "Note that you will have to use the `type(.)` call to determine the type of a given value or object. For example,\n",
    "\n",
    "    >>> type( 1.2 )\n",
    "    float"
   ]
  },
  {
   "cell_type": "code",
   "execution_count": 14,
   "metadata": {},
   "outputs": [
    {
     "name": "stdout",
     "output_type": "stream",
     "text": [
      "There are 6 string values\n",
      "There are no string values\n",
      "There is a single string value\n"
     ]
    }
   ],
   "source": [
    "# Write your answer here\n",
    "items = ['apple', 55, 1.2, 'banana', lambda a: a, 'pear', None, 'cherry',  \"\"\"Hello world!\"\"\", '''The Who''', (\"a\", 5), [(\"a\", \"5\"), (\"b\", 3)]]\n",
    "\n",
    "i = 0\n",
    "\n",
    "\n",
    "while i < len(items):\n",
    "    if(type(items) == str):\n",
    "        \n",
    "        i += 1\n",
    "\n",
    "    i += 1 \n",
    "print(f'There are {i // 2} string values' if i > 0 else \"There no string values\")\n",
    "\n",
    "\n",
    "    \n",
    "print(f'There is a {i} string' if i == 0 else \"There are no string values\")\n",
    "\n",
    "\n",
    "    \n",
    "print(f'There is a single string value' if i > 0 else \"There are no string values\")\n",
    "\n",
    "\n"
   ]
  },
  {
   "cell_type": "markdown",
   "metadata": {},
   "source": [
    "----\n",
    "QUESTION 10 \n",
    "\n",
    "----"
   ]
  },
  {
   "cell_type": "markdown",
   "metadata": {},
   "source": [
    "Do the same as in ___Question 9___, but this time use a `for-`loop, instead of a `while-`loop."
   ]
  },
  {
   "cell_type": "code",
   "execution_count": 17,
   "metadata": {},
   "outputs": [
    {
     "name": "stdout",
     "output_type": "stream",
     "text": [
      "There are 6 string\n",
      "There are no string values\n",
      "There is a single string\n"
     ]
    }
   ],
   "source": [
    "### Write your answer here\n",
    "\n",
    "items = ['apple', 55, 1.2, 'banana', lambda a: a, 'pear', None, 'cherry',  \"\"\"Hello world!\"\"\", '''The Who''', (\"a\", 5), [(\"a\", \"5\"), (\"b\", 3)]]\n",
    "\n",
    "i = 0\n",
    "\n",
    "for item in items:\n",
    "    if(type(item) == str):\n",
    "        i += 1\n",
    "print(f'There are {i} string' if i > 0 else \"There no string values\")\n",
    "\n",
    "if(type(item) == str):\n",
    "    i = 1\n",
    "print(f'There are {i} string' if i == 0 else \"There are no string values\")\n",
    "\n",
    "if(type(item) == str):\n",
    "    i = --1\n",
    "    \n",
    "print(f'There is a single string' if i > 0 else \"There are no string values\")"
   ]
  },
  {
   "cell_type": "markdown",
   "metadata": {},
   "source": [
    "---"
   ]
  },
  {
   "cell_type": "markdown",
   "metadata": {},
   "source": [
    "<center>END OF HOMEWORK</center>"
   ]
  }
 ],
 "metadata": {
  "kernelspec": {
   "display_name": "Python 2",
   "language": "python",
   "name": "python2"
  },
  "language_info": {
   "codemirror_mode": {
    "name": "ipython",
    "version": 3
   },
   "file_extension": ".py",
   "mimetype": "text/x-python",
   "name": "python",
   "nbconvert_exporter": "python",
   "pygments_lexer": "ipython3",
   "version": "3.7.3"
  }
 },
 "nbformat": 4,
 "nbformat_minor": 2
}
