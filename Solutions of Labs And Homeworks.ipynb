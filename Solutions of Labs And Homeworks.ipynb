{
 "cells": [
  {
   "cell_type": "markdown",
   "metadata": {},
   "source": [
    "# Lab Solutions:"
   ]
  },
  {
   "cell_type": "code",
   "execution_count": 3,
   "metadata": {},
   "outputs": [
    {
     "name": "stdout",
     "output_type": "stream",
     "text": [
      "                                                                 Hello\n"
     ]
    }
   ],
   "source": [
    "#Lab 02 Q1)\n",
    "\n",
    "def right_justify( in_str): # Fonskiyonumuzu oluşturduk\n",
    "    \n",
    "    print(in_str.rjust(70)) # Girilen kelimenin önüne 70 boşluk ekledik(rjust methodu ile)\n",
    "                            #fonksiyon parametresi.rjust(\"kaç tane boşluk istiyorsak yazalım\")\n",
    "\n",
    "right_justify(\"Hello\") #Fonksiyona değer yani string atıyarak ekranımıza print olmasını sağladık.(70 boşluk bırakarak)\n",
    "                       #in_str parametremize string yazdık print edilirken 70 boşluk bırakılacak sonra kelimemiz ekrana basılacak."
   ]
  },
  {
   "cell_type": "code",
   "execution_count": 6,
   "metadata": {},
   "outputs": [
    {
     "name": "stdout",
     "output_type": "stream",
     "text": [
      "+ - - - - + - - - - +\n",
      "|         |         |\n",
      "|         |         |\n",
      "|         |         |\n",
      "|         |         |\n",
      "+ - - - - + - - - - +\n",
      "|         |         |\n",
      "|         |         |\n",
      "|         |         |\n",
      "|         |         |\n",
      "+ - - - - + - - - - +\n",
      "+ - - - - + - - - - + - - - - +\n",
      "|         |         |         |\n",
      "|         |         |         |\n",
      "|         |         |         |\n",
      "|         |         |         |\n",
      "+ - - - - + - - - - + - - - - +\n",
      "|         |         |         |\n",
      "|         |         |         |\n",
      "|         |         |         |\n",
      "|         |         |         |\n",
      "+ - - - - + - - - - + - - - - +\n",
      "|         |         |         |\n",
      "|         |         |         |\n",
      "|         |         |         |\n",
      "|         |         |         |\n",
      "+ - - - - + - - - - + - - - - +\n"
     ]
    }
   ],
   "source": [
    "#Lab02 Q2)\n",
    "\n",
    "def first(sutun):\n",
    "    \n",
    "    print(\"+\", end=\" \") # + işaretini print ediyoruz , end tanımlıyoruz\n",
    "    for i in range(sutun-1):# for döngüsüne alıp bir alt satırdaki olayın tekrarlanmasını söylüyoruz\n",
    "        print(\"- - - - +\", end=\" \")  # ilk kısmı yani + - - - - + kısmını yazdık    \n",
    "    print(\"- - - - +\" ) # Sonra - - - - + kısmını printledik yanına \n",
    "    \n",
    " #Özetle üst kısımda  + - - - - + - - - - + kısmını ayarladık \n",
    "\n",
    "def second(sutun):\n",
    "    print(\"|\", end=\" \") # | işaretini print ediyoruz , end yani duracağı yeri söylemek için böyle bir tanım yapıyoruz\n",
    "    for i in range(sutun-1): # for döngüsününe alıp alttaki olayı yazdırıyoruz \n",
    "        print(\"        |\", end=\" \") # ilk | işaretten ne kadar boşluk bırakmak istiyorsak o kadar boşluk bırakıp print ediyoruz.\n",
    "    print(\"        |\" ) # ve en son ki | işareti unutmayalım.\n",
    "    \n",
    "    \n",
    "def grid(sutun,satır ):\n",
    "    #şimdi ise kaç adet | , + veya - olacak ve kaça kaç(Örn;3x3) print edilecek onu yazıyoruz\n",
    "    first(sutun) # ilk satır + - - - - + - - - - + kısmını yazdırkık first(sutun) kodunun başına # koyup test edebilirsin neler olacağını. \n",
    "    for i in range(satır): # yine for döngüsüne alarak kaç defa döngüye gireceğini belirleyeceğiz.\n",
    "        for i in range(4): # 4 yazmamızın sebebi 4 tane | , 4 tane - , 4 tane + 2x2 matrix'inde 3 tane + oluyor.\n",
    "            second(sutun) # | sütünları for döngüsünün içine aldık ki ekrana alt alta çıkabilsin.\n",
    "        first(sutun) # son satır olan  + - - - - + - - - - + kısmını yazdırdık\n",
    "            \n",
    "\n",
    "grid(2,2) # 2 ye 2 bir matrix oluşturduk\n",
    "grid(3,3) # 3 e 3 matrix"
   ]
  },
  {
   "cell_type": "code",
   "execution_count": 8,
   "metadata": {},
   "outputs": [
    {
     "name": "stdout",
     "output_type": "stream",
     "text": [
      "ECC102 is a first-year course\n"
     ]
    }
   ],
   "source": [
    "#Lab 03 Q1)\n",
    "fmt = \"{} is a {} - year course\" # string'imizi tanımladım {} koyduğum yerlere gelmesi gerekenleri bir alt satırda yazdım.\n",
    "print( fmt.format(\"ECC102\", \"first\" ) ) #ekrana bu şekilde print edecek = 'ECC102 is a first-year course.'\n",
    "#kelimeleri veya ''{}'' sayısını değiştirip olayı daha da iyi anlayabilirsin"
   ]
  },
  {
   "cell_type": "code",
   "execution_count": 14,
   "metadata": {},
   "outputs": [
    {
     "name": "stdout",
     "output_type": "stream",
     "text": [
      "30 / 5 = 6.0 \n"
     ]
    }
   ],
   "source": [
    "#Q2)\n",
    "fmt = \"{} {} {} = {} \" # string'imizi yazdık \n",
    "print( fmt.format( \"30\", \"/\", \"5\", 30 / 5 ) ) #Ekrana bu şekilde print edecek '30 / 5 = 6.0'.\n",
    "#30 /  5 i belirtmemiz lazım yoksa hata alırız program çalışmaz. sadece 6 çıkmasını istersen 30 // 5 yazabilirsin."
   ]
  },
  {
   "cell_type": "code",
   "execution_count": 22,
   "metadata": {},
   "outputs": [
    {
     "name": "stdout",
     "output_type": "stream",
     "text": [
      "  Class   | Exam Type| Grade \n",
      "----------|----------|------------- \n",
      "  ECC102  | Midterm  | 78.123 \n",
      "  ECC104  | Final    | 82.45 \n",
      "  ECC108  | Makeup   | 98.00 \n",
      "  ECC200  | Resit    | 100.00 \n"
     ]
    }
   ],
   "source": [
    "#Q3)\n",
    "print(\"  {}   | {}| {} \".format( \"Class\",\"Exam Type\", \"Grade\" ) ) #Class, Exam Type, Grade'i ekrana yazdırdık\n",
    "print(\"{}|{}|{} \".format( \"-\" * 10, \"-\" * 10, \"-\" * 13 ) ) # | işaretlerin arasında kaç tane \"-\" olacağını ekrana yazdırdık.\n",
    "print(\"  {}  | {}  | {:.3f} \".format( \"ECC102\", \"Midterm\", 78.123 ) )#Uygun boşluklar bırakarak ekrana yazdırdık \n",
    "# .3f yazmamızın sebebi 78.123'den sonra diğer sayıları ekrana yansıtmak istemediğimiz için.\n",
    "print(\"  {}  | {}    | {:.2f} \".format( \"ECC104\", \"Final\", 82.45 ) )# uygun boşluklar bırakıp {} içini doldurarak ekrana yazdırdık.\n",
    "print(\"  {}  | {}   | {:.2f} \".format( \"ECC108\", \"Makeup\", 98.0 ) )\n",
    "print(\"  {}  | {}    | {:.2f} \".format( \"ECC200\", \"Resit\", 100 ) )"
   ]
  },
  {
   "cell_type": "code",
   "execution_count": 23,
   "metadata": {},
   "outputs": [
    {
     "name": "stdout",
     "output_type": "stream",
     "text": [
      "3\n",
      "4\n",
      "5\n",
      "6\n",
      "7\n",
      "8\n",
      "9\n",
      "10\n",
      "11\n",
      "12\n",
      "13\n",
      "14\n",
      "15\n"
     ]
    }
   ],
   "source": [
    "#Q4)\n",
    "for i in range(3,16): #For döngüsü oluşturarak range methodu ile 3'ten 15'e kadar olan sayıları yazdırdık 15'de dahil.\n",
    "    print(i)\n",
    "    "
   ]
  },
  {
   "cell_type": "code",
   "execution_count": 24,
   "metadata": {},
   "outputs": [
    {
     "name": "stdout",
     "output_type": "stream",
     "text": [
      "5\n",
      "8\n",
      "11\n",
      "14\n",
      "17\n",
      "20\n",
      "23\n",
      "26\n"
     ]
    }
   ],
   "source": [
    "#Q5)\n",
    "for i in range(5,27, 3): #5'ten 26'ya kadar olan sayıları yazdırdık. fakat 3'er 3 er artarak\n",
    "    print(i)"
   ]
  },
  {
   "cell_type": "code",
   "execution_count": 26,
   "metadata": {},
   "outputs": [
    {
     "name": "stdout",
     "output_type": "stream",
     "text": [
      "True\n",
      "False\n",
      "False\n",
      "True\n",
      "False\n"
     ]
    }
   ],
   "source": [
    "#Lab 04 #Q1)\n",
    "def divisible_by( a, n ): # iki parametre atadık(a,n)\n",
    "    return True if a % n == 0 else False # eğer a sayısının n sayısına bölümünden kalanı 0 ise True yazdır değil ilse False.\n",
    "    #return ederek,  a ve n parametrelerine sayı atadığımızda bize işlemi yapıp true veya false yazdırsın \n",
    "\n",
    "print( divisible_by( 10, 2 ) )   # Should print out: True\n",
    "print( divisible_by( 10, 3 ) )   # Should print out: False\n",
    "print( divisible_by( 22, 4 ) )   # Should print out: False\n",
    "print( divisible_by( 250, 50 )) # Should print out: True\n",
    "print( divisible_by( 101, 37 )) # Should print out: False"
   ]
  },
  {
   "cell_type": "code",
   "execution_count": 27,
   "metadata": {},
   "outputs": [
    {
     "name": "stdout",
     "output_type": "stream",
     "text": [
      "True\n",
      "True\n",
      "False\n",
      "False\n"
     ]
    }
   ],
   "source": [
    "#Q2\n",
    "def is_even( int_value ): #int_value yerine a veya b veya n yazabiliriz sorun yok.\n",
    "    return int_value % 2 == 0 #eğer int_value çift sayı ise True değil ise False yazdırmasını sağladık\n",
    "\n",
    "print( is_even( 4 ) )  # should return True\n",
    "print( is_even( 28 ) ) # should return True\n",
    "print( is_even( 39 ) ) # should return False\n",
    "print( is_even( 1 ) )  # should return False"
   ]
  },
  {
   "cell_type": "code",
   "execution_count": 28,
   "metadata": {},
   "outputs": [
    {
     "name": "stdout",
     "output_type": "stream",
     "text": [
      "False\n",
      "False\n",
      "True\n",
      "True\n"
     ]
    }
   ],
   "source": [
    "#Q3)\n",
    "def is_odd( int_value ):\n",
    "    return int_value % 2 == 1 #eğer int_value tek sayı ise True değil ise False yazdırmasını sağladık\n",
    "\n",
    "print( is_odd( 4 ) )  # should return False\n",
    "print( is_odd( 28 ) ) # should return False\n",
    "print( is_odd( 39 ) ) # should return True\n",
    "print( is_odd( 1 ) )  # should return True"
   ]
  },
  {
   "cell_type": "code",
   "execution_count": 1,
   "metadata": {},
   "outputs": [
    {
     "data": {
      "text/plain": [
       "16"
      ]
     },
     "execution_count": 1,
     "metadata": {},
     "output_type": "execute_result"
    }
   ],
   "source": [
    "#Lab 05 Q1)\n",
    "def power(x,y): #Fonksiyon verilen 2 değerin 1.si tabanı 2.sini ise üssü alarak işlem yapıyor \n",
    "    if y == 0:  #Eğer y 0 olursa cevabı 1 olarak ekrana yazdırmasını söyledik \n",
    "        return 1\n",
    "    if y >= 1: #Eğer y >= 1 ise işlemin yapılıp ekrana cevabı yazdırdık \n",
    "        return x * power(x, y - 1) # power rule; a x a'üssü (y-1)\n",
    "    \n",
    "power(4,2)    \n"
   ]
  },
  {
   "cell_type": "code",
   "execution_count": 20,
   "metadata": {},
   "outputs": [
    {
     "name": "stdout",
     "output_type": "stream",
     "text": [
      "True\n",
      "False\n"
     ]
    }
   ],
   "source": [
    "#Lab 05 Q2)\n",
    "def is_power(a,b): #Fonksiyon verilen iki sayının bölümünden kalan 0 veya 1 ise True, dğil ise ekrana False yazdıracak\n",
    "    if(a % b == 0): # örn.(eğer 64 % 2 == 0 ise return True )\n",
    "        return True\n",
    "        if(a//b == 1): # örn.(eğer 2 / 2 == 1 ise  return True) değil ise False yazdır.\n",
    "            return True\n",
    "    else:\n",
    "        return False\n",
    "    \n",
    "print(is_power(64,2))  # 62 // 2 = 32 ama 64 % 2 = 0 olduğu için true çıktı\n",
    "print(is_power(9,2))  # 9 // 2 = 4 olduğu için false çıktı \n",
    "    "
   ]
  },
  {
   "cell_type": "code",
   "execution_count": 19,
   "metadata": {},
   "outputs": [
    {
     "name": "stdout",
     "output_type": "stream",
     "text": [
      "[3]\n",
      "[2, 3]\n"
     ]
    }
   ],
   "source": [
    "#Lab 06 Q1)\n",
    "def middle( lst ): #fonksiyonu oluşturduk\n",
    "    x = [] # boş liste, [2:3] atadık bize return olarak verilen listenin [2]. elemanı hariç diğer elemanları silecek.\n",
    "    for a in lst:\n",
    "        if a not in x:\n",
    "            x.append(a)\n",
    "    return x[2:3] # verilen listeye göre listenin örn.[1,2,3,4,5] , [2] = [3] elemanını haricinde diğerlerini sildirdik.\n",
    "                  #ve kalan elemanlar ile yeni bir list oluşturup ekrana yazdırdık\n",
    "\n",
    "def center(lst1): \n",
    "    z = []\n",
    "    for b in lst1:\n",
    "        if b not in z:\n",
    "            z.append(b)\n",
    "    return z[1:3]  # [1,2,3,4] listesindeki [1:3] yani 2,3 kısmı hariç geri kalanları silip 2,3 elemanları ile ekrana\n",
    "                   #[2,3] yeni listemizi yazdık.\n",
    "    \n",
    "print(middle([1,2,3,4,5])) # lst ve lst1 listelerini oluşturduk ve bu iki listedeki bazı yerler hariç geri kalanının..\n",
    "                           #silinip kalan elemanlarla yeni bir listeyi ekrana print ettirdik.\n",
    "print(center([1,2,3,4]))\n",
    "    "
   ]
  },
  {
   "cell_type": "code",
   "execution_count": 25,
   "metadata": {},
   "outputs": [
    {
     "name": "stdout",
     "output_type": "stream",
     "text": [
      "None\n",
      "[2, 3, 4]\n"
     ]
    }
   ],
   "source": [
    "#Q2)\n",
    "def chop(lst): #Yeni bir fonksiyon ve parametresini yazdık\n",
    "    del lst[0] #listenin 1. elemanı \n",
    "    del lst[-1] # ve son elemanını sildik \n",
    "    \n",
    "def middle(lst):  # ekrana yazdırma \n",
    "    new = lst[1:] #bu komutla geriye kalan elemanları return ediyoruz\n",
    "    return new\n",
    "\n",
    "\n",
    "my_list = [1, 2, 3, 4, 5] #işlemlerin yapılacağı listemizi oluşturduk.\n",
    "chop_list = chop(my_list) #None yazdırmak için \n",
    "\n",
    "print(chop_list)  # Should be None çünkü (anladığım kadarıyla) chop_list'i [1,2,3,4,5] li olan listeye eşitliyoruz ama \n",
    "                  #ortada öyle bir liste yok çünkü elimizde [2,3,4] listesi kaldı bu yüzden ekrana None çıkıyor.\n",
    "print(my_list)    # Should be [2,3,4]"
   ]
  },
  {
   "cell_type": "code",
   "execution_count": 27,
   "metadata": {},
   "outputs": [
    {
     "name": "stdout",
     "output_type": "stream",
     "text": [
      "[4, 5, 6, 7, 8]\n",
      "[3, 6, 9, 12, 15]\n",
      "[0, 0, 1, 1, 1]\n",
      "[1, 8, 27, 64, 125]\n"
     ]
    }
   ],
   "source": [
    "#Q3)  #Verilen sayıları verilen işlemleri yapıp liste içerisinde print ettik\n",
    "def addition(n): \n",
    "    return n + 3 # toplama fonksiyonunu oluşturduk.\n",
    "def multiply(a):\n",
    "    return a * 3 # çarpma\n",
    "def division(b):\n",
    "    return b // 3 # bölme\n",
    "def exponential(c):\n",
    "    return c ** 3 # üssü \n",
    "\n",
    "    \n",
    "#Map methodu kullanarak her bir sayı belirlediğimiz sayı ile işlem yapıyor(return n + 3) mesela 1 + 3 = 4 \n",
    "# ve listenin ilk elemanı 4 oluyor..\n",
    "\n",
    "#We double all numbers using map() \n",
    "\n",
    "numbers =  (1, 2, 3, 4, 5) \n",
    "numbers1 = (1, 2, 3, 4, 5) \n",
    "numbers2 = (1, 2, 3, 4, 5) \n",
    "numbers3 = (1, 2, 3, 4, 5) \n",
    "\n",
    "result = map(addition, numbers) \n",
    "result1 = map(multiply, numbers1)\n",
    "result2 = map(division, numbers2)\n",
    "result3 = map(exponential, numbers3)\n",
    "\n",
    "print(list(result)) \n",
    "print(list(result1)) \n",
    "print(list(result2)) \n",
    "print(list(result3)) "
   ]
  },
  {
   "cell_type": "code",
   "execution_count": 2,
   "metadata": {},
   "outputs": [
    {
     "name": "stdout",
     "output_type": "stream",
     "text": [
      "[1087.5, 2140.0, 3157.5, 3758.0]\n"
     ]
    }
   ],
   "source": [
    "#Lab 09\n",
    "#Q1)\n",
    "def total_purchase_price(stocks): #Fonksiyonumuzu tanımladık\n",
    "    res = [] #Boş listemizi oluşturduk\n",
    "    for block in stocks: \n",
    "        shares = block[2] #Verilen listede shares = 2 yaptık yani her listenin 2. elemanı 25, 50, 75 ve 100\n",
    "        purchase_price = block[1] #Verilen listede price = 1 yaptık yani 43.50, 42.80, 42.10 ve 37.58\n",
    "        res += [shares * purchase_price] #Bu sayılara işlem yaptırdık 25 * 43.50 , 50 * 42.80...\n",
    "    return res #return diyerek işlem sonucunda oluşan elemanları listeye ekledik\n",
    "\n",
    "portfolio= [ ( \"25-Jan-2001\", 43.50, 25, 'CAT', 92.45 ),  \n",
    "( \"25-Jan-2001\", 42.80, 50, 'DD', 51.19 ),\n",
    "( \"25-Jan-2001\", 42.10, 75, 'EK', 34.87 ),\n",
    "( \"25-Jan-2001\", 37.58, 100, 'GM', 37.58 )\n",
    "]\n",
    "\n",
    "print(total_purchase_price(portfolio)) #ve ekrana yansıttık.\n"
   ]
  },
  {
   "cell_type": "code",
   "execution_count": 1,
   "metadata": {},
   "outputs": [
    {
     "name": "stdout",
     "output_type": "stream",
     "text": [
      "Count of pairs is 3\n"
     ]
    }
   ],
   "source": [
    "#Q2)#Bu program verilen listedki elemanların toplamını listedeki eleman saysına bölü sonucu ekrana yazdırıyor.\n",
    "def getPairsCount(arr, n, sum): \n",
    "      \n",
    "    count = 0 # Initialize result \n",
    "  \n",
    "    # Consider all possible pairs \n",
    "    # and check their sums \n",
    "    for i in range(0, n): \n",
    "        for j in range(i + 1, n): \n",
    "            if arr[i] + arr[j] == sum: \n",
    "                count += 1\n",
    "      \n",
    "    return count \n",
    "\n",
    "arr = [1, 5, 7, -1, 5] \n",
    "n = len(arr) \n",
    "sum = 6\n",
    "print(\"Count of pairs is\", \n",
    "      getPairsCount(arr, n, sum)) "
   ]
  },
  {
   "cell_type": "code",
   "execution_count": 6,
   "metadata": {},
   "outputs": [
    {
     "name": "stdout",
     "output_type": "stream",
     "text": [
      "Variance:  21704\n",
      "Standard Deviation:  147.323\n"
     ]
    }
   ],
   "source": [
    "#Q3)\n",
    "import math \n",
    "  \n",
    "# Function for calculating variance \n",
    "def variance(s, n): \n",
    "  \n",
    "    # Compute mean (average of \n",
    "    # elements) \n",
    "    sum = 0\n",
    "    for i in range(0 ,n): \n",
    "        sum += s[i] \n",
    "    mean = sum /n \n",
    "  \n",
    "    # Compute sum squared  \n",
    "    # differences with mean. \n",
    "    sqDiff = 0\n",
    "    for i in range(0 ,n): \n",
    "        sqDiff += ((s[i] - mean)  \n",
    "                * (s[i] - mean)) \n",
    "    return sqDiff / n \n",
    "  \n",
    "  \n",
    "\n",
    "def standardDeviation(arr, n): \n",
    "  \n",
    "    return math.sqrt(variance(arr, n)) \n",
    "  \n",
    "# Driver Code \n",
    "x = [600, 470, 170, 430, 300] \n",
    "n = len(x) \n",
    "print(\"Variance: \", int(variance(x, n))) \n",
    "print(\"Standard Deviation: \", \n",
    "      round(standardDeviation(x, n), 3)) "
   ]
  },
  {
   "cell_type": "markdown",
   "metadata": {},
   "source": [
    "# Labs finished."
   ]
  },
  {
   "cell_type": "markdown",
   "metadata": {},
   "source": [
    "# Homework Solutions:"
   ]
  },
  {
   "cell_type": "code",
   "execution_count": 32,
   "metadata": {},
   "outputs": [
    {
     "name": "stdout",
     "output_type": "stream",
     "text": [
      "Input a number in binary: 1001\n",
      "Your decimal number is: 9\n"
     ]
    }
   ],
   "source": [
    "#HW 01 Q3) #Binary to Decimal (İkili sayı sisteminden Ondalıklı Sayıya çevirme)\n",
    "\n",
    "a = input(\"Input a number in binary: \") # Kullanıcıdan 01'li sayı istiyoruz\n",
    "decimal = 0 #ondalık değişkenini tanımladık\n",
    "for digit in a: #a daki sayıyı\n",
    "    decimal = decimal*2 + int(digit)#Alınan 01'li sayıyı ikili sayıya çevirmemize yarayan formül.\n",
    "    #a = 1001 ise 1*2**0 + 0*2**1 + 0*2**2 + 1*2**3\n",
    "    \n",
    "print(\"Your decimal number is: \" + str(decimal)) # sayımızı str formatına çevirdikki herhangi bir hata almayalım eğer,\n",
    "#str(decimal), yazmaksak str + int toplaması yapmış oluruz ki pythonda böyle birşey yapılamaz\n"
   ]
  },
  {
   "cell_type": "code",
   "execution_count": 36,
   "metadata": {},
   "outputs": [
    {
     "name": "stdout",
     "output_type": "stream",
     "text": [
      "İnput a decimal number: 12\n",
      "Your binary number is: 1100\n"
     ]
    }
   ],
   "source": [
    "#Q4) #Decimal to Binary\n",
    "decimal = int(input(\"İnput a decimal number: \")) #kullanıcıdan bir sayı aldık \n",
    "binary=\"\" #binary'i tanımladık\n",
    "while decimal>0: # 9 > 0 \n",
    "    #giriilen sayı 9 ve burdaki işlem sayı 9'a eşit olana kadar devam edecek\n",
    "  binary = str(decimal%2) + binary \n",
    "  decimal = decimal//2\n",
    "  #12//2 = 6   12 % 2 = 0\n",
    "  #6//2 = 3    6 % 2 = 0\n",
    "  #3//2 = 1    3 % 2 = 1\n",
    "  #1 // 2 = 1  1 % 2 = 1\n",
    "\n",
    "print(\"Your binary number is: \" + binary)"
   ]
  },
  {
   "cell_type": "code",
   "execution_count": 39,
   "metadata": {},
   "outputs": [
    {
     "name": "stdout",
     "output_type": "stream",
     "text": [
      "Enter the power of two10 \n",
      "Two to the power of  10 is 1024\n"
     ]
    }
   ],
   "source": [
    "#HW 02 Q2) #hazırda olan sayının, kullanıcıdan sayı isteyip hazırda olan sayının üssünü alıyoruz \n",
    "b = 2 #sayımızı belirledik\n",
    "a = int(input(\"Enter the power of two\")) # kullanıcıdan bir sayı istedik\n",
    "print(\"Two to the power of \",a, \"is\", b**a) # kullanıcı 10 sayısını girdiğinde 2 üssü 10 = 1024"
   ]
  },
  {
   "cell_type": "code",
   "execution_count": 40,
   "metadata": {},
   "outputs": [
    {
     "name": "stdout",
     "output_type": "stream",
     "text": [
      "Enter the base? 2\n",
      "Enter the power of? 10\n",
      "Two to the power of  10 is 1024\n"
     ]
    }
   ],
   "source": [
    "#Q3) #Bu sefer hazır bir sayı belirlemeyip her iki sayıyıda kullanıcıdan aldık.\n",
    "a = int(input(\"Enter the base? \"))\n",
    "b = int(input(\"Enter the power of? \"))\n",
    "print(\"Two to the power of \",b, \"is\", a**b)"
   ]
  },
  {
   "cell_type": "code",
   "execution_count": 41,
   "metadata": {},
   "outputs": [
    {
     "name": "stdout",
     "output_type": "stream",
     "text": [
      "Enter the left most digit: 1\n",
      "Enter the next digit: 0\n",
      "Enter the next digit: 0\n",
      "Enter the next digit: 1\n",
      "The value is:  9\n"
     ]
    }
   ],
   "source": [
    "#Q4  #Kullanıcıdan alınan ondalık(01) sayıyı ikili sayı sistemine çevirdik.\n",
    "a = int(input(\"Enter the left most digit: \"))\n",
    "b = int(input(\"Enter the next digit: \" ))\n",
    "c = int(input(\"Enter the next digit: \"))\n",
    "d = int(input(\"Enter the next digit: \"))\n",
    "#Kullanıcıdan alınan 4 tane veriyi formüle uygulayıp ekrana yazdırıyoruz.\n",
    "print(\"The value is: \" , (a*2**0 + b*2**1 + c*2**2 + d*2**3))"
   ]
  },
  {
   "cell_type": "code",
   "execution_count": 42,
   "metadata": {},
   "outputs": [
    {
     "name": "stdout",
     "output_type": "stream",
     "text": [
      "How many cities? 10\n",
      "For 10 cities, there are 3628800 possible routes\n"
     ]
    }
   ],
   "source": [
    "#Q5) #Hocamızın anlattığı bir algoritma vardı kaçtane şehir olursa şehirler arası kaçtane rota oluşturabiliriz\n",
    "#Kullanıcıdan şehir sayısını alıp o sayının faktöriyelini alıyoruz ve ekrana yazdırıyoruz.\n",
    "import math \n",
    "a = int(input(\"How many cities? \"))\n",
    "b = math.factorial(a)\n",
    "print(\"For\" , a , \"cities, there are\" , b , \"possible routes\")"
   ]
  },
  {
   "cell_type": "code",
   "execution_count": 43,
   "metadata": {},
   "outputs": [
    {
     "name": "stdout",
     "output_type": "stream",
     "text": [
      "Enter the first value: 13\n",
      "Enter the second value: 3\n",
      "13 divided by 3 is 4.33\n"
     ]
    }
   ],
   "source": [
    "#Q6)#Burda bölünen 2 sayının (13 / 3 = 4.33) \".\" sından sonra kaç adet rakam olacağını belirliyoruz.\n",
    "a = int(input(\"Enter the first value: \"))\n",
    "b = int(input(\"Enter the second value: \"))\n",
    "# kullanıcıdan sayıları aldık\n",
    "c = (\"{:.2f}\".format( a / b))\n",
    "# çıkan sonucun sonunda \".\" tan sonra 2 sayı gelmesini sağladık (\"{:.2f}\") burdaki 2 \".\"dan sonra 2 adet sayı geleceğini belirttik.\n",
    "print(a, \"divided by\" ,b, \"is\", c,) #sonucu print ettik."
   ]
  },
  {
   "cell_type": "code",
   "execution_count": 44,
   "metadata": {},
   "outputs": [
    {
     "name": "stdout",
     "output_type": "stream",
     "text": [
      "Enter the first value: 13\n",
      "Enter the second value: 3\n",
      "13.0 divided by 3.0 is 4.333333\n"
     ]
    }
   ],
   "source": [
    "#Q7) Burda ise bölünen 2 sayının . sından sonra 6 adet sayı gelmesini sağlıyoruz. \"{:.6f}\"\n",
    "a = float(input(\"Enter the first value: \"))\n",
    "b = float(input(\"Enter the second value: \"))\n",
    "c = (\"{:.6f}\".format( a / b))\n",
    "print(a, \"divided by\" ,b, \"is\", c,)"
   ]
  },
  {
   "cell_type": "code",
   "execution_count": 45,
   "metadata": {},
   "outputs": [
    {
     "name": "stdout",
     "output_type": "stream",
     "text": [
      "Enter the first value: 5400\n",
      "Enter the second value: 8.3\n",
      "5400.0 divided by 8.3 is 6.51e+02\n"
     ]
    }
   ],
   "source": [
    "#Q8) #Ondalık sayının  scientific notation (bilimsel gösterimi)\n",
    "a = float(input(\"Enter the first value: \"))\n",
    "b = float(input(\"Enter the second value: \"))\n",
    "c = (\"{:.6e}\".format( a / b)) #\".\" sonra kaçtane geleceğini belirledik e koyarak  scientific notation tanımını yaptık.\n",
    "print(a, \"divided by\" ,b, \"is\", c,)"
   ]
  },
  {
   "cell_type": "code",
   "execution_count": 46,
   "metadata": {},
   "outputs": [
    {
     "name": "stdout",
     "output_type": "stream",
     "text": [
      "Enter a character: A\n",
      "The Unicode encoding for character 'A' is 65\n",
      "Enter a character: a\n",
      "The Unicode encoding for character 'a' is 97\n",
      "Enter a character: s\n",
      "The Unicode encoding for character 's' is 115\n",
      "Enter a character: f\n",
      "The Unicode encoding for character 'f' is 102\n"
     ]
    }
   ],
   "source": [
    "#Q9)Kullanıcıdan 4 tane herhangi bir karakter alıp o karakterin karşılık geldiği ondalık sayıyı ekrana veriyoruz.\n",
    "    #ord() fonksiyonu ile\n",
    "\n",
    "i = 0\n",
    "while i < 4: #Programı 4 kez soru soracak şekilde ayarladık\n",
    "    i += 1 #1.soru i = 1, 2.soru i = 2, 3.soru i= 3, 4.soru i = 4 ve program durur. \n",
    "    c = input(\"Enter a character: \")\n",
    "    print(\"The Unicode encoding for character '\" + c + \"' is\",ord(c)) #ord(c) yazıyoruz ki ord methodunu kullanabilelim."
   ]
  },
  {
   "cell_type": "code",
   "execution_count": 47,
   "metadata": {},
   "outputs": [
    {
     "name": "stdout",
     "output_type": "stream",
     "text": [
      "Enter the first value: 7\n",
      "Enter the second value: 5\n",
      "12\n",
      "2\n",
      "35\n",
      "1.40\n",
      "1\n",
      "2\n",
      "16,807\n"
     ]
    }
   ],
   "source": [
    "#Q10) #Kullanıcıdan 2 sayı isteyip aşağıdaki işlemlerin sonucunu print ettiriyoruz.\n",
    "a = int(input(\"Enter the first value: \"))\n",
    "b = int(input(\"Enter the second value: \"))\n",
    "\n",
    "print(a + b) \n",
    "print(a - b)\n",
    "print(a * b)\n",
    "print(\"{:.2f}\".format(a / b)) # \".\" dan sonra sadece 2 sayı gelmesini sağlıyoruz\n",
    "print(a // b)\n",
    "print(a % b)\n",
    "print(\"{:,}\".format(a**b)) #normalde 7**5 = 16807 fakat burda araya bir virgül koymak istiyoruz onuda \"{:,}\"\n",
    "                           #bu işlemle sağlıyoruz."
   ]
  },
  {
   "cell_type": "code",
   "execution_count": 48,
   "metadata": {},
   "outputs": [
    {
     "name": "stdout",
     "output_type": "stream",
     "text": [
      "The sum of all values divisible by 3 is 51\n"
     ]
    }
   ],
   "source": [
    "#HW 03 Q6) #Verilen listede bulunan sayıların 3'e tam bölünebilenlerin toplamını veren program\n",
    "num_list = [1, 3, 4, 6, 8, 9, 11, 13, 15, 16, 17, 18]\n",
    "i = 0\n",
    "sum = 0\n",
    "\n",
    "while i < len(num_list): #i sayısı = 0 listenin içindeki elemanların sayısı 12, 0 > 12\n",
    "    \n",
    "    if(num_list[i] % 3 == 0): #listenin içindeki sayıların 3'e tam bölünenleri \n",
    "        \n",
    "        sum = num_list[i] + sum # o sayıların toplamını \n",
    "        \n",
    "    i = i + 1  #döngü sonsuza girmemesi için veya i += 1 de yazılabilir ve bunu yazmadığımız zaman,\n",
    "               #ekrana herhangi bir sayı çıktısı alamayız.\n",
    "        \n",
    "print(\"The sum of all values divisible by 3 is\",sum) #sonucu print ettik."
   ]
  },
  {
   "cell_type": "code",
   "execution_count": 49,
   "metadata": {},
   "outputs": [
    {
     "name": "stdout",
     "output_type": "stream",
     "text": [
      "The sum of all values divisible by 3 is 51\n"
     ]
    }
   ],
   "source": [
    "# Q7) #Programı bu sefer for loop ile yazdık.\n",
    "num_list = [1, 3, 4, 6, 8, 9, 11, 13, 15, 16, 17, 18]\n",
    "i = 0\n",
    "sum = 0\n",
    "for i in (num_list):  \n",
    "    if(i % 3 == 0): # 3,6,9,15,18\n",
    "        sum = sum + i # 3+6+9+15+18 = 51\n",
    "        \n",
    "print(\"The sum of all values divisible by 3 is\" ,sum)"
   ]
  },
  {
   "cell_type": "code",
   "execution_count": 53,
   "metadata": {},
   "outputs": [
    {
     "name": "stdout",
     "output_type": "stream",
     "text": [
      "There are 6 string values\n",
      "There are no string values\n",
      "There is a single string value\n"
     ]
    }
   ],
   "source": [
    "#Q9) Verilem listedeki string sayısını while döngüsü ile göstermek\n",
    "\n",
    "items = ['apple', 55, 1.2, 'banana', lambda a: a, 'pear', None, 'cherry',  \"\"\"Hello world!\"\"\", '''The Who''', (\"a\", 5), [(\"a\", \"5\"), (\"b\", 3)]]\n",
    "\n",
    "i = 0\n",
    "\n",
    "\n",
    "while i < len(items): # i < 12:\n",
    "    if(type(items) == str): #Listelerdeki elemanların string olanlarını al\n",
    "        i += 1  # bu kod satırını yazmadığımız zaman aşağıdaki i += 1'i buraya almak zorundayız yoksa program çalışmaz.\n",
    "                 #onuda yukarıya alıp yazarsak yine program çalışmaz çünkü KeyboardInterrupt hatası alıyoruz.\n",
    "            \n",
    "    i += 1 #while döngüsü için yazdığımız i+= 1  \n",
    "    \n",
    "print(f'There are {i // 2} string values' if i > 0 else \"There no string values\")\n",
    "        #i = 12 i // 2 = 6 \n",
    "\n",
    "    \n",
    "print(f'There is a {i} string' if i == 0 else \"There are no string values\")\n",
    "                                  # i = 0 olur ve sağdaki string ekrana çıkar.\n",
    "\n",
    "    \n",
    "print(f'There is a single string value' if i > 0 else \"There are no string values\")\n",
    "                                    # 12 > 0 dan bu yüzden soldaki string ekrana çıkacak."
   ]
  },
  {
   "cell_type": "code",
   "execution_count": 56,
   "metadata": {},
   "outputs": [
    {
     "name": "stdout",
     "output_type": "stream",
     "text": [
      "There are 6 string\n",
      "There are no string values\n",
      "There is a single string\n"
     ]
    }
   ],
   "source": [
    "#Q10) While döngüsü ile yazdığımız programın for döngüsü ile yazılmış hali.\n",
    "items = ['apple', 55, 1.2, 'banana', lambda a: a, 'pear', None, 'cherry',  \"\"\"Hello world!\"\"\", '''The Who''', (\"a\", 5), [(\"a\", \"5\"), (\"b\", 3)]]\n",
    "\n",
    "i = 0\n",
    "\n",
    "for item in items:\n",
    "    if(type(item) == str):#listenin içindeki stringler\n",
    "        i += 1\n",
    "        #i = 1,2,3,4,5 ve 6 \n",
    "        #i = 6 \n",
    "        \n",
    "print(f'There are {i} string' if i > 0 else \"There no string values\")\n",
    "        #i sayımızı buraya yazdırmak için {} kullanıyoruz.(Format metodu)\n",
    "    \n",
    "if(type(item) == str):\n",
    "    i = 1 # eğer i += 1 dersek i = 1,2,3,4,5 ve 6 olur gerek yok burda i == 0 yapıp listede hiç string olmadığını yazdırıyoruz.\n",
    "print(f'There are {i} string' if i == 0 else \"There are no string values\")\n",
    "                                \n",
    "if(type(item) == str):\n",
    "    i += 1 #i = 1 yazsak bile program bize soldaki stringi yazdırkcak çünkü if i > 0 yazdık i 0 dan büyük olduğu için \n",
    "           #soldaki string ekrana yansıdı.\n",
    "    \n",
    "print(f'There is a single string' if i > 0 else \"There are no string values\")"
   ]
  },
  {
   "cell_type": "code",
   "execution_count": 57,
   "metadata": {},
   "outputs": [
    {
     "name": "stdout",
     "output_type": "stream",
     "text": [
      "20\n"
     ]
    }
   ],
   "source": [
    "#HW 04 Q1) \n",
    "def sum_positive_even_numbers_1(number_list): #For döngüsü ile listedeki sayıların 2'ye tam bölünebilen sayıların,\n",
    "                                              #toplamını yazdırıyoruz\n",
    "    sum = 0\n",
    "    for n in number_list:\n",
    "        if n % 2 == 0: # 2,4,6,8\n",
    "            sum = n + sum # 2 + 4 + 6 + 8 = 20\n",
    "                           \n",
    "           \n",
    "    return sum # 20 değerini return ediyoruz ki ekrana 20 sayısını verebilelim\n",
    "print(sum_positive_even_numbers_1( [1, 2, 3, 4, 5, 6, 7, 8] ))\n"
   ]
  },
  {
   "cell_type": "code",
   "execution_count": 140,
   "metadata": {},
   "outputs": [
    {
     "name": "stdout",
     "output_type": "stream",
     "text": [
      "20\n"
     ]
    }
   ],
   "source": [
    "#Q2)\n",
    "def sum_positive_even_numbers_2(number_list):\n",
    "    sum = 0\n",
    "    n = 0\n",
    "    number_list = [n for n in number_list if n % 2 == 0] # 2,4,6,8 i aldık\n",
    "    for n in number_list: # [2,4,6,8] listesinin içindeki elemanları \n",
    "        sum += n          #topluyoruz. ve toplamı return ediyoruz.\n",
    "    return sum\n",
    "print(sum_positive_even_numbers_2( [1, 2, 3, 4, 5, 6, 7, 8] ))      "
   ]
  },
  {
   "cell_type": "code",
   "execution_count": 147,
   "metadata": {},
   "outputs": [
    {
     "name": "stdout",
     "output_type": "stream",
     "text": [
      "[5, 6, 7, 8, 9, 10, 11]\n",
      "[5, 8, 11]\n"
     ]
    }
   ],
   "source": [
    "#Q3)Bir liste oluşturup o listeyi ekrana yazdırıyoruz birde içindeki\n",
    "#elmanları en az 2şer2şer olmak üzere arttırıp 2.listeyi ekrana yazdırıyoruz\n",
    "def asc_range(start,end,increment = 1): #3 parametresi olan bir fonksiyon\n",
    "    i = start                            #oluşturduk\n",
    "    while i < end: #i < 12 = 5 < 12\n",
    "        yield i #yield i yazmadığımızda nonetype objesini döngü içinde \n",
    "                 #kullanamyacağımıza dair hata alıyoruz.\n",
    "                 #yield i = 5,6,7,8,9,10,11            \n",
    "        i += increment #kaçar kaçar arttıracağımızı yazdırmak için.\n",
    "                       # increment 3 ise sonuç [5,8,11]\n",
    "print(list(asc_range(5,12))) #ilk önce normal listeyi yazdık.\n",
    "print(list(asc_range(5,12,3)))  #ve 3er 3er arttırdık.\n",
    "             "
   ]
  },
  {
   "cell_type": "code",
   "execution_count": 209,
   "metadata": {},
   "outputs": [
    {
     "name": "stdout",
     "output_type": "stream",
     "text": [
      "[5, 6, 7, 8, 9, 10, 11]\n"
     ]
    }
   ],
   "source": [
    "#Q4)\n",
    "ar = []\n",
    "def asc_range(start,end):\n",
    "    for i in [start]:\n",
    "        if i == end:\n",
    "           \n",
    "            ar.append(end)\n",
    "            \n",
    "            return ar\n",
    "        else:\n",
    "            if i != 4: # eğer i != 5 olursa listemizdeki 5 değeri silinir.\n",
    "                ar.append(i)\n",
    "                \n",
    "            return asc_range(i + 1, end) # i + 3 yazarsak [5,8,11] listemize ulaşmış oluruz.\n",
    "        \n",
    "print(list(asc_range(5,11)))\n",
    "#Malesef 2. listemi yani [5,8,11] listesini print yapamadım bir türlü bende yapabildiğim kadarını yaptım"
   ]
  },
  {
   "cell_type": "code",
   "execution_count": 211,
   "metadata": {},
   "outputs": [
    {
     "name": "stdout",
     "output_type": "stream",
     "text": [
      "Enter Selection: C\n",
      "Enter temprature to convert: 55\n",
      "Enter ending temprature to convert: 65\n",
      "   F    C\n",
      "  55   12\n",
      "  56   13\n",
      "  57   13\n",
      "  58   14\n",
      "  59   15\n",
      "  60   15\n",
      "  61   16\n",
      "  62   16\n",
      "  63   17\n",
      "  64   17\n"
     ]
    }
   ],
   "source": [
    "#Q5) #Fahrenheit to Celsius\n",
    "def getConvertTo():\n",
    "    a = input(\"Enter Selection: \") #Kullanıcı F girerse F. to C. , C girerse C to F \n",
    "    while a != \"F\" and a != \"C\": # F veya C haricinde başka bir şey girerse soruyu tekrarlatıyoruz\n",
    "        a = input(\"Enter Selection \")\n",
    "    return a\n",
    "a = getConvertTo() #Aldığımız değeri return ediyoruz\n",
    "\n",
    "def FahrenToCelsius(start,end): # 2 parametresi olan bir fonksiyon yazdık\n",
    "    print(\"   F  \", \" C\") # F ve C başlığımızı attık.\n",
    "    \n",
    "    for temp in range (start,end): #for döngüsüne alıp kullanıcının girdiği 2 sayının arasında sayıları alt alta yazdıracağız.\n",
    "        converted_temp = (temp - 32) * 5/9 #Formülümüz.\n",
    "        print(\" \",format(temp),\" \",format(int(converted_temp))) #temp = F , converted_temp ise Celsius\n",
    "                                                                # İf temp = 50 , converted_temp = 10 \n",
    "temp_start = int(input(\"Enter temprature to convert: \"))\n",
    "temp_end = int(input(\"Enter ending temprature to convert: \")) #Kullanıcıdan 2 ayrı sayı istedik.\n",
    "\n",
    "FahrenToCelsius(temp_start, temp_end) \n",
    "#Bu fonksiyonla 2 soruyu birden çözmü oluyoruz Q5 ve Q6 nın cevabı olarak sayılabilir."
   ]
  },
  {
   "cell_type": "code",
   "execution_count": 204,
   "metadata": {},
   "outputs": [
    {
     "name": "stdout",
     "output_type": "stream",
     "text": [
      "ThiS IS A TesT StrinG\n"
     ]
    }
   ],
   "source": [
    "#Q7) #Yazdığımız stringi alıp bazı harfleri büyük bazı harflerini küçük yazdırıyoruz\n",
    "def capitalize(string):\n",
    "    string, result = string.title(), \"\" #word[-1].upper() yerine lower yazarsak sadece kelimenin baş harflerini büyük yazmış oluruz.\n",
    "    for word in string.split():#2.word[-1] yerine [-2] yazarsak out of range hatası alırız -1 olmalı!\n",
    "        result += word[:-1] + word[-1].upper() + \" \" #ilk word :-1 yazmalıyizki tüm harfleri alsın :-2 yazarsak bazı harfleri\n",
    "                                                     #kaldırır.         \n",
    "    return result[:-1] # :-1 yazmamızın sebebi tüm kelimeyi alıp ekrana yazdırmak.      \n",
    "\n",
    "print(capitalize(\"This is a test string\"))"
   ]
  },
  {
   "cell_type": "code",
   "execution_count": 188,
   "metadata": {},
   "outputs": [
    {
     "name": "stdout",
     "output_type": "stream",
     "text": [
      "6\n"
     ]
    }
   ],
   "source": [
    "#Q8)  #Fonksiyon kullanarak listenin içerisinde kaçtane string oluduğunu yazdırıyoruz.(For loop)\n",
    "def count_strings(items):\n",
    "    i = 0\n",
    "    for item in items: \n",
    "        if(type(item) == str):\n",
    "            i += 1\n",
    "    return i\n",
    "\n",
    "t =  ['apple', 55, 1.2, 'banana', lambda a: a, 'pear', None, 'cherry', \"\"\"Hello world!\"\"\", -2, '''The Who''', (\"a\", 5), [(\"a\", \"5\"), (\"b\", 3)]]\n",
    "\n",
    "print(count_strings(t))"
   ]
  },
  {
   "cell_type": "code",
   "execution_count": 189,
   "metadata": {},
   "outputs": [
    {
     "name": "stdout",
     "output_type": "stream",
     "text": [
      "6\n"
     ]
    }
   ],
   "source": [
    "#Q9) #Bu seferde while loop kullanarak listede kaç tane string olduğunu yazdırıyoruz\n",
    "def count_strings(items):\n",
    "    i = 0\n",
    "    count = 0 \n",
    "    while i < len(items):\n",
    "        if(isinstance(items[i],str)):\n",
    "            count += 1\n",
    "        i += 1\n",
    "            \n",
    "    return count   \n",
    "            \n",
    "                  \n",
    "t =  ['apple', 55, 1.2, 'banana', lambda a: a, 'pear', None, 'cherry', \"\"\"Hello world!\"\"\", -2, '''The Who''', (\"a\", 5), [(\"a\", \"5\"), (\"b\", 3)]]\n",
    "\n",
    "print(count_strings(t))\n",
    "\n",
    "#type() adlı bir fonksiyon vardı. Bu fonksiyonu bir nesnenin hangi veri tipinde olduğunu tespit etmek için kullanıyorduk:\n",
    "#\n",
    "#>>> type('can')\n",
    "\n",
    "#<class 'str'>\n",
    "\n",
    "#İşte buna benzer şekilde, tip denetimi için kullanabileceğimiz bir fonksiyon daha var. Bu fonksiyonun adı isinstance().\n"
   ]
  },
  {
   "cell_type": "code",
   "execution_count": 5,
   "metadata": {},
   "outputs": [
    {
     "name": "stdout",
     "output_type": "stream",
     "text": [
      "1.5811388300841898\n"
     ]
    }
   ],
   "source": [
    "#Q10)\n",
    "import statistics \n",
    "\n",
    "def std_deviation( values ):\n",
    "    return values\n",
    "\n",
    "values = [1, 2, 3, 4, 5] #listemizi tekrar tanımlamalıyız  %s = format methodu yani is den sonra hesaplanan sayı gelecek.\n",
    "\n",
    "print(statistics.stdev(values))\n",
    "\n",
    "# statistics fonksiyonu verilen listedeki elementlerin averajlarını hesaplayabilir.\n",
    "#stdev() is standart deviatiton'un kısaltılmışı hocamız 10. soruda bunla ilgili bir formülde vermişti bizde hocamızın  \n",
    "#bizden istediğini python diline döküyoruz"
   ]
  },
  {
   "cell_type": "code",
   "execution_count": 191,
   "metadata": {},
   "outputs": [
    {
     "name": "stdout",
     "output_type": "stream",
     "text": [
      "[[1.         0.95750662]\n",
      " [0.95750662 1.        ]]\n"
     ]
    }
   ],
   "source": [
    "#Q11)\n",
    "import numpy as np # numpy'i np olarak tanıttık\n",
    "def correlation_coefficient(sample_a , sample_b): #2 parametreli bir fonk. oluşturduk\n",
    "    \n",
    "    return np.corrcoef(sample_a,sample_b)        #np.corrcoef(), np = numpy sample_a ve b yi return ediyorz\n",
    "# np.corrcoef(x, y=None, rowvar=True, bias=<no value>, ddof=<no value>\n",
    "\n",
    "sample_a = [14.2, 16.4, 11.9, 15.2, 18.5, 22.1, 19.4, 25.1, 23.4, 18.1, 22.6, 17.2]\n",
    "sample_b = [ 215, 325, 185, 332, 406, 522, 412, 614, 544, 421, 445, 408]   \n",
    "#sample_a ve sample_b ye değer atıyoruz \n",
    "print(np.corrcoef( sample_a, sample_b)) #return'daki işlem yapılarak sonucu print ediyoruz."
   ]
  },
  {
   "cell_type": "code",
   "execution_count": 8,
   "metadata": {},
   "outputs": [
    {
     "name": "stdout",
     "output_type": "stream",
     "text": [
      "3.1415926535897913\n"
     ]
    }
   ],
   "source": [
    "#HW 05\n",
    "#Q1)\n",
    "#Nilakantha Series (Pi hesaplama)\n",
    "\n",
    "the_pi = 0.0\n",
    "the_num = 2.0\n",
    "\n",
    "for i in range(500000):\n",
    "    # the_pi = 0.13968253968253966 (the_num'dan önceki pi sayısı) \n",
    "    the_pi = the_pi + 4.0 /(the_num* (the_num+1.0)* (the_num+2.0)) - 4.0 /((the_num+2.0)* (the_num+3.0)* (the_num+4.0))\n",
    "    the_num += 4.0 \n",
    "    # the_pi = 0.1415926535897915 (the_num += 4.0'dan sonra pi sayısı)\n",
    "\n",
    "print(the_pi + 3 ) \n",
    "\n",
    "#the_pi + 2 yazarsak 2.14.. diye gider (the_pi + 3) yazmamızın sebebi 3.14 ile başlatıyoruz.\n",
    "#the_pi = 3.1415926535897913\n"
   ]
  },
  {
   "cell_type": "code",
   "execution_count": 9,
   "metadata": {},
   "outputs": [
    {
     "name": "stdout",
     "output_type": "stream",
     "text": [
      "55\n"
     ]
    }
   ],
   "source": [
    "#Q2)\n",
    "def sum_first_n(n): #fonksiyonumuzu oluşturduk. fonksiyon_ismi(aldığı değer)\n",
    "    \n",
    "    return n * (n + 1) // 2   # 10 * (10+1) = 110 // 2 = 55 bize 10'a kadar olan sayıların toplamını verir.\n",
    "    #return ederek işlemin gerçekleşmesini sağlıyoruz böylece ekrana sonucu yazdırabileceğiz.\n",
    "\n",
    "#n = 10 #n parametresine sayımızı atıyoruz\n",
    "\n",
    "print(sum_first_n(10)) #sonucu print ediyoruz.\n",
    "\n",
    "\n"
   ]
  },
  {
   "cell_type": "code",
   "execution_count": 10,
   "metadata": {},
   "outputs": [
    {
     "name": "stdout",
     "output_type": "stream",
     "text": [
      "24\n"
     ]
    }
   ],
   "source": [
    "#Q3)\n",
    "import math #math kütüphanemizi import ettik ki içindeki factorial() methodunu kullanabilelim.\n",
    "\n",
    "def mul_first_n(a): #fonksiyonumuzu oluştuyoruz..\n",
    "    \n",
    "    return math.factorial(a) #işlemimizi return ediyoruz math.factorial(4) = 4x3x2x1 = 24 \n",
    "\n",
    "a = 4 # sayı atayarak o sayının faktoriyelinin hesaplanmasını sağlıyoruz.\n",
    "\n",
    "print(mul_first_n(a)) # sonucu print ediyoruz.\n",
    "\n"
   ]
  },
  {
   "cell_type": "code",
   "execution_count": 11,
   "metadata": {},
   "outputs": [
    {
     "name": "stdout",
     "output_type": "stream",
     "text": [
      "▫▫▫▫▫NEU▫▫▫▫▫\n"
     ]
    }
   ],
   "source": [
    "#Q4)\n",
    "def right_justify( in_str): #fonksiyonumuzu oluşturduk. \n",
    "    \n",
    "    val = \"▫\"*5  #değişkenimizi tanımladık  val = ▫▫▫▫▫ \n",
    "    #format methodu ile bizden istenileni gerçekleştirebiliriz. \n",
    "    \n",
    "    print(\"{}{}{}\".format(val, in_str, val))  #{▫▫▫▫▫}{NEU}{▫▫▫▫▫} = val, in_str, val\n",
    "\n",
    "right_justify(\"NEU\") #fonskiyonumuzun parametresine değerimizi atadık. in_str = NEU\n",
    "\n",
    "#ve sounç; ▫▫▫▫▫NEU▫▫▫▫▫\n"
   ]
  },
  {
   "cell_type": "code",
   "execution_count": 12,
   "metadata": {},
   "outputs": [
    {
     "name": "stdout",
     "output_type": "stream",
     "text": [
      "4.0\n"
     ]
    }
   ],
   "source": [
    "#Q5)\n",
    "import statistics #Median methodunu kullanmak için ilk olarak içinde bulunduğu kütüphaneyi tanımlamamız gerek import\n",
    "#etmemiz gerek ki kullanabilelim.\n",
    "\n",
    "def median(values): #fonskiyonumuzu oluşturduk.\n",
    "    return values #Values'i return ederek onu values = [1, 3, 5, 7] ve üzerinde gerekli işlemlern yapılmasını sağladık.\n",
    "\n",
    "values = [1, 3, 5, 7]\n",
    "\n",
    "print(statistics.median(values)) #eğer  len(values) = 4 ise çıkan sonuç ortadki 2  sayının toplamı / 2 \n",
    "# [ 1, 3 , 5 , 7] = listenin eleman sayısı 4 yani çift sayı çift sayı olduğu için (5 + 3) / 2 = 4.0\n",
    "# values = [1, 3 , 5] = eleman sayısı = 3 yani tek sayı bu yüzden listenin ortadaki elemanını ekrana yazdırılacak.\n"
   ]
  },
  {
   "cell_type": "code",
   "execution_count": 13,
   "metadata": {},
   "outputs": [
    {
     "name": "stdout",
     "output_type": "stream",
     "text": [
      "['1', '6', '3', '8', '4']\n",
      "The list is = ['1', '6', '3', '8', '4']\n"
     ]
    }
   ],
   "source": [
    "#Q6)\n",
    "def letterize(number): #fonksiyonumuzu oluşturduk.\n",
    "    return number #number = 16384 değerimizi return ettik.\n",
    "\n",
    "#eğer return etmezsek expected an indented block hatası alırız : 'ten sonra bir alt satıra inilip 4 boşluk bırakılıp\n",
    "#birşeyler yazmalıyız ki ortada bir fonskiyon olduğu anlaşılsın ortada bir değerin return edildiği belli olsun.\n",
    "#bu soru için sadece return number dememiz yeterli\n",
    "\n",
    "number = 16384 #numaramızı yazdık.\n",
    "\n",
    "res = [str(x) for x in str(number)] \n",
    "#numaramızı alıp str yaptık yani str(x) = \"1\", \"6\" ,\"3\" , \"8\" , \"4\"\n",
    "#str(x) = her bir rakama \"\" işareti atadık\n",
    "#str(number) = 16384 sayısını string olarak tanımladık.\n",
    "#ve res = [\"1\", \"6\", \"3\", \"8\", \"4\"] = liste olarak dışarıya çıkmasının sebebi [] parantezlerini kullanmamız bu [] içine\n",
    "#yazdık ki hocamızın bizden istediği gibi bir çıktı olsun \n",
    "\n",
    "print(res) # = [\"1\", \"6\", \"3\", \"8\", \"4\"]\n",
    "#burda çıkan res str cinsinden değil. for döngüsünden bir liste çıkıyor sadece.Onu print ettik.\n",
    "\n",
    "print(\"The list is = \" + str(res)) #burda res'i print ederken str(res) yazmazsak hata alırız.\n",
    "\n",
    "#hata = Can only concatenate str (not \"list\") to str yani siz listenin yanında bir string ile print etmek isterseniz.\n",
    "# o listeyi str'ye çevirmeniz lazım çünkü str + str ekrana çıkabilir ama str + list olmaz."
   ]
  },
  {
   "cell_type": "code",
   "execution_count": 14,
   "metadata": {},
   "outputs": [
    {
     "name": "stdout",
     "output_type": "stream",
     "text": [
      "[2, 0, 9, 1, 0]\n"
     ]
    }
   ],
   "source": [
    "#Q7)\n",
    "def letterize(number):\n",
    "    return number \n",
    "\n",
    "number = 20910\n",
    "\n",
    "res = [int(x) for x in str(number)] #int(x) = 2,0,9,1,0\n",
    "\n",
    "#str(number) yazmamızın sebebi; for döngüsünde int bir değer döndürülemez hata alırız. ( int' object is not iterable ).\n",
    "#string olarak çeviriyoruz ki for döngümüz çalışssın.\n",
    "\n",
    "print(res)\n"
   ]
  },
  {
   "cell_type": "code",
   "execution_count": 15,
   "metadata": {},
   "outputs": [
    {
     "data": {
      "image/png": "[encoded data removed]",
      "text/plain": [
       "<Figure size 432x288 with 1 Axes>"
      ]
     },
     "metadata": {
      "needs_background": "light"
     },
     "output_type": "display_data"
    }
   ],
   "source": [
    "#Q8)\n",
    "import matplotlib.pyplot as plt #grafiğimizi oluşturmak için gerekli kütüphanemizi import edip onu plt olarak tanımladık.\n",
    "import numpy as np #numpy kütüphanesini import ederek onu np olarak tanımladık.\n",
    "%matplotlib inline   \n",
    "\n",
    "x = np.arange(0, 4*np.pi ,0.1)   # start,stop,step,  4 * np.pi = 12.566370614359172\n",
    "#x = np.arange(4*np.pi) = array([ 0.,  1.,  2.,  3.,  4.,  5.,  6.,  7.,  8.,  9., 10., 11., 12.])\n",
    "\n",
    "y = np.sin(x) # x'in sinüsünü aldık \n",
    "z = np.cos(x) # ve cosünüsü\n",
    "\n",
    "plt.plot(x,y,x,z) # aldığımız sinüs ve cosünüsü (x,y) grafiğini çizdirdik mavi olan, sonra ise (x,z) grafiğini çizdirdik.\n",
    "\n",
    "#plt.xlabel('x values from 0 to 4pi')   \n",
    "#plt.ylabel('sin(x) and cos(x)')\n",
    "#plt.title('Plot of sin and cos from 0 to 4pi')\n",
    "#plt.legend(['sin(x)', 'cos(x)'])    \n",
    "\n",
    "plt.show() #işlemlerden sonra grafiğin ekranda görünmesi için plt.show() kodumuzu kullandık."
   ]
  },
  {
   "cell_type": "code",
   "execution_count": 17,
   "metadata": {},
   "outputs": [
    {
     "name": "stdout",
     "output_type": "stream",
     "text": [
      "[][][]\n",
      "[][][]\n",
      "[][][]\n",
      "[][][]\n"
     ]
    }
   ],
   "source": [
    "#Q9\n",
    "def grid(x, y):\n",
    "    \n",
    "    return \"\\n\".join(\"[]\" * y for _ in range(x))\n",
    "\n",
    "print(grid(4, 3))"
   ]
  },
  {
   "cell_type": "code",
   "execution_count": 18,
   "metadata": {},
   "outputs": [
    {
     "name": "stdout",
     "output_type": "stream",
     "text": [
      "Fibonacci series is;\n",
      "[1, 1, 2, 3, 5, 8, 13, 21, 34, 55]\n"
     ]
    }
   ],
   "source": [
    "#Q10)\n",
    "def fibo(num): #fonksiyonumuzu tanımladık.\n",
    "    first = 0 #değişkenlerimizi tanımladık. \n",
    "    second = 1 #eğer second = 0 yaparsak bulunan tüm sayılar 0 olacak.\n",
    "    result = [] #boş listemizi tanımladık.\n",
    "    \n",
    "    print(\"Fibonacci series is;\") \n",
    "    \n",
    "    for i in range(0,num): #0 dan başlamazsak 10'a kadar olan fibonacci sayısının son sayısını listemize yazdıramayız.\n",
    "# 0 ve num yani num = 10  for i in range(0,10)   \n",
    "\n",
    "        third = first + second # 0 + 1 = 1 , 1 + 1 = 2, 1 + 2 = 3, 2 + 3 = 5, 3 + 5 = 8, 5 + 8 = 13..\n",
    "        \n",
    "        #bulduğumuz bu sayıları listemize ekliyoruz yani result = [1, 1, 2, 3, 5..]\n",
    "        result.append(second)\n",
    "        \n",
    "        first = second #first değişkenimizi second'a eşitlemezsek bu listedeki bütün elamanlar = [1, 1, 1, 1, 1..]\n",
    "        second = third #second değişkenimizi de third e eşitleyerek for döngümüzün içinde 10'a kadar olan sayıların\n",
    "        #listelerini elde ediyoruz first = second eşitlediğimiz için second'ı da third'e eşitlememiz lazımki yine liste\n",
    "        # = [1, 1, 1..] olmasın.\n",
    "        \n",
    "    return result # ve listemizi return ediyoruz ki ekrana yazdırabilelim return result yazmadığımız takdirde\n",
    "    #ekranda sadece None yazar ve tabiki return değişkenizimi for döngüsünün dışına yazıyoruz..\n",
    "\n",
    "\n",
    "print(fibo(10)) #ve num değişkenimize değer atıyoruz ki listemizi elde edebilelim.. \n",
    "\n",
    "\n",
    "# burdaki linkte fibonacci ile alakalı bir resim var daha iyi anlamak için bakabilirsiniz..\n",
    "#https://en.wikipedia.org/wiki/Fibonacci_number#/media/File:PascalTriangleFibanacci.svg"
   ]
  },
  {
   "cell_type": "markdown",
   "metadata": {},
   "source": [
    "# Homeworks Finshed."
   ]
  },
  {
   "cell_type": "code",
   "execution_count": null,
   "metadata": {},
   "outputs": [],
   "source": []
  }
 ],
 "metadata": {
  "kernelspec": {
   "display_name": "Python 3",
   "language": "python",
   "name": "python3"
  },
  "language_info": {
   "codemirror_mode": {
    "name": "ipython",
    "version": 3
   },
   "file_extension": ".py",
   "mimetype": "text/x-python",
   "name": "python",
   "nbconvert_exporter": "python",
   "pygments_lexer": "ipython3",
   "version": "3.7.3"
  }
 },
 "nbformat": 4,
 "nbformat_minor": 2
}
